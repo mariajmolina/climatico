{
 "cells": [
  {
   "cell_type": "code",
   "execution_count": 1,
   "id": "cd4fb90f-9129-47b9-9206-124c5e26c41f",
   "metadata": {},
   "outputs": [],
   "source": [
    "from geocat.comp import interp_hybrid_to_pressure\n",
    "import xarray as xr\n",
    "import numpy as np"
   ]
  },
  {
   "cell_type": "code",
   "execution_count": 2,
   "id": "4d7ee9dc-38a0-4a42-8b7b-4fba48b3b6e0",
   "metadata": {},
   "outputs": [],
   "source": [
    "from config import directory_data"
   ]
  },
  {
   "cell_type": "code",
   "execution_count": 3,
   "id": "4c0d0699-0539-4698-9457-1706c6407ba6",
   "metadata": {},
   "outputs": [],
   "source": [
    "files_to_interp_u = [\n",
    "                'b.e11.B1850C5CN.f09_g16.005.cam.h0.U.040001-049912.nc',\n",
    "                'b.e11.B1850C5CN.f09_g16.005.cam.h0.U.050001-059912.nc',\n",
    "                'b.e11.B1850C5CN.f09_g16.005.cam.h0.U.060001-069912.nc',\n",
    "                'b.e11.B1850C5CN.f09_g16.005.cam.h0.U.070001-079912.nc',\n",
    "                'b.e11.B1850C5CN.f09_g16.005.cam.h0.U.080001-089912.nc',\n",
    "                'b.e11.B1850C5CN.f09_g16.005.cam.h0.U.090001-099912.nc',\n",
    "                'b.e11.B1850C5CN.f09_g16.005.cam.h0.U.100001-109912.nc',\n",
    "                'b.e11.B1850C5CN.f09_g16.005.cam.h0.U.110001-119912.nc',\n",
    "                'b.e11.B1850C5CN.f09_g16.005.cam.h0.U.120001-129912.nc',\n",
    "                'b.e11.B1850C5CN.f09_g16.005.cam.h0.U.130001-139912.nc',\n",
    "                'b.e11.B1850C5CN.f09_g16.005.cam.h0.U.140001-149912.nc',\n",
    "                'b.e11.B1850C5CN.f09_g16.005.cam.h0.U.150001-159912.nc',\n",
    "                'b.e11.B1850C5CN.f09_g16.005.cam.h0.U.160001-169912.nc',\n",
    "                'b.e11.B1850C5CN.f09_g16.005.cam.h0.U.170001-179912.nc',\n",
    "                'b.e11.B1850C5CN.f09_g16.005.cam.h0.U.180001-189912.nc',\n",
    "                'b.e11.B1850C5CN.f09_g16.005.cam.h0.U.190001-199912.nc',\n",
    "                'b.e11.B1850C5CN.f09_g16.005.cam.h0.U.200001-209912.nc',\n",
    "                'b.e11.B1850C5CN.f09_g16.005.cam.h0.U.210001-220012.nc',\n",
    "                'b.e11.B1850LENS.f09_g16.FWAtSalG02Sv.cam.h0.U.000101-005012.nc',\n",
    "                'b.e11.B1850LENS.f09_g16.FWAtSalG02Sv.cam.h0.U.005101-010012.nc',\n",
    "                'b.e11.B1850LENS.f09_g16.FWAtSalG02Sv.cam.h0.U.010101-015012.nc',\n",
    "                'b.e11.B1850LENS.f09_g16.FWAtSalG02Sv.cam.h0.U.015101-020012.nc',\n",
    "                'b.e11.B1850LENS.f09_g16.FWAtSalG02Sv.cam.h0.U.020101-025012.nc',\n",
    "                'b.e11.B1850LENS.f09_g16.FWAtSalG02Sv.cam.h0.U.025101-030012.nc',\n",
    "                'b.e11.B1850LENS.f09_g16.FWAtSalG02Sv.cam.h0.U.030101-035012.nc',\n",
    "                'b.e11.B1850LENS.f09_g16.FWAtSalG02Sv.cam.h0.U.035101-040012.nc',\n",
    "                'b.e11.B1850LENS.f09_g16.FWAtSalG02Sv.cam.h0.U.040101-045012.nc',\n",
    "                'b.e11.B1850LENS.f09_g16.FWAtSalG02Sv.cam.h0.U.045101-050012.nc',\n",
    "                'b.e11.B1850LENS.f09_g16.FWAtSalG02Sv.cam.h0.U.050101-055012.nc',\n",
    "                'b.e11.B1850LENS.f09_g16.FWAtSalG02Sv.cam.h0.U.055101-060012.nc',\n",
    "                'b.e11.B1850LENS.f09_g16.FWAtSalG02Sv.cam.h0.U.060101-065012.nc',\n",
    "                'b.e11.B1850LENS.f09_g16.FWAtSalG02Sv.cam.h0.U.065101-070012.nc',\n",
    "                'b.e11.B1850LENS.f09_g16.FWAtSalG02Sv.cam.h0.U.070101-075012.nc',\n",
    "                'b.e11.B1850LENS.f09_g16.FWAtSalG02Sv.cam.h0.U.075101-080312.nc',\n",
    "                'b.e11.B1850LENS.f09_g16.FWAtSalG04Sv.cam.h0.U.000101-005012.nc',\n",
    "                'b.e11.B1850LENS.f09_g16.FWAtSalG04Sv.cam.h0.U.005101-010012.nc',\n",
    "                'b.e11.B1850LENS.f09_g16.FWAtSalG04Sv.cam.h0.U.010101-015012.nc',\n",
    "                'b.e11.B1850LENS.f09_g16.FWAtSalG04Sv.cam.h0.U.015101-020012.nc',\n",
    "                'b.e11.B1850LENS.f09_g16.FWAtSalG04Sv.cam.h0.U.020101-025012.nc',\n",
    "                'b.e11.B1850LENS.f09_g16.FWAtSalG04Sv.cam.h0.U.025101-030012.nc',\n",
    "                'b.e11.B1850LENS.f09_g16.FWAtSalG04Sv.cam.h0.U.030101-035012.nc',\n",
    "                'b.e11.B1850LENS.f09_g16.FWAtSalG04Sv.cam.h0.U.035101-040012.nc',\n",
    "                'b.e11.B1850LENS.f09_g16.FWAtSalG04Sv.cam.h0.U.040101-045012.nc',\n",
    "                'b.e11.B1850LENS.f09_g16.FWAtSalG04Sv.cam.h0.U.045101-050012.nc',\n",
    "                'b.e11.B1850LENS.f09_g16.FWAtSalG04Sv.cam.h0.U.050101-055012.nc',\n",
    "                'b.e11.B1850LENS.f09_g16.FWAtSalG04Sv.cam.h0.U.055101-060012.nc',\n",
    "                'b.e11.B1850LENS.f09_g16.FWAtSalG04Sv.cam.h0.U.060101-065012.nc',\n",
    "                'b.e11.B1850LENS.f09_g16.FWAtSalG04Sv.cam.h0.U.065101-070012.nc',\n",
    "                'b.e11.B1850LENS.f09_g16.FWAtSalG04Sv.cam.h0.U.070101-075012.nc',\n",
    "                'b.e11.B1850LENS.f09_g16.FWAtSalG04Sv.cam.h0.U.075101-080012.nc',\n",
    "                'b.e11.B1850LENS.f09_g16.FWAtSalP02Sv.cam.h0.U.000101-005012.nc',\n",
    "                'b.e11.B1850LENS.f09_g16.FWAtSalP02Sv.cam.h0.U.005101-010012.nc',\n",
    "                'b.e11.B1850LENS.f09_g16.FWAtSalP02Sv.cam.h0.U.010101-015012.nc',\n",
    "                'b.e11.B1850LENS.f09_g16.FWAtSalP02Sv.cam.h0.U.015101-020012.nc',\n",
    "                'b.e11.B1850LENS.f09_g16.FWAtSalP02Sv.cam.h0.U.020101-025012.nc',\n",
    "                'b.e11.B1850LENS.f09_g16.FWAtSalP02Sv.cam.h0.U.025101-030012.nc',\n",
    "                'b.e11.B1850LENS.f09_g16.FWAtSalP02Sv.cam.h0.U.030101-035012.nc',\n",
    "                'b.e11.B1850LENS.f09_g16.FWAtSalP02Sv.cam.h0.U.035101-040012.nc',\n",
    "                'b.e11.B1850LENS.f09_g16.FWAtSalP02Sv.cam.h0.U.040101-045012.nc',\n",
    "                'b.e11.B1850LENS.f09_g16.FWAtSalP02Sv.cam.h0.U.045101-050012.nc',\n",
    "                'b.e11.B1850LENS.f09_g16.FWAtSalP02Sv.cam.h0.U.050101-055012.nc',\n",
    "                'b.e11.B1850LENS.f09_g16.FWAtSalP02Sv.cam.h0.U.055101-060012.nc',\n",
    "                'b.e11.B1850LENS.f09_g16.FWAtSalP02Sv.cam.h0.U.060101-065012.nc',\n",
    "                'b.e11.B1850LENS.f09_g16.FWAtSalP02Sv.cam.h0.U.065101-070012.nc',\n",
    "                'b.e11.B1850LENS.f09_g16.FWAtSalP02Sv.cam.h0.U.070101-075012.nc',\n",
    "                'b.e11.B1850LENS.f09_g16.FWAtSalP02Sv.cam.h0.U.075101-080012.nc',\n",
    "                'b.e11.B1850LENS.f09_g16.FWAtSalP04Sv.cam.h0.U.000101-005012.nc',\n",
    "                'b.e11.B1850LENS.f09_g16.FWAtSalP04Sv.cam.h0.U.005101-010012.nc',\n",
    "                'b.e11.B1850LENS.f09_g16.FWAtSalP04Sv.cam.h0.U.010101-015012.nc',\n",
    "                'b.e11.B1850LENS.f09_g16.FWAtSalP04Sv.cam.h0.U.015101-020012.nc',\n",
    "                'b.e11.B1850LENS.f09_g16.FWAtSalP04Sv.cam.h0.U.020101-025012.nc',\n",
    "                'b.e11.B1850LENS.f09_g16.FWAtSalP04Sv.cam.h0.U.025101-030012.nc',\n",
    "                'b.e11.B1850LENS.f09_g16.FWAtSalP04Sv.cam.h0.U.030101-035012.nc',\n",
    "                'b.e11.B1850LENS.f09_g16.FWAtSalP04Sv.cam.h0.U.035101-040012.nc',\n",
    "                'b.e11.B1850LENS.f09_g16.FWAtSalP04Sv.cam.h0.U.040101-045012.nc',\n",
    "                'b.e11.B1850LENS.f09_g16.FWAtSalP04Sv.cam.h0.U.045101-050012.nc',\n",
    "                'b.e11.B1850LENS.f09_g16.FWAtSalP04Sv.cam.h0.U.050101-055012.nc',\n",
    "                'b.e11.B1850LENS.f09_g16.FWAtSalP04Sv.cam.h0.U.055101-060012.nc',\n",
    "                'b.e11.B1850LENS.f09_g16.FWAtSalP04Sv.cam.h0.U.060101-065012.nc',\n",
    "                'b.e11.B1850LENS.f09_g16.FWAtSalP04Sv.cam.h0.U.065101-070012.nc',\n",
    "                'b.e11.B1850LENS.f09_g16.FWAtSalP04Sv.cam.h0.U.070101-075012.nc',\n",
    "                'b.e11.B1850LENS.f09_g16.FWAtSalP04Sv.cam.h0.U.075101-080012.nc',\n",
    "                'b.e11.B1850LENS.f09_g16.FWPaSalP04Sv.cam.h0.U.000101-005012.nc',\n",
    "                'b.e11.B1850LENS.f09_g16.FWPaSalP04Sv.cam.h0.U.005101-010012.nc',\n",
    "                'b.e11.B1850LENS.f09_g16.FWPaSalP04Sv.cam.h0.U.010101-015012.nc',\n",
    "                'b.e11.B1850LENS.f09_g16.FWPaSalP04Sv.cam.h0.U.015101-020012.nc',\n",
    "                'b.e11.B1850LENS.f09_g16.FWPaSalP04Sv.cam.h0.U.020101-025012.nc',\n",
    "                'b.e11.B1850LENS.f09_g16.FWPaSalP04Sv.cam.h0.U.025101-030012.nc',\n",
    "                'b.e11.B1850LENS.f09_g16.FWPaSalP04Sv.cam.h0.U.030101-035012.nc']\n",
    "\n",
    "files_to_interp_v = [\n",
    "                'b.e11.B1850C5CN.f09_g16.005.cam.h0.V.040001-049912.nc',\n",
    "                'b.e11.B1850C5CN.f09_g16.005.cam.h0.V.050001-059912.nc',\n",
    "                'b.e11.B1850C5CN.f09_g16.005.cam.h0.V.060001-069912.nc',\n",
    "                'b.e11.B1850C5CN.f09_g16.005.cam.h0.V.070001-079912.nc',\n",
    "                'b.e11.B1850C5CN.f09_g16.005.cam.h0.V.080001-089912.nc',\n",
    "                'b.e11.B1850C5CN.f09_g16.005.cam.h0.V.090001-099912.nc',\n",
    "                'b.e11.B1850C5CN.f09_g16.005.cam.h0.V.100001-109912.nc',\n",
    "                'b.e11.B1850C5CN.f09_g16.005.cam.h0.V.110001-119912.nc',\n",
    "                'b.e11.B1850C5CN.f09_g16.005.cam.h0.V.120001-129912.nc',\n",
    "                'b.e11.B1850C5CN.f09_g16.005.cam.h0.V.130001-139912.nc',\n",
    "                'b.e11.B1850C5CN.f09_g16.005.cam.h0.V.140001-149912.nc',\n",
    "                'b.e11.B1850C5CN.f09_g16.005.cam.h0.V.150001-159912.nc',\n",
    "                'b.e11.B1850C5CN.f09_g16.005.cam.h0.V.160001-169912.nc',\n",
    "                'b.e11.B1850C5CN.f09_g16.005.cam.h0.V.170001-179912.nc',\n",
    "                'b.e11.B1850C5CN.f09_g16.005.cam.h0.V.180001-189912.nc',\n",
    "                'b.e11.B1850C5CN.f09_g16.005.cam.h0.V.190001-199912.nc',\n",
    "                'b.e11.B1850C5CN.f09_g16.005.cam.h0.V.200001-209912.nc',\n",
    "                'b.e11.B1850C5CN.f09_g16.005.cam.h0.V.210001-220012.nc',\n",
    "                'b.e11.B1850LENS.f09_g16.FWAtSalG02Sv.cam.h0.V.000101-005012.nc',\n",
    "                'b.e11.B1850LENS.f09_g16.FWAtSalG02Sv.cam.h0.V.005101-010012.nc',\n",
    "                'b.e11.B1850LENS.f09_g16.FWAtSalG02Sv.cam.h0.V.010101-015012.nc',\n",
    "                'b.e11.B1850LENS.f09_g16.FWAtSalG02Sv.cam.h0.V.015101-020012.nc',\n",
    "                'b.e11.B1850LENS.f09_g16.FWAtSalG02Sv.cam.h0.V.020101-025012.nc',\n",
    "                'b.e11.B1850LENS.f09_g16.FWAtSalG02Sv.cam.h0.V.025101-030012.nc',\n",
    "                'b.e11.B1850LENS.f09_g16.FWAtSalG02Sv.cam.h0.V.030101-035012.nc',\n",
    "                'b.e11.B1850LENS.f09_g16.FWAtSalG02Sv.cam.h0.V.035101-040012.nc',\n",
    "                'b.e11.B1850LENS.f09_g16.FWAtSalG02Sv.cam.h0.V.040101-045012.nc',\n",
    "                'b.e11.B1850LENS.f09_g16.FWAtSalG02Sv.cam.h0.V.045101-050012.nc',\n",
    "                'b.e11.B1850LENS.f09_g16.FWAtSalG02Sv.cam.h0.V.050101-055012.nc',\n",
    "                'b.e11.B1850LENS.f09_g16.FWAtSalG02Sv.cam.h0.V.055101-060012.nc',\n",
    "                'b.e11.B1850LENS.f09_g16.FWAtSalG02Sv.cam.h0.V.060101-065012.nc',\n",
    "                'b.e11.B1850LENS.f09_g16.FWAtSalG02Sv.cam.h0.V.065101-070012.nc',\n",
    "                'b.e11.B1850LENS.f09_g16.FWAtSalG02Sv.cam.h0.V.070101-075012.nc',\n",
    "                'b.e11.B1850LENS.f09_g16.FWAtSalG02Sv.cam.h0.V.075101-080312.nc',\n",
    "                'b.e11.B1850LENS.f09_g16.FWAtSalG04Sv.cam.h0.V.000101-005012.nc',\n",
    "                'b.e11.B1850LENS.f09_g16.FWAtSalG04Sv.cam.h0.V.005101-010012.nc',\n",
    "                'b.e11.B1850LENS.f09_g16.FWAtSalG04Sv.cam.h0.V.010101-015012.nc',\n",
    "                'b.e11.B1850LENS.f09_g16.FWAtSalG04Sv.cam.h0.V.015101-020012.nc',\n",
    "                'b.e11.B1850LENS.f09_g16.FWAtSalG04Sv.cam.h0.V.020101-025012.nc',\n",
    "                'b.e11.B1850LENS.f09_g16.FWAtSalG04Sv.cam.h0.V.025101-030012.nc',\n",
    "                'b.e11.B1850LENS.f09_g16.FWAtSalG04Sv.cam.h0.V.030101-035012.nc',\n",
    "                'b.e11.B1850LENS.f09_g16.FWAtSalG04Sv.cam.h0.V.035101-040012.nc',\n",
    "                'b.e11.B1850LENS.f09_g16.FWAtSalG04Sv.cam.h0.V.040101-045012.nc',\n",
    "                'b.e11.B1850LENS.f09_g16.FWAtSalG04Sv.cam.h0.V.045101-050012.nc',\n",
    "                'b.e11.B1850LENS.f09_g16.FWAtSalG04Sv.cam.h0.V.050101-055012.nc',\n",
    "                'b.e11.B1850LENS.f09_g16.FWAtSalG04Sv.cam.h0.V.055101-060012.nc',\n",
    "                'b.e11.B1850LENS.f09_g16.FWAtSalG04Sv.cam.h0.V.060101-065012.nc',\n",
    "                'b.e11.B1850LENS.f09_g16.FWAtSalG04Sv.cam.h0.V.065101-070012.nc',\n",
    "                'b.e11.B1850LENS.f09_g16.FWAtSalG04Sv.cam.h0.V.070101-075012.nc',\n",
    "                'b.e11.B1850LENS.f09_g16.FWAtSalG04Sv.cam.h0.V.075101-080012.nc',\n",
    "                'b.e11.B1850LENS.f09_g16.FWAtSalP02Sv.cam.h0.V.000101-005012.nc',\n",
    "                'b.e11.B1850LENS.f09_g16.FWAtSalP02Sv.cam.h0.V.005101-010012.nc',\n",
    "                'b.e11.B1850LENS.f09_g16.FWAtSalP02Sv.cam.h0.V.010101-015012.nc',\n",
    "                'b.e11.B1850LENS.f09_g16.FWAtSalP02Sv.cam.h0.V.015101-020012.nc',\n",
    "                'b.e11.B1850LENS.f09_g16.FWAtSalP02Sv.cam.h0.V.020101-025012.nc',\n",
    "                'b.e11.B1850LENS.f09_g16.FWAtSalP02Sv.cam.h0.V.025101-030012.nc',\n",
    "                'b.e11.B1850LENS.f09_g16.FWAtSalP02Sv.cam.h0.V.030101-035012.nc',\n",
    "                'b.e11.B1850LENS.f09_g16.FWAtSalP02Sv.cam.h0.V.035101-040012.nc',\n",
    "                'b.e11.B1850LENS.f09_g16.FWAtSalP02Sv.cam.h0.V.040101-045012.nc',\n",
    "                'b.e11.B1850LENS.f09_g16.FWAtSalP02Sv.cam.h0.V.045101-050012.nc',\n",
    "                'b.e11.B1850LENS.f09_g16.FWAtSalP02Sv.cam.h0.V.050101-055012.nc',\n",
    "                'b.e11.B1850LENS.f09_g16.FWAtSalP02Sv.cam.h0.V.055101-060012.nc',\n",
    "                'b.e11.B1850LENS.f09_g16.FWAtSalP02Sv.cam.h0.V.060101-065012.nc',\n",
    "                'b.e11.B1850LENS.f09_g16.FWAtSalP02Sv.cam.h0.V.065101-070012.nc',\n",
    "                'b.e11.B1850LENS.f09_g16.FWAtSalP02Sv.cam.h0.V.070101-075012.nc',\n",
    "                'b.e11.B1850LENS.f09_g16.FWAtSalP02Sv.cam.h0.V.075101-080012.nc',\n",
    "                'b.e11.B1850LENS.f09_g16.FWAtSalP04Sv.cam.h0.V.000101-005012.nc',\n",
    "                'b.e11.B1850LENS.f09_g16.FWAtSalP04Sv.cam.h0.V.005101-010012.nc',\n",
    "                'b.e11.B1850LENS.f09_g16.FWAtSalP04Sv.cam.h0.V.010101-015012.nc',\n",
    "                'b.e11.B1850LENS.f09_g16.FWAtSalP04Sv.cam.h0.V.015101-020012.nc',\n",
    "                'b.e11.B1850LENS.f09_g16.FWAtSalP04Sv.cam.h0.V.020101-025012.nc',\n",
    "                'b.e11.B1850LENS.f09_g16.FWAtSalP04Sv.cam.h0.V.025101-030012.nc',\n",
    "                'b.e11.B1850LENS.f09_g16.FWAtSalP04Sv.cam.h0.V.030101-035012.nc',\n",
    "                'b.e11.B1850LENS.f09_g16.FWAtSalP04Sv.cam.h0.V.035101-040012.nc',\n",
    "                'b.e11.B1850LENS.f09_g16.FWAtSalP04Sv.cam.h0.V.040101-045012.nc',\n",
    "                'b.e11.B1850LENS.f09_g16.FWAtSalP04Sv.cam.h0.V.045101-050012.nc',\n",
    "                'b.e11.B1850LENS.f09_g16.FWAtSalP04Sv.cam.h0.V.050101-055012.nc',\n",
    "                'b.e11.B1850LENS.f09_g16.FWAtSalP04Sv.cam.h0.V.055101-060012.nc',\n",
    "                'b.e11.B1850LENS.f09_g16.FWAtSalP04Sv.cam.h0.V.060101-065012.nc',\n",
    "                'b.e11.B1850LENS.f09_g16.FWAtSalP04Sv.cam.h0.V.065101-070012.nc',\n",
    "                'b.e11.B1850LENS.f09_g16.FWAtSalP04Sv.cam.h0.V.070101-075012.nc',\n",
    "                'b.e11.B1850LENS.f09_g16.FWAtSalP04Sv.cam.h0.V.075101-080012.nc',\n",
    "                'b.e11.B1850LENS.f09_g16.FWPaSalP04Sv.cam.h0.V.000101-005012.nc',\n",
    "                'b.e11.B1850LENS.f09_g16.FWPaSalP04Sv.cam.h0.V.005101-010012.nc',\n",
    "                'b.e11.B1850LENS.f09_g16.FWPaSalP04Sv.cam.h0.V.010101-015012.nc',\n",
    "                'b.e11.B1850LENS.f09_g16.FWPaSalP04Sv.cam.h0.V.015101-020012.nc',\n",
    "                'b.e11.B1850LENS.f09_g16.FWPaSalP04Sv.cam.h0.V.020101-025012.nc',\n",
    "                'b.e11.B1850LENS.f09_g16.FWPaSalP04Sv.cam.h0.V.025101-030012.nc',\n",
    "                'b.e11.B1850LENS.f09_g16.FWPaSalP04Sv.cam.h0.V.030101-035012.nc']\n",
    "\n",
    "files_to_interp_p = [\n",
    "                'b.e11.B1850C5CN.f09_g16.005.cam.h0.PS.040001-049912.nc',\n",
    "                'b.e11.B1850C5CN.f09_g16.005.cam.h0.PS.050001-059912.nc',\n",
    "                'b.e11.B1850C5CN.f09_g16.005.cam.h0.PS.060001-069912.nc',\n",
    "                'b.e11.B1850C5CN.f09_g16.005.cam.h0.PS.070001-079912.nc',\n",
    "                'b.e11.B1850C5CN.f09_g16.005.cam.h0.PS.080001-089912.nc',\n",
    "                'b.e11.B1850C5CN.f09_g16.005.cam.h0.PS.090001-099912.nc',\n",
    "                'b.e11.B1850C5CN.f09_g16.005.cam.h0.PS.100001-109912.nc',\n",
    "                'b.e11.B1850C5CN.f09_g16.005.cam.h0.PS.110001-119912.nc',\n",
    "                'b.e11.B1850C5CN.f09_g16.005.cam.h0.PS.120001-129912.nc',\n",
    "                'b.e11.B1850C5CN.f09_g16.005.cam.h0.PS.130001-139912.nc',\n",
    "                'b.e11.B1850C5CN.f09_g16.005.cam.h0.PS.140001-149912.nc',\n",
    "                'b.e11.B1850C5CN.f09_g16.005.cam.h0.PS.150001-159912.nc',\n",
    "                'b.e11.B1850C5CN.f09_g16.005.cam.h0.PS.160001-169912.nc',\n",
    "                'b.e11.B1850C5CN.f09_g16.005.cam.h0.PS.170001-179912.nc',\n",
    "                'b.e11.B1850C5CN.f09_g16.005.cam.h0.PS.180001-189912.nc',\n",
    "                'b.e11.B1850C5CN.f09_g16.005.cam.h0.PS.190001-199912.nc',\n",
    "                'b.e11.B1850C5CN.f09_g16.005.cam.h0.PS.200001-209912.nc',\n",
    "                'b.e11.B1850C5CN.f09_g16.005.cam.h0.PS.210001-220012.nc',\n",
    "                'b.e11.B1850LENS.f09_g16.FWAtSalG02Sv.cam.h0.PS.000101-005012.nc',\n",
    "                'b.e11.B1850LENS.f09_g16.FWAtSalG02Sv.cam.h0.PS.005101-010012.nc',\n",
    "                'b.e11.B1850LENS.f09_g16.FWAtSalG02Sv.cam.h0.PS.010101-015012.nc',\n",
    "                'b.e11.B1850LENS.f09_g16.FWAtSalG02Sv.cam.h0.PS.015101-020012.nc',\n",
    "                'b.e11.B1850LENS.f09_g16.FWAtSalG02Sv.cam.h0.PS.020101-025012.nc',\n",
    "                'b.e11.B1850LENS.f09_g16.FWAtSalG02Sv.cam.h0.PS.025101-030012.nc',\n",
    "                'b.e11.B1850LENS.f09_g16.FWAtSalG02Sv.cam.h0.PS.030101-035012.nc',\n",
    "                'b.e11.B1850LENS.f09_g16.FWAtSalG02Sv.cam.h0.PS.035101-040012.nc',\n",
    "                'b.e11.B1850LENS.f09_g16.FWAtSalG02Sv.cam.h0.PS.040101-045012.nc',\n",
    "                'b.e11.B1850LENS.f09_g16.FWAtSalG02Sv.cam.h0.PS.045101-050012.nc',\n",
    "                'b.e11.B1850LENS.f09_g16.FWAtSalG02Sv.cam.h0.PS.050101-055012.nc',\n",
    "                'b.e11.B1850LENS.f09_g16.FWAtSalG02Sv.cam.h0.PS.055101-060012.nc',\n",
    "                'b.e11.B1850LENS.f09_g16.FWAtSalG02Sv.cam.h0.PS.060101-065012.nc',\n",
    "                'b.e11.B1850LENS.f09_g16.FWAtSalG02Sv.cam.h0.PS.065101-070012.nc',\n",
    "                'b.e11.B1850LENS.f09_g16.FWAtSalG02Sv.cam.h0.PS.070101-075012.nc',\n",
    "                'b.e11.B1850LENS.f09_g16.FWAtSalG02Sv.cam.h0.PS.075101-080312.nc',\n",
    "                'b.e11.B1850LENS.f09_g16.FWAtSalG04Sv.cam.h0.PS.000101-005012.nc',\n",
    "                'b.e11.B1850LENS.f09_g16.FWAtSalG04Sv.cam.h0.PS.005101-010012.nc',\n",
    "                'b.e11.B1850LENS.f09_g16.FWAtSalG04Sv.cam.h0.PS.010101-015012.nc',\n",
    "                'b.e11.B1850LENS.f09_g16.FWAtSalG04Sv.cam.h0.PS.015101-020012.nc',\n",
    "                'b.e11.B1850LENS.f09_g16.FWAtSalG04Sv.cam.h0.PS.020101-025012.nc',\n",
    "                'b.e11.B1850LENS.f09_g16.FWAtSalG04Sv.cam.h0.PS.025101-030012.nc',\n",
    "                'b.e11.B1850LENS.f09_g16.FWAtSalG04Sv.cam.h0.PS.030101-035012.nc',\n",
    "                'b.e11.B1850LENS.f09_g16.FWAtSalG04Sv.cam.h0.PS.035101-040012.nc',\n",
    "                'b.e11.B1850LENS.f09_g16.FWAtSalG04Sv.cam.h0.PS.040101-045012.nc',\n",
    "                'b.e11.B1850LENS.f09_g16.FWAtSalG04Sv.cam.h0.PS.045101-050012.nc',\n",
    "                'b.e11.B1850LENS.f09_g16.FWAtSalG04Sv.cam.h0.PS.050101-055012.nc',\n",
    "                'b.e11.B1850LENS.f09_g16.FWAtSalG04Sv.cam.h0.PS.055101-060012.nc',\n",
    "                'b.e11.B1850LENS.f09_g16.FWAtSalG04Sv.cam.h0.PS.060101-065012.nc',\n",
    "                'b.e11.B1850LENS.f09_g16.FWAtSalG04Sv.cam.h0.PS.065101-070012.nc',\n",
    "                'b.e11.B1850LENS.f09_g16.FWAtSalG04Sv.cam.h0.PS.070101-075012.nc',\n",
    "                'b.e11.B1850LENS.f09_g16.FWAtSalG04Sv.cam.h0.PS.075101-080012.nc',\n",
    "                'b.e11.B1850LENS.f09_g16.FWAtSalP02Sv.cam.h0.PS.000101-005012.nc',\n",
    "                'b.e11.B1850LENS.f09_g16.FWAtSalP02Sv.cam.h0.PS.005101-010012.nc',\n",
    "                'b.e11.B1850LENS.f09_g16.FWAtSalP02Sv.cam.h0.PS.010101-015012.nc',\n",
    "                'b.e11.B1850LENS.f09_g16.FWAtSalP02Sv.cam.h0.PS.015101-020012.nc',\n",
    "                'b.e11.B1850LENS.f09_g16.FWAtSalP02Sv.cam.h0.PS.020101-025012.nc',\n",
    "                'b.e11.B1850LENS.f09_g16.FWAtSalP02Sv.cam.h0.PS.025101-030012.nc',\n",
    "                'b.e11.B1850LENS.f09_g16.FWAtSalP02Sv.cam.h0.PS.030101-035012.nc',\n",
    "                'b.e11.B1850LENS.f09_g16.FWAtSalP02Sv.cam.h0.PS.035101-040012.nc',\n",
    "                'b.e11.B1850LENS.f09_g16.FWAtSalP02Sv.cam.h0.PS.040101-045012.nc',\n",
    "                'b.e11.B1850LENS.f09_g16.FWAtSalP02Sv.cam.h0.PS.045101-050012.nc',\n",
    "                'b.e11.B1850LENS.f09_g16.FWAtSalP02Sv.cam.h0.PS.050101-055012.nc',\n",
    "                'b.e11.B1850LENS.f09_g16.FWAtSalP02Sv.cam.h0.PS.055101-060012.nc',\n",
    "                'b.e11.B1850LENS.f09_g16.FWAtSalP02Sv.cam.h0.PS.060101-065012.nc',\n",
    "                'b.e11.B1850LENS.f09_g16.FWAtSalP02Sv.cam.h0.PS.065101-070012.nc',\n",
    "                'b.e11.B1850LENS.f09_g16.FWAtSalP02Sv.cam.h0.PS.070101-075012.nc',\n",
    "                'b.e11.B1850LENS.f09_g16.FWAtSalP02Sv.cam.h0.PS.075101-080012.nc',\n",
    "                'b.e11.B1850LENS.f09_g16.FWAtSalP04Sv.cam.h0.PS.000101-005012.nc',\n",
    "                'b.e11.B1850LENS.f09_g16.FWAtSalP04Sv.cam.h0.PS.005101-010012.nc',\n",
    "                'b.e11.B1850LENS.f09_g16.FWAtSalP04Sv.cam.h0.PS.010101-015012.nc',\n",
    "                'b.e11.B1850LENS.f09_g16.FWAtSalP04Sv.cam.h0.PS.015101-020012.nc',\n",
    "                'b.e11.B1850LENS.f09_g16.FWAtSalP04Sv.cam.h0.PS.020101-025012.nc',\n",
    "                'b.e11.B1850LENS.f09_g16.FWAtSalP04Sv.cam.h0.PS.025101-030012.nc',\n",
    "                'b.e11.B1850LENS.f09_g16.FWAtSalP04Sv.cam.h0.PS.030101-035012.nc',\n",
    "                'b.e11.B1850LENS.f09_g16.FWAtSalP04Sv.cam.h0.PS.035101-040012.nc',\n",
    "                'b.e11.B1850LENS.f09_g16.FWAtSalP04Sv.cam.h0.PS.040101-045012.nc',\n",
    "                'b.e11.B1850LENS.f09_g16.FWAtSalP04Sv.cam.h0.PS.045101-050012.nc',\n",
    "                'b.e11.B1850LENS.f09_g16.FWAtSalP04Sv.cam.h0.PS.050101-055012.nc',\n",
    "                'b.e11.B1850LENS.f09_g16.FWAtSalP04Sv.cam.h0.PS.055101-060012.nc',\n",
    "                'b.e11.B1850LENS.f09_g16.FWAtSalP04Sv.cam.h0.PS.060101-065012.nc',\n",
    "                'b.e11.B1850LENS.f09_g16.FWAtSalP04Sv.cam.h0.PS.065101-070012.nc',\n",
    "                'b.e11.B1850LENS.f09_g16.FWAtSalP04Sv.cam.h0.PS.070101-075012.nc',\n",
    "                'b.e11.B1850LENS.f09_g16.FWAtSalP04Sv.cam.h0.PS.075101-080012.nc',\n",
    "                'b.e11.B1850LENS.f09_g16.FWPaSalP04Sv.cam.h0.PS.000101-005012.nc',\n",
    "                'b.e11.B1850LENS.f09_g16.FWPaSalP04Sv.cam.h0.PS.005101-010012.nc',\n",
    "                'b.e11.B1850LENS.f09_g16.FWPaSalP04Sv.cam.h0.PS.010101-015012.nc',\n",
    "                'b.e11.B1850LENS.f09_g16.FWPaSalP04Sv.cam.h0.PS.015101-020012.nc',\n",
    "                'b.e11.B1850LENS.f09_g16.FWPaSalP04Sv.cam.h0.PS.020101-025012.nc',\n",
    "                'b.e11.B1850LENS.f09_g16.FWPaSalP04Sv.cam.h0.PS.025101-030012.nc',\n",
    "                'b.e11.B1850LENS.f09_g16.FWPaSalP04Sv.cam.h0.PS.030101-035012.nc']"
   ]
  },
  {
   "cell_type": "code",
   "execution_count": 4,
   "id": "b6a12c7e-602b-42bc-9021-c8fcdb620122",
   "metadata": {},
   "outputs": [
    {
     "name": "stdout",
     "output_type": "stream",
     "text": [
      "interp complete\n"
     ]
    },
    {
     "name": "stderr",
     "output_type": "stream",
     "text": [
      "/glade/work/molina/miniconda3/envs/geocat/lib/python3.9/site-packages/metpy/interpolate/one_dimension.py:137: UserWarning: Interpolation point out of data bounds encountered\n",
      "  warnings.warn('Interpolation point out of data bounds encountered')\n"
     ]
    },
    {
     "name": "stdout",
     "output_type": "stream",
     "text": [
      "b.e11.B1850C5CN.f09_g16.005.cam.h0.U.040001-049912.nc complete\n",
      "interp complete\n"
     ]
    },
    {
     "name": "stderr",
     "output_type": "stream",
     "text": [
      "/glade/work/molina/miniconda3/envs/geocat/lib/python3.9/site-packages/metpy/interpolate/one_dimension.py:137: UserWarning: Interpolation point out of data bounds encountered\n",
      "  warnings.warn('Interpolation point out of data bounds encountered')\n"
     ]
    },
    {
     "name": "stdout",
     "output_type": "stream",
     "text": [
      "b.e11.B1850C5CN.f09_g16.005.cam.h0.U.050001-059912.nc complete\n",
      "interp complete\n"
     ]
    },
    {
     "name": "stderr",
     "output_type": "stream",
     "text": [
      "/glade/work/molina/miniconda3/envs/geocat/lib/python3.9/site-packages/metpy/interpolate/one_dimension.py:137: UserWarning: Interpolation point out of data bounds encountered\n",
      "  warnings.warn('Interpolation point out of data bounds encountered')\n"
     ]
    },
    {
     "name": "stdout",
     "output_type": "stream",
     "text": [
      "b.e11.B1850C5CN.f09_g16.005.cam.h0.U.060001-069912.nc complete\n",
      "interp complete\n"
     ]
    },
    {
     "name": "stderr",
     "output_type": "stream",
     "text": [
      "/glade/work/molina/miniconda3/envs/geocat/lib/python3.9/site-packages/metpy/interpolate/one_dimension.py:137: UserWarning: Interpolation point out of data bounds encountered\n",
      "  warnings.warn('Interpolation point out of data bounds encountered')\n"
     ]
    },
    {
     "name": "stdout",
     "output_type": "stream",
     "text": [
      "b.e11.B1850C5CN.f09_g16.005.cam.h0.U.070001-079912.nc complete\n",
      "interp complete\n"
     ]
    },
    {
     "name": "stderr",
     "output_type": "stream",
     "text": [
      "/glade/work/molina/miniconda3/envs/geocat/lib/python3.9/site-packages/metpy/interpolate/one_dimension.py:137: UserWarning: Interpolation point out of data bounds encountered\n",
      "  warnings.warn('Interpolation point out of data bounds encountered')\n"
     ]
    },
    {
     "name": "stdout",
     "output_type": "stream",
     "text": [
      "b.e11.B1850C5CN.f09_g16.005.cam.h0.U.080001-089912.nc complete\n",
      "interp complete\n"
     ]
    },
    {
     "name": "stderr",
     "output_type": "stream",
     "text": [
      "/glade/work/molina/miniconda3/envs/geocat/lib/python3.9/site-packages/metpy/interpolate/one_dimension.py:137: UserWarning: Interpolation point out of data bounds encountered\n",
      "  warnings.warn('Interpolation point out of data bounds encountered')\n"
     ]
    },
    {
     "name": "stdout",
     "output_type": "stream",
     "text": [
      "b.e11.B1850C5CN.f09_g16.005.cam.h0.U.090001-099912.nc complete\n",
      "interp complete\n"
     ]
    },
    {
     "name": "stderr",
     "output_type": "stream",
     "text": [
      "/glade/work/molina/miniconda3/envs/geocat/lib/python3.9/site-packages/metpy/interpolate/one_dimension.py:137: UserWarning: Interpolation point out of data bounds encountered\n",
      "  warnings.warn('Interpolation point out of data bounds encountered')\n"
     ]
    },
    {
     "name": "stdout",
     "output_type": "stream",
     "text": [
      "b.e11.B1850C5CN.f09_g16.005.cam.h0.U.100001-109912.nc complete\n",
      "interp complete\n"
     ]
    },
    {
     "name": "stderr",
     "output_type": "stream",
     "text": [
      "/glade/work/molina/miniconda3/envs/geocat/lib/python3.9/site-packages/metpy/interpolate/one_dimension.py:137: UserWarning: Interpolation point out of data bounds encountered\n",
      "  warnings.warn('Interpolation point out of data bounds encountered')\n"
     ]
    },
    {
     "name": "stdout",
     "output_type": "stream",
     "text": [
      "b.e11.B1850C5CN.f09_g16.005.cam.h0.U.110001-119912.nc complete\n",
      "interp complete\n"
     ]
    },
    {
     "name": "stderr",
     "output_type": "stream",
     "text": [
      "/glade/work/molina/miniconda3/envs/geocat/lib/python3.9/site-packages/metpy/interpolate/one_dimension.py:137: UserWarning: Interpolation point out of data bounds encountered\n",
      "  warnings.warn('Interpolation point out of data bounds encountered')\n"
     ]
    },
    {
     "name": "stdout",
     "output_type": "stream",
     "text": [
      "b.e11.B1850C5CN.f09_g16.005.cam.h0.U.120001-129912.nc complete\n",
      "interp complete\n"
     ]
    },
    {
     "name": "stderr",
     "output_type": "stream",
     "text": [
      "/glade/work/molina/miniconda3/envs/geocat/lib/python3.9/site-packages/metpy/interpolate/one_dimension.py:137: UserWarning: Interpolation point out of data bounds encountered\n",
      "  warnings.warn('Interpolation point out of data bounds encountered')\n"
     ]
    },
    {
     "name": "stdout",
     "output_type": "stream",
     "text": [
      "b.e11.B1850C5CN.f09_g16.005.cam.h0.U.130001-139912.nc complete\n",
      "interp complete\n"
     ]
    },
    {
     "name": "stderr",
     "output_type": "stream",
     "text": [
      "/glade/work/molina/miniconda3/envs/geocat/lib/python3.9/site-packages/metpy/interpolate/one_dimension.py:137: UserWarning: Interpolation point out of data bounds encountered\n",
      "  warnings.warn('Interpolation point out of data bounds encountered')\n"
     ]
    },
    {
     "name": "stdout",
     "output_type": "stream",
     "text": [
      "b.e11.B1850C5CN.f09_g16.005.cam.h0.U.140001-149912.nc complete\n",
      "interp complete\n"
     ]
    },
    {
     "name": "stderr",
     "output_type": "stream",
     "text": [
      "/glade/work/molina/miniconda3/envs/geocat/lib/python3.9/site-packages/metpy/interpolate/one_dimension.py:137: UserWarning: Interpolation point out of data bounds encountered\n",
      "  warnings.warn('Interpolation point out of data bounds encountered')\n"
     ]
    },
    {
     "name": "stdout",
     "output_type": "stream",
     "text": [
      "b.e11.B1850C5CN.f09_g16.005.cam.h0.U.150001-159912.nc complete\n",
      "interp complete\n"
     ]
    },
    {
     "name": "stderr",
     "output_type": "stream",
     "text": [
      "/glade/work/molina/miniconda3/envs/geocat/lib/python3.9/site-packages/metpy/interpolate/one_dimension.py:137: UserWarning: Interpolation point out of data bounds encountered\n",
      "  warnings.warn('Interpolation point out of data bounds encountered')\n"
     ]
    },
    {
     "name": "stdout",
     "output_type": "stream",
     "text": [
      "b.e11.B1850C5CN.f09_g16.005.cam.h0.U.160001-169912.nc complete\n",
      "interp complete\n"
     ]
    },
    {
     "name": "stderr",
     "output_type": "stream",
     "text": [
      "/glade/work/molina/miniconda3/envs/geocat/lib/python3.9/site-packages/metpy/interpolate/one_dimension.py:137: UserWarning: Interpolation point out of data bounds encountered\n",
      "  warnings.warn('Interpolation point out of data bounds encountered')\n"
     ]
    },
    {
     "name": "stdout",
     "output_type": "stream",
     "text": [
      "b.e11.B1850C5CN.f09_g16.005.cam.h0.U.170001-179912.nc complete\n",
      "interp complete\n"
     ]
    },
    {
     "name": "stderr",
     "output_type": "stream",
     "text": [
      "/glade/work/molina/miniconda3/envs/geocat/lib/python3.9/site-packages/metpy/interpolate/one_dimension.py:137: UserWarning: Interpolation point out of data bounds encountered\n",
      "  warnings.warn('Interpolation point out of data bounds encountered')\n"
     ]
    },
    {
     "name": "stdout",
     "output_type": "stream",
     "text": [
      "b.e11.B1850C5CN.f09_g16.005.cam.h0.U.180001-189912.nc complete\n",
      "interp complete\n"
     ]
    },
    {
     "name": "stderr",
     "output_type": "stream",
     "text": [
      "/glade/work/molina/miniconda3/envs/geocat/lib/python3.9/site-packages/metpy/interpolate/one_dimension.py:137: UserWarning: Interpolation point out of data bounds encountered\n",
      "  warnings.warn('Interpolation point out of data bounds encountered')\n"
     ]
    },
    {
     "name": "stdout",
     "output_type": "stream",
     "text": [
      "b.e11.B1850C5CN.f09_g16.005.cam.h0.U.190001-199912.nc complete\n",
      "interp complete\n"
     ]
    },
    {
     "name": "stderr",
     "output_type": "stream",
     "text": [
      "/glade/work/molina/miniconda3/envs/geocat/lib/python3.9/site-packages/metpy/interpolate/one_dimension.py:137: UserWarning: Interpolation point out of data bounds encountered\n",
      "  warnings.warn('Interpolation point out of data bounds encountered')\n"
     ]
    },
    {
     "name": "stdout",
     "output_type": "stream",
     "text": [
      "b.e11.B1850C5CN.f09_g16.005.cam.h0.U.200001-209912.nc complete\n",
      "interp complete\n"
     ]
    },
    {
     "name": "stderr",
     "output_type": "stream",
     "text": [
      "/glade/work/molina/miniconda3/envs/geocat/lib/python3.9/site-packages/metpy/interpolate/one_dimension.py:137: UserWarning: Interpolation point out of data bounds encountered\n",
      "  warnings.warn('Interpolation point out of data bounds encountered')\n"
     ]
    },
    {
     "name": "stdout",
     "output_type": "stream",
     "text": [
      "b.e11.B1850C5CN.f09_g16.005.cam.h0.U.210001-220012.nc complete\n",
      "interp complete\n"
     ]
    },
    {
     "name": "stderr",
     "output_type": "stream",
     "text": [
      "/glade/work/molina/miniconda3/envs/geocat/lib/python3.9/site-packages/metpy/interpolate/one_dimension.py:137: UserWarning: Interpolation point out of data bounds encountered\n",
      "  warnings.warn('Interpolation point out of data bounds encountered')\n"
     ]
    },
    {
     "name": "stdout",
     "output_type": "stream",
     "text": [
      "b.e11.B1850LENS.f09_g16.FWAtSalG02Sv.cam.h0.U.000101-005012.nc complete\n",
      "interp complete\n"
     ]
    },
    {
     "name": "stderr",
     "output_type": "stream",
     "text": [
      "/glade/work/molina/miniconda3/envs/geocat/lib/python3.9/site-packages/metpy/interpolate/one_dimension.py:137: UserWarning: Interpolation point out of data bounds encountered\n",
      "  warnings.warn('Interpolation point out of data bounds encountered')\n"
     ]
    },
    {
     "name": "stdout",
     "output_type": "stream",
     "text": [
      "b.e11.B1850LENS.f09_g16.FWAtSalG02Sv.cam.h0.U.005101-010012.nc complete\n",
      "interp complete\n"
     ]
    },
    {
     "name": "stderr",
     "output_type": "stream",
     "text": [
      "/glade/work/molina/miniconda3/envs/geocat/lib/python3.9/site-packages/metpy/interpolate/one_dimension.py:137: UserWarning: Interpolation point out of data bounds encountered\n",
      "  warnings.warn('Interpolation point out of data bounds encountered')\n"
     ]
    },
    {
     "name": "stdout",
     "output_type": "stream",
     "text": [
      "b.e11.B1850LENS.f09_g16.FWAtSalG02Sv.cam.h0.U.010101-015012.nc complete\n",
      "interp complete\n"
     ]
    },
    {
     "name": "stderr",
     "output_type": "stream",
     "text": [
      "/glade/work/molina/miniconda3/envs/geocat/lib/python3.9/site-packages/metpy/interpolate/one_dimension.py:137: UserWarning: Interpolation point out of data bounds encountered\n",
      "  warnings.warn('Interpolation point out of data bounds encountered')\n"
     ]
    },
    {
     "name": "stdout",
     "output_type": "stream",
     "text": [
      "b.e11.B1850LENS.f09_g16.FWAtSalG02Sv.cam.h0.U.015101-020012.nc complete\n",
      "interp complete\n"
     ]
    },
    {
     "name": "stderr",
     "output_type": "stream",
     "text": [
      "/glade/work/molina/miniconda3/envs/geocat/lib/python3.9/site-packages/metpy/interpolate/one_dimension.py:137: UserWarning: Interpolation point out of data bounds encountered\n",
      "  warnings.warn('Interpolation point out of data bounds encountered')\n"
     ]
    },
    {
     "name": "stdout",
     "output_type": "stream",
     "text": [
      "b.e11.B1850LENS.f09_g16.FWAtSalG02Sv.cam.h0.U.020101-025012.nc complete\n",
      "interp complete\n"
     ]
    },
    {
     "name": "stderr",
     "output_type": "stream",
     "text": [
      "/glade/work/molina/miniconda3/envs/geocat/lib/python3.9/site-packages/metpy/interpolate/one_dimension.py:137: UserWarning: Interpolation point out of data bounds encountered\n",
      "  warnings.warn('Interpolation point out of data bounds encountered')\n"
     ]
    },
    {
     "name": "stdout",
     "output_type": "stream",
     "text": [
      "b.e11.B1850LENS.f09_g16.FWAtSalG02Sv.cam.h0.U.025101-030012.nc complete\n",
      "interp complete\n"
     ]
    },
    {
     "name": "stderr",
     "output_type": "stream",
     "text": [
      "/glade/work/molina/miniconda3/envs/geocat/lib/python3.9/site-packages/metpy/interpolate/one_dimension.py:137: UserWarning: Interpolation point out of data bounds encountered\n",
      "  warnings.warn('Interpolation point out of data bounds encountered')\n"
     ]
    },
    {
     "name": "stdout",
     "output_type": "stream",
     "text": [
      "b.e11.B1850LENS.f09_g16.FWAtSalG02Sv.cam.h0.U.030101-035012.nc complete\n",
      "interp complete\n"
     ]
    },
    {
     "name": "stderr",
     "output_type": "stream",
     "text": [
      "/glade/work/molina/miniconda3/envs/geocat/lib/python3.9/site-packages/metpy/interpolate/one_dimension.py:137: UserWarning: Interpolation point out of data bounds encountered\n",
      "  warnings.warn('Interpolation point out of data bounds encountered')\n"
     ]
    },
    {
     "name": "stdout",
     "output_type": "stream",
     "text": [
      "b.e11.B1850LENS.f09_g16.FWAtSalG02Sv.cam.h0.U.035101-040012.nc complete\n",
      "interp complete\n"
     ]
    },
    {
     "name": "stderr",
     "output_type": "stream",
     "text": [
      "/glade/work/molina/miniconda3/envs/geocat/lib/python3.9/site-packages/metpy/interpolate/one_dimension.py:137: UserWarning: Interpolation point out of data bounds encountered\n",
      "  warnings.warn('Interpolation point out of data bounds encountered')\n"
     ]
    },
    {
     "name": "stdout",
     "output_type": "stream",
     "text": [
      "b.e11.B1850LENS.f09_g16.FWAtSalG02Sv.cam.h0.U.040101-045012.nc complete\n",
      "interp complete\n"
     ]
    },
    {
     "name": "stderr",
     "output_type": "stream",
     "text": [
      "/glade/work/molina/miniconda3/envs/geocat/lib/python3.9/site-packages/metpy/interpolate/one_dimension.py:137: UserWarning: Interpolation point out of data bounds encountered\n",
      "  warnings.warn('Interpolation point out of data bounds encountered')\n"
     ]
    },
    {
     "name": "stdout",
     "output_type": "stream",
     "text": [
      "b.e11.B1850LENS.f09_g16.FWAtSalG02Sv.cam.h0.U.045101-050012.nc complete\n",
      "interp complete\n"
     ]
    },
    {
     "name": "stderr",
     "output_type": "stream",
     "text": [
      "/glade/work/molina/miniconda3/envs/geocat/lib/python3.9/site-packages/metpy/interpolate/one_dimension.py:137: UserWarning: Interpolation point out of data bounds encountered\n",
      "  warnings.warn('Interpolation point out of data bounds encountered')\n"
     ]
    },
    {
     "name": "stdout",
     "output_type": "stream",
     "text": [
      "b.e11.B1850LENS.f09_g16.FWAtSalG02Sv.cam.h0.U.050101-055012.nc complete\n",
      "interp complete\n"
     ]
    },
    {
     "name": "stderr",
     "output_type": "stream",
     "text": [
      "/glade/work/molina/miniconda3/envs/geocat/lib/python3.9/site-packages/metpy/interpolate/one_dimension.py:137: UserWarning: Interpolation point out of data bounds encountered\n",
      "  warnings.warn('Interpolation point out of data bounds encountered')\n"
     ]
    },
    {
     "name": "stdout",
     "output_type": "stream",
     "text": [
      "b.e11.B1850LENS.f09_g16.FWAtSalG02Sv.cam.h0.U.055101-060012.nc complete\n",
      "interp complete\n"
     ]
    },
    {
     "name": "stderr",
     "output_type": "stream",
     "text": [
      "/glade/work/molina/miniconda3/envs/geocat/lib/python3.9/site-packages/metpy/interpolate/one_dimension.py:137: UserWarning: Interpolation point out of data bounds encountered\n",
      "  warnings.warn('Interpolation point out of data bounds encountered')\n"
     ]
    },
    {
     "name": "stdout",
     "output_type": "stream",
     "text": [
      "b.e11.B1850LENS.f09_g16.FWAtSalG02Sv.cam.h0.U.060101-065012.nc complete\n",
      "interp complete\n"
     ]
    },
    {
     "name": "stderr",
     "output_type": "stream",
     "text": [
      "/glade/work/molina/miniconda3/envs/geocat/lib/python3.9/site-packages/metpy/interpolate/one_dimension.py:137: UserWarning: Interpolation point out of data bounds encountered\n",
      "  warnings.warn('Interpolation point out of data bounds encountered')\n"
     ]
    },
    {
     "name": "stdout",
     "output_type": "stream",
     "text": [
      "b.e11.B1850LENS.f09_g16.FWAtSalG02Sv.cam.h0.U.065101-070012.nc complete\n",
      "interp complete\n"
     ]
    },
    {
     "name": "stderr",
     "output_type": "stream",
     "text": [
      "/glade/work/molina/miniconda3/envs/geocat/lib/python3.9/site-packages/metpy/interpolate/one_dimension.py:137: UserWarning: Interpolation point out of data bounds encountered\n",
      "  warnings.warn('Interpolation point out of data bounds encountered')\n"
     ]
    },
    {
     "name": "stdout",
     "output_type": "stream",
     "text": [
      "b.e11.B1850LENS.f09_g16.FWAtSalG02Sv.cam.h0.U.070101-075012.nc complete\n",
      "interp complete\n"
     ]
    },
    {
     "name": "stderr",
     "output_type": "stream",
     "text": [
      "/glade/work/molina/miniconda3/envs/geocat/lib/python3.9/site-packages/metpy/interpolate/one_dimension.py:137: UserWarning: Interpolation point out of data bounds encountered\n",
      "  warnings.warn('Interpolation point out of data bounds encountered')\n"
     ]
    },
    {
     "name": "stdout",
     "output_type": "stream",
     "text": [
      "b.e11.B1850LENS.f09_g16.FWAtSalG02Sv.cam.h0.U.075101-080312.nc complete\n",
      "interp complete\n"
     ]
    },
    {
     "name": "stderr",
     "output_type": "stream",
     "text": [
      "/glade/work/molina/miniconda3/envs/geocat/lib/python3.9/site-packages/metpy/interpolate/one_dimension.py:137: UserWarning: Interpolation point out of data bounds encountered\n",
      "  warnings.warn('Interpolation point out of data bounds encountered')\n"
     ]
    },
    {
     "name": "stdout",
     "output_type": "stream",
     "text": [
      "b.e11.B1850LENS.f09_g16.FWAtSalG04Sv.cam.h0.U.000101-005012.nc complete\n",
      "interp complete\n"
     ]
    },
    {
     "name": "stderr",
     "output_type": "stream",
     "text": [
      "/glade/work/molina/miniconda3/envs/geocat/lib/python3.9/site-packages/metpy/interpolate/one_dimension.py:137: UserWarning: Interpolation point out of data bounds encountered\n",
      "  warnings.warn('Interpolation point out of data bounds encountered')\n"
     ]
    },
    {
     "name": "stdout",
     "output_type": "stream",
     "text": [
      "b.e11.B1850LENS.f09_g16.FWAtSalG04Sv.cam.h0.U.005101-010012.nc complete\n",
      "interp complete\n"
     ]
    },
    {
     "name": "stderr",
     "output_type": "stream",
     "text": [
      "/glade/work/molina/miniconda3/envs/geocat/lib/python3.9/site-packages/metpy/interpolate/one_dimension.py:137: UserWarning: Interpolation point out of data bounds encountered\n",
      "  warnings.warn('Interpolation point out of data bounds encountered')\n"
     ]
    },
    {
     "name": "stdout",
     "output_type": "stream",
     "text": [
      "b.e11.B1850LENS.f09_g16.FWAtSalG04Sv.cam.h0.U.010101-015012.nc complete\n",
      "interp complete\n"
     ]
    },
    {
     "name": "stderr",
     "output_type": "stream",
     "text": [
      "/glade/work/molina/miniconda3/envs/geocat/lib/python3.9/site-packages/metpy/interpolate/one_dimension.py:137: UserWarning: Interpolation point out of data bounds encountered\n",
      "  warnings.warn('Interpolation point out of data bounds encountered')\n"
     ]
    },
    {
     "name": "stdout",
     "output_type": "stream",
     "text": [
      "b.e11.B1850LENS.f09_g16.FWAtSalG04Sv.cam.h0.U.015101-020012.nc complete\n",
      "interp complete\n"
     ]
    },
    {
     "name": "stderr",
     "output_type": "stream",
     "text": [
      "/glade/work/molina/miniconda3/envs/geocat/lib/python3.9/site-packages/metpy/interpolate/one_dimension.py:137: UserWarning: Interpolation point out of data bounds encountered\n",
      "  warnings.warn('Interpolation point out of data bounds encountered')\n"
     ]
    },
    {
     "name": "stdout",
     "output_type": "stream",
     "text": [
      "b.e11.B1850LENS.f09_g16.FWAtSalG04Sv.cam.h0.U.020101-025012.nc complete\n",
      "interp complete\n"
     ]
    },
    {
     "name": "stderr",
     "output_type": "stream",
     "text": [
      "/glade/work/molina/miniconda3/envs/geocat/lib/python3.9/site-packages/metpy/interpolate/one_dimension.py:137: UserWarning: Interpolation point out of data bounds encountered\n",
      "  warnings.warn('Interpolation point out of data bounds encountered')\n"
     ]
    },
    {
     "name": "stdout",
     "output_type": "stream",
     "text": [
      "b.e11.B1850LENS.f09_g16.FWAtSalG04Sv.cam.h0.U.025101-030012.nc complete\n",
      "interp complete\n"
     ]
    },
    {
     "name": "stderr",
     "output_type": "stream",
     "text": [
      "/glade/work/molina/miniconda3/envs/geocat/lib/python3.9/site-packages/metpy/interpolate/one_dimension.py:137: UserWarning: Interpolation point out of data bounds encountered\n",
      "  warnings.warn('Interpolation point out of data bounds encountered')\n"
     ]
    },
    {
     "name": "stdout",
     "output_type": "stream",
     "text": [
      "b.e11.B1850LENS.f09_g16.FWAtSalG04Sv.cam.h0.U.030101-035012.nc complete\n",
      "interp complete\n"
     ]
    },
    {
     "name": "stderr",
     "output_type": "stream",
     "text": [
      "/glade/work/molina/miniconda3/envs/geocat/lib/python3.9/site-packages/metpy/interpolate/one_dimension.py:137: UserWarning: Interpolation point out of data bounds encountered\n",
      "  warnings.warn('Interpolation point out of data bounds encountered')\n"
     ]
    },
    {
     "name": "stdout",
     "output_type": "stream",
     "text": [
      "b.e11.B1850LENS.f09_g16.FWAtSalG04Sv.cam.h0.U.035101-040012.nc complete\n",
      "interp complete\n"
     ]
    },
    {
     "name": "stderr",
     "output_type": "stream",
     "text": [
      "/glade/work/molina/miniconda3/envs/geocat/lib/python3.9/site-packages/metpy/interpolate/one_dimension.py:137: UserWarning: Interpolation point out of data bounds encountered\n",
      "  warnings.warn('Interpolation point out of data bounds encountered')\n"
     ]
    },
    {
     "name": "stdout",
     "output_type": "stream",
     "text": [
      "b.e11.B1850LENS.f09_g16.FWAtSalG04Sv.cam.h0.U.040101-045012.nc complete\n",
      "interp complete\n"
     ]
    },
    {
     "name": "stderr",
     "output_type": "stream",
     "text": [
      "/glade/work/molina/miniconda3/envs/geocat/lib/python3.9/site-packages/metpy/interpolate/one_dimension.py:137: UserWarning: Interpolation point out of data bounds encountered\n",
      "  warnings.warn('Interpolation point out of data bounds encountered')\n"
     ]
    },
    {
     "name": "stdout",
     "output_type": "stream",
     "text": [
      "b.e11.B1850LENS.f09_g16.FWAtSalG04Sv.cam.h0.U.045101-050012.nc complete\n",
      "interp complete\n"
     ]
    },
    {
     "name": "stderr",
     "output_type": "stream",
     "text": [
      "/glade/work/molina/miniconda3/envs/geocat/lib/python3.9/site-packages/metpy/interpolate/one_dimension.py:137: UserWarning: Interpolation point out of data bounds encountered\n",
      "  warnings.warn('Interpolation point out of data bounds encountered')\n"
     ]
    },
    {
     "name": "stdout",
     "output_type": "stream",
     "text": [
      "b.e11.B1850LENS.f09_g16.FWAtSalG04Sv.cam.h0.U.050101-055012.nc complete\n",
      "interp complete\n"
     ]
    },
    {
     "name": "stderr",
     "output_type": "stream",
     "text": [
      "/glade/work/molina/miniconda3/envs/geocat/lib/python3.9/site-packages/metpy/interpolate/one_dimension.py:137: UserWarning: Interpolation point out of data bounds encountered\n",
      "  warnings.warn('Interpolation point out of data bounds encountered')\n"
     ]
    },
    {
     "name": "stdout",
     "output_type": "stream",
     "text": [
      "b.e11.B1850LENS.f09_g16.FWAtSalG04Sv.cam.h0.U.055101-060012.nc complete\n",
      "interp complete\n"
     ]
    },
    {
     "name": "stderr",
     "output_type": "stream",
     "text": [
      "/glade/work/molina/miniconda3/envs/geocat/lib/python3.9/site-packages/metpy/interpolate/one_dimension.py:137: UserWarning: Interpolation point out of data bounds encountered\n",
      "  warnings.warn('Interpolation point out of data bounds encountered')\n"
     ]
    },
    {
     "name": "stdout",
     "output_type": "stream",
     "text": [
      "b.e11.B1850LENS.f09_g16.FWAtSalG04Sv.cam.h0.U.060101-065012.nc complete\n",
      "interp complete\n"
     ]
    },
    {
     "name": "stderr",
     "output_type": "stream",
     "text": [
      "/glade/work/molina/miniconda3/envs/geocat/lib/python3.9/site-packages/metpy/interpolate/one_dimension.py:137: UserWarning: Interpolation point out of data bounds encountered\n",
      "  warnings.warn('Interpolation point out of data bounds encountered')\n"
     ]
    },
    {
     "name": "stdout",
     "output_type": "stream",
     "text": [
      "b.e11.B1850LENS.f09_g16.FWAtSalG04Sv.cam.h0.U.065101-070012.nc complete\n",
      "interp complete\n"
     ]
    },
    {
     "name": "stderr",
     "output_type": "stream",
     "text": [
      "/glade/work/molina/miniconda3/envs/geocat/lib/python3.9/site-packages/metpy/interpolate/one_dimension.py:137: UserWarning: Interpolation point out of data bounds encountered\n",
      "  warnings.warn('Interpolation point out of data bounds encountered')\n"
     ]
    },
    {
     "name": "stdout",
     "output_type": "stream",
     "text": [
      "b.e11.B1850LENS.f09_g16.FWAtSalG04Sv.cam.h0.U.070101-075012.nc complete\n",
      "interp complete\n"
     ]
    },
    {
     "name": "stderr",
     "output_type": "stream",
     "text": [
      "/glade/work/molina/miniconda3/envs/geocat/lib/python3.9/site-packages/metpy/interpolate/one_dimension.py:137: UserWarning: Interpolation point out of data bounds encountered\n",
      "  warnings.warn('Interpolation point out of data bounds encountered')\n"
     ]
    },
    {
     "name": "stdout",
     "output_type": "stream",
     "text": [
      "b.e11.B1850LENS.f09_g16.FWAtSalG04Sv.cam.h0.U.075101-080012.nc complete\n",
      "interp complete\n"
     ]
    },
    {
     "name": "stderr",
     "output_type": "stream",
     "text": [
      "/glade/work/molina/miniconda3/envs/geocat/lib/python3.9/site-packages/metpy/interpolate/one_dimension.py:137: UserWarning: Interpolation point out of data bounds encountered\n",
      "  warnings.warn('Interpolation point out of data bounds encountered')\n"
     ]
    },
    {
     "name": "stdout",
     "output_type": "stream",
     "text": [
      "b.e11.B1850LENS.f09_g16.FWAtSalP02Sv.cam.h0.U.000101-005012.nc complete\n",
      "interp complete\n"
     ]
    },
    {
     "name": "stderr",
     "output_type": "stream",
     "text": [
      "/glade/work/molina/miniconda3/envs/geocat/lib/python3.9/site-packages/metpy/interpolate/one_dimension.py:137: UserWarning: Interpolation point out of data bounds encountered\n",
      "  warnings.warn('Interpolation point out of data bounds encountered')\n"
     ]
    },
    {
     "name": "stdout",
     "output_type": "stream",
     "text": [
      "b.e11.B1850LENS.f09_g16.FWAtSalP02Sv.cam.h0.U.005101-010012.nc complete\n",
      "interp complete\n"
     ]
    },
    {
     "name": "stderr",
     "output_type": "stream",
     "text": [
      "/glade/work/molina/miniconda3/envs/geocat/lib/python3.9/site-packages/metpy/interpolate/one_dimension.py:137: UserWarning: Interpolation point out of data bounds encountered\n",
      "  warnings.warn('Interpolation point out of data bounds encountered')\n"
     ]
    },
    {
     "name": "stdout",
     "output_type": "stream",
     "text": [
      "b.e11.B1850LENS.f09_g16.FWAtSalP02Sv.cam.h0.U.010101-015012.nc complete\n",
      "interp complete\n"
     ]
    },
    {
     "name": "stderr",
     "output_type": "stream",
     "text": [
      "/glade/work/molina/miniconda3/envs/geocat/lib/python3.9/site-packages/metpy/interpolate/one_dimension.py:137: UserWarning: Interpolation point out of data bounds encountered\n",
      "  warnings.warn('Interpolation point out of data bounds encountered')\n"
     ]
    },
    {
     "name": "stdout",
     "output_type": "stream",
     "text": [
      "b.e11.B1850LENS.f09_g16.FWAtSalP02Sv.cam.h0.U.015101-020012.nc complete\n",
      "interp complete\n"
     ]
    },
    {
     "name": "stderr",
     "output_type": "stream",
     "text": [
      "/glade/work/molina/miniconda3/envs/geocat/lib/python3.9/site-packages/metpy/interpolate/one_dimension.py:137: UserWarning: Interpolation point out of data bounds encountered\n",
      "  warnings.warn('Interpolation point out of data bounds encountered')\n"
     ]
    },
    {
     "name": "stdout",
     "output_type": "stream",
     "text": [
      "b.e11.B1850LENS.f09_g16.FWAtSalP02Sv.cam.h0.U.020101-025012.nc complete\n",
      "interp complete\n"
     ]
    },
    {
     "name": "stderr",
     "output_type": "stream",
     "text": [
      "/glade/work/molina/miniconda3/envs/geocat/lib/python3.9/site-packages/metpy/interpolate/one_dimension.py:137: UserWarning: Interpolation point out of data bounds encountered\n",
      "  warnings.warn('Interpolation point out of data bounds encountered')\n"
     ]
    },
    {
     "name": "stdout",
     "output_type": "stream",
     "text": [
      "b.e11.B1850LENS.f09_g16.FWAtSalP02Sv.cam.h0.U.025101-030012.nc complete\n",
      "interp complete\n"
     ]
    },
    {
     "name": "stderr",
     "output_type": "stream",
     "text": [
      "/glade/work/molina/miniconda3/envs/geocat/lib/python3.9/site-packages/metpy/interpolate/one_dimension.py:137: UserWarning: Interpolation point out of data bounds encountered\n",
      "  warnings.warn('Interpolation point out of data bounds encountered')\n"
     ]
    },
    {
     "name": "stdout",
     "output_type": "stream",
     "text": [
      "b.e11.B1850LENS.f09_g16.FWAtSalP02Sv.cam.h0.U.030101-035012.nc complete\n",
      "interp complete\n"
     ]
    },
    {
     "name": "stderr",
     "output_type": "stream",
     "text": [
      "/glade/work/molina/miniconda3/envs/geocat/lib/python3.9/site-packages/metpy/interpolate/one_dimension.py:137: UserWarning: Interpolation point out of data bounds encountered\n",
      "  warnings.warn('Interpolation point out of data bounds encountered')\n"
     ]
    },
    {
     "name": "stdout",
     "output_type": "stream",
     "text": [
      "b.e11.B1850LENS.f09_g16.FWAtSalP02Sv.cam.h0.U.035101-040012.nc complete\n",
      "interp complete\n"
     ]
    },
    {
     "name": "stderr",
     "output_type": "stream",
     "text": [
      "/glade/work/molina/miniconda3/envs/geocat/lib/python3.9/site-packages/metpy/interpolate/one_dimension.py:137: UserWarning: Interpolation point out of data bounds encountered\n",
      "  warnings.warn('Interpolation point out of data bounds encountered')\n"
     ]
    },
    {
     "name": "stdout",
     "output_type": "stream",
     "text": [
      "b.e11.B1850LENS.f09_g16.FWAtSalP02Sv.cam.h0.U.040101-045012.nc complete\n",
      "interp complete\n"
     ]
    },
    {
     "name": "stderr",
     "output_type": "stream",
     "text": [
      "/glade/work/molina/miniconda3/envs/geocat/lib/python3.9/site-packages/metpy/interpolate/one_dimension.py:137: UserWarning: Interpolation point out of data bounds encountered\n",
      "  warnings.warn('Interpolation point out of data bounds encountered')\n"
     ]
    },
    {
     "name": "stdout",
     "output_type": "stream",
     "text": [
      "b.e11.B1850LENS.f09_g16.FWAtSalP02Sv.cam.h0.U.045101-050012.nc complete\n",
      "interp complete\n"
     ]
    },
    {
     "name": "stderr",
     "output_type": "stream",
     "text": [
      "/glade/work/molina/miniconda3/envs/geocat/lib/python3.9/site-packages/metpy/interpolate/one_dimension.py:137: UserWarning: Interpolation point out of data bounds encountered\n",
      "  warnings.warn('Interpolation point out of data bounds encountered')\n"
     ]
    },
    {
     "name": "stdout",
     "output_type": "stream",
     "text": [
      "b.e11.B1850LENS.f09_g16.FWAtSalP02Sv.cam.h0.U.050101-055012.nc complete\n",
      "interp complete\n"
     ]
    },
    {
     "name": "stderr",
     "output_type": "stream",
     "text": [
      "/glade/work/molina/miniconda3/envs/geocat/lib/python3.9/site-packages/metpy/interpolate/one_dimension.py:137: UserWarning: Interpolation point out of data bounds encountered\n",
      "  warnings.warn('Interpolation point out of data bounds encountered')\n"
     ]
    },
    {
     "name": "stdout",
     "output_type": "stream",
     "text": [
      "b.e11.B1850LENS.f09_g16.FWAtSalP02Sv.cam.h0.U.055101-060012.nc complete\n",
      "interp complete\n"
     ]
    },
    {
     "name": "stderr",
     "output_type": "stream",
     "text": [
      "/glade/work/molina/miniconda3/envs/geocat/lib/python3.9/site-packages/metpy/interpolate/one_dimension.py:137: UserWarning: Interpolation point out of data bounds encountered\n",
      "  warnings.warn('Interpolation point out of data bounds encountered')\n"
     ]
    },
    {
     "name": "stdout",
     "output_type": "stream",
     "text": [
      "b.e11.B1850LENS.f09_g16.FWAtSalP02Sv.cam.h0.U.060101-065012.nc complete\n",
      "interp complete\n"
     ]
    },
    {
     "name": "stderr",
     "output_type": "stream",
     "text": [
      "/glade/work/molina/miniconda3/envs/geocat/lib/python3.9/site-packages/metpy/interpolate/one_dimension.py:137: UserWarning: Interpolation point out of data bounds encountered\n",
      "  warnings.warn('Interpolation point out of data bounds encountered')\n"
     ]
    },
    {
     "name": "stdout",
     "output_type": "stream",
     "text": [
      "b.e11.B1850LENS.f09_g16.FWAtSalP02Sv.cam.h0.U.065101-070012.nc complete\n",
      "interp complete\n"
     ]
    },
    {
     "name": "stderr",
     "output_type": "stream",
     "text": [
      "/glade/work/molina/miniconda3/envs/geocat/lib/python3.9/site-packages/metpy/interpolate/one_dimension.py:137: UserWarning: Interpolation point out of data bounds encountered\n",
      "  warnings.warn('Interpolation point out of data bounds encountered')\n"
     ]
    },
    {
     "name": "stdout",
     "output_type": "stream",
     "text": [
      "b.e11.B1850LENS.f09_g16.FWAtSalP02Sv.cam.h0.U.070101-075012.nc complete\n",
      "interp complete\n"
     ]
    },
    {
     "name": "stderr",
     "output_type": "stream",
     "text": [
      "/glade/work/molina/miniconda3/envs/geocat/lib/python3.9/site-packages/metpy/interpolate/one_dimension.py:137: UserWarning: Interpolation point out of data bounds encountered\n",
      "  warnings.warn('Interpolation point out of data bounds encountered')\n"
     ]
    },
    {
     "name": "stdout",
     "output_type": "stream",
     "text": [
      "b.e11.B1850LENS.f09_g16.FWAtSalP02Sv.cam.h0.U.075101-080012.nc complete\n",
      "interp complete\n"
     ]
    },
    {
     "name": "stderr",
     "output_type": "stream",
     "text": [
      "/glade/work/molina/miniconda3/envs/geocat/lib/python3.9/site-packages/metpy/interpolate/one_dimension.py:137: UserWarning: Interpolation point out of data bounds encountered\n",
      "  warnings.warn('Interpolation point out of data bounds encountered')\n"
     ]
    },
    {
     "name": "stdout",
     "output_type": "stream",
     "text": [
      "b.e11.B1850LENS.f09_g16.FWAtSalP04Sv.cam.h0.U.000101-005012.nc complete\n",
      "interp complete\n"
     ]
    },
    {
     "name": "stderr",
     "output_type": "stream",
     "text": [
      "/glade/work/molina/miniconda3/envs/geocat/lib/python3.9/site-packages/metpy/interpolate/one_dimension.py:137: UserWarning: Interpolation point out of data bounds encountered\n",
      "  warnings.warn('Interpolation point out of data bounds encountered')\n"
     ]
    },
    {
     "name": "stdout",
     "output_type": "stream",
     "text": [
      "b.e11.B1850LENS.f09_g16.FWAtSalP04Sv.cam.h0.U.005101-010012.nc complete\n",
      "interp complete\n"
     ]
    },
    {
     "name": "stderr",
     "output_type": "stream",
     "text": [
      "/glade/work/molina/miniconda3/envs/geocat/lib/python3.9/site-packages/metpy/interpolate/one_dimension.py:137: UserWarning: Interpolation point out of data bounds encountered\n",
      "  warnings.warn('Interpolation point out of data bounds encountered')\n"
     ]
    },
    {
     "name": "stdout",
     "output_type": "stream",
     "text": [
      "b.e11.B1850LENS.f09_g16.FWAtSalP04Sv.cam.h0.U.010101-015012.nc complete\n",
      "interp complete\n"
     ]
    },
    {
     "name": "stderr",
     "output_type": "stream",
     "text": [
      "/glade/work/molina/miniconda3/envs/geocat/lib/python3.9/site-packages/metpy/interpolate/one_dimension.py:137: UserWarning: Interpolation point out of data bounds encountered\n",
      "  warnings.warn('Interpolation point out of data bounds encountered')\n"
     ]
    },
    {
     "name": "stdout",
     "output_type": "stream",
     "text": [
      "b.e11.B1850LENS.f09_g16.FWAtSalP04Sv.cam.h0.U.015101-020012.nc complete\n",
      "interp complete\n"
     ]
    },
    {
     "name": "stderr",
     "output_type": "stream",
     "text": [
      "/glade/work/molina/miniconda3/envs/geocat/lib/python3.9/site-packages/metpy/interpolate/one_dimension.py:137: UserWarning: Interpolation point out of data bounds encountered\n",
      "  warnings.warn('Interpolation point out of data bounds encountered')\n"
     ]
    },
    {
     "name": "stdout",
     "output_type": "stream",
     "text": [
      "b.e11.B1850LENS.f09_g16.FWAtSalP04Sv.cam.h0.U.020101-025012.nc complete\n",
      "interp complete\n"
     ]
    },
    {
     "name": "stderr",
     "output_type": "stream",
     "text": [
      "/glade/work/molina/miniconda3/envs/geocat/lib/python3.9/site-packages/metpy/interpolate/one_dimension.py:137: UserWarning: Interpolation point out of data bounds encountered\n",
      "  warnings.warn('Interpolation point out of data bounds encountered')\n"
     ]
    },
    {
     "name": "stdout",
     "output_type": "stream",
     "text": [
      "b.e11.B1850LENS.f09_g16.FWAtSalP04Sv.cam.h0.U.025101-030012.nc complete\n",
      "interp complete\n"
     ]
    },
    {
     "name": "stderr",
     "output_type": "stream",
     "text": [
      "/glade/work/molina/miniconda3/envs/geocat/lib/python3.9/site-packages/metpy/interpolate/one_dimension.py:137: UserWarning: Interpolation point out of data bounds encountered\n",
      "  warnings.warn('Interpolation point out of data bounds encountered')\n"
     ]
    },
    {
     "name": "stdout",
     "output_type": "stream",
     "text": [
      "b.e11.B1850LENS.f09_g16.FWAtSalP04Sv.cam.h0.U.030101-035012.nc complete\n",
      "interp complete\n"
     ]
    },
    {
     "name": "stderr",
     "output_type": "stream",
     "text": [
      "/glade/work/molina/miniconda3/envs/geocat/lib/python3.9/site-packages/metpy/interpolate/one_dimension.py:137: UserWarning: Interpolation point out of data bounds encountered\n",
      "  warnings.warn('Interpolation point out of data bounds encountered')\n"
     ]
    },
    {
     "name": "stdout",
     "output_type": "stream",
     "text": [
      "b.e11.B1850LENS.f09_g16.FWAtSalP04Sv.cam.h0.U.035101-040012.nc complete\n",
      "interp complete\n"
     ]
    },
    {
     "name": "stderr",
     "output_type": "stream",
     "text": [
      "/glade/work/molina/miniconda3/envs/geocat/lib/python3.9/site-packages/metpy/interpolate/one_dimension.py:137: UserWarning: Interpolation point out of data bounds encountered\n",
      "  warnings.warn('Interpolation point out of data bounds encountered')\n"
     ]
    },
    {
     "name": "stdout",
     "output_type": "stream",
     "text": [
      "b.e11.B1850LENS.f09_g16.FWAtSalP04Sv.cam.h0.U.040101-045012.nc complete\n",
      "interp complete\n"
     ]
    },
    {
     "name": "stderr",
     "output_type": "stream",
     "text": [
      "/glade/work/molina/miniconda3/envs/geocat/lib/python3.9/site-packages/metpy/interpolate/one_dimension.py:137: UserWarning: Interpolation point out of data bounds encountered\n",
      "  warnings.warn('Interpolation point out of data bounds encountered')\n"
     ]
    },
    {
     "name": "stdout",
     "output_type": "stream",
     "text": [
      "b.e11.B1850LENS.f09_g16.FWAtSalP04Sv.cam.h0.U.045101-050012.nc complete\n",
      "interp complete\n"
     ]
    },
    {
     "name": "stderr",
     "output_type": "stream",
     "text": [
      "/glade/work/molina/miniconda3/envs/geocat/lib/python3.9/site-packages/metpy/interpolate/one_dimension.py:137: UserWarning: Interpolation point out of data bounds encountered\n",
      "  warnings.warn('Interpolation point out of data bounds encountered')\n"
     ]
    },
    {
     "name": "stdout",
     "output_type": "stream",
     "text": [
      "b.e11.B1850LENS.f09_g16.FWAtSalP04Sv.cam.h0.U.050101-055012.nc complete\n",
      "interp complete\n"
     ]
    },
    {
     "name": "stderr",
     "output_type": "stream",
     "text": [
      "/glade/work/molina/miniconda3/envs/geocat/lib/python3.9/site-packages/metpy/interpolate/one_dimension.py:137: UserWarning: Interpolation point out of data bounds encountered\n",
      "  warnings.warn('Interpolation point out of data bounds encountered')\n"
     ]
    },
    {
     "name": "stdout",
     "output_type": "stream",
     "text": [
      "b.e11.B1850LENS.f09_g16.FWAtSalP04Sv.cam.h0.U.055101-060012.nc complete\n",
      "interp complete\n"
     ]
    },
    {
     "name": "stderr",
     "output_type": "stream",
     "text": [
      "/glade/work/molina/miniconda3/envs/geocat/lib/python3.9/site-packages/metpy/interpolate/one_dimension.py:137: UserWarning: Interpolation point out of data bounds encountered\n",
      "  warnings.warn('Interpolation point out of data bounds encountered')\n"
     ]
    },
    {
     "name": "stdout",
     "output_type": "stream",
     "text": [
      "b.e11.B1850LENS.f09_g16.FWAtSalP04Sv.cam.h0.U.060101-065012.nc complete\n",
      "interp complete\n"
     ]
    },
    {
     "name": "stderr",
     "output_type": "stream",
     "text": [
      "/glade/work/molina/miniconda3/envs/geocat/lib/python3.9/site-packages/metpy/interpolate/one_dimension.py:137: UserWarning: Interpolation point out of data bounds encountered\n",
      "  warnings.warn('Interpolation point out of data bounds encountered')\n"
     ]
    },
    {
     "name": "stdout",
     "output_type": "stream",
     "text": [
      "b.e11.B1850LENS.f09_g16.FWAtSalP04Sv.cam.h0.U.065101-070012.nc complete\n",
      "interp complete\n"
     ]
    },
    {
     "name": "stderr",
     "output_type": "stream",
     "text": [
      "/glade/work/molina/miniconda3/envs/geocat/lib/python3.9/site-packages/metpy/interpolate/one_dimension.py:137: UserWarning: Interpolation point out of data bounds encountered\n",
      "  warnings.warn('Interpolation point out of data bounds encountered')\n"
     ]
    },
    {
     "name": "stdout",
     "output_type": "stream",
     "text": [
      "b.e11.B1850LENS.f09_g16.FWAtSalP04Sv.cam.h0.U.070101-075012.nc complete\n",
      "interp complete\n"
     ]
    },
    {
     "name": "stderr",
     "output_type": "stream",
     "text": [
      "/glade/work/molina/miniconda3/envs/geocat/lib/python3.9/site-packages/metpy/interpolate/one_dimension.py:137: UserWarning: Interpolation point out of data bounds encountered\n",
      "  warnings.warn('Interpolation point out of data bounds encountered')\n"
     ]
    },
    {
     "name": "stdout",
     "output_type": "stream",
     "text": [
      "b.e11.B1850LENS.f09_g16.FWAtSalP04Sv.cam.h0.U.075101-080012.nc complete\n",
      "interp complete\n"
     ]
    },
    {
     "name": "stderr",
     "output_type": "stream",
     "text": [
      "/glade/work/molina/miniconda3/envs/geocat/lib/python3.9/site-packages/metpy/interpolate/one_dimension.py:137: UserWarning: Interpolation point out of data bounds encountered\n",
      "  warnings.warn('Interpolation point out of data bounds encountered')\n"
     ]
    },
    {
     "name": "stdout",
     "output_type": "stream",
     "text": [
      "b.e11.B1850LENS.f09_g16.FWPaSalP04Sv.cam.h0.U.000101-005012.nc complete\n",
      "interp complete\n"
     ]
    },
    {
     "name": "stderr",
     "output_type": "stream",
     "text": [
      "/glade/work/molina/miniconda3/envs/geocat/lib/python3.9/site-packages/metpy/interpolate/one_dimension.py:137: UserWarning: Interpolation point out of data bounds encountered\n",
      "  warnings.warn('Interpolation point out of data bounds encountered')\n"
     ]
    },
    {
     "name": "stdout",
     "output_type": "stream",
     "text": [
      "b.e11.B1850LENS.f09_g16.FWPaSalP04Sv.cam.h0.U.005101-010012.nc complete\n",
      "interp complete\n"
     ]
    },
    {
     "name": "stderr",
     "output_type": "stream",
     "text": [
      "/glade/work/molina/miniconda3/envs/geocat/lib/python3.9/site-packages/metpy/interpolate/one_dimension.py:137: UserWarning: Interpolation point out of data bounds encountered\n",
      "  warnings.warn('Interpolation point out of data bounds encountered')\n"
     ]
    },
    {
     "name": "stdout",
     "output_type": "stream",
     "text": [
      "b.e11.B1850LENS.f09_g16.FWPaSalP04Sv.cam.h0.U.010101-015012.nc complete\n",
      "interp complete\n"
     ]
    },
    {
     "name": "stderr",
     "output_type": "stream",
     "text": [
      "/glade/work/molina/miniconda3/envs/geocat/lib/python3.9/site-packages/metpy/interpolate/one_dimension.py:137: UserWarning: Interpolation point out of data bounds encountered\n",
      "  warnings.warn('Interpolation point out of data bounds encountered')\n"
     ]
    },
    {
     "name": "stdout",
     "output_type": "stream",
     "text": [
      "b.e11.B1850LENS.f09_g16.FWPaSalP04Sv.cam.h0.U.015101-020012.nc complete\n",
      "interp complete\n"
     ]
    },
    {
     "name": "stderr",
     "output_type": "stream",
     "text": [
      "/glade/work/molina/miniconda3/envs/geocat/lib/python3.9/site-packages/metpy/interpolate/one_dimension.py:137: UserWarning: Interpolation point out of data bounds encountered\n",
      "  warnings.warn('Interpolation point out of data bounds encountered')\n"
     ]
    },
    {
     "name": "stdout",
     "output_type": "stream",
     "text": [
      "b.e11.B1850LENS.f09_g16.FWPaSalP04Sv.cam.h0.U.020101-025012.nc complete\n",
      "interp complete\n"
     ]
    },
    {
     "name": "stderr",
     "output_type": "stream",
     "text": [
      "/glade/work/molina/miniconda3/envs/geocat/lib/python3.9/site-packages/metpy/interpolate/one_dimension.py:137: UserWarning: Interpolation point out of data bounds encountered\n",
      "  warnings.warn('Interpolation point out of data bounds encountered')\n"
     ]
    },
    {
     "name": "stdout",
     "output_type": "stream",
     "text": [
      "b.e11.B1850LENS.f09_g16.FWPaSalP04Sv.cam.h0.U.025101-030012.nc complete\n",
      "interp complete\n"
     ]
    },
    {
     "name": "stderr",
     "output_type": "stream",
     "text": [
      "/glade/work/molina/miniconda3/envs/geocat/lib/python3.9/site-packages/metpy/interpolate/one_dimension.py:137: UserWarning: Interpolation point out of data bounds encountered\n",
      "  warnings.warn('Interpolation point out of data bounds encountered')\n"
     ]
    },
    {
     "name": "stdout",
     "output_type": "stream",
     "text": [
      "b.e11.B1850LENS.f09_g16.FWPaSalP04Sv.cam.h0.U.030101-035012.nc complete\n"
     ]
    }
   ],
   "source": [
    "variable = 'U'\n",
    "\n",
    "for psname, finame in zip(files_to_interp_p, files_to_interp_u):\n",
    "    \n",
    "    ds_ps = xr.open_dataset(f'{directory_data}{psname}')\n",
    "    ds_wd = xr.open_dataset(f'{directory_data}{finame}')\n",
    "    \n",
    "    newds = interp_hybrid_to_pressure(data=ds_wd[variable], ps=ds_ps['PS'], \n",
    "                                      hyam=ds_wd['hyam'], hybm=ds_wd['hybm'], \n",
    "                                      p0=100000., new_levels=np.array([85000.]))\n",
    "    \n",
    "    print('interp complete')\n",
    "    \n",
    "    newds.rename(variable).to_netcdf(f'{directory_data}'+finame.split('.h0.')[0]+'.850.'+finame.split('.h0.')[1])\n",
    "    \n",
    "    print(f'{finame} complete')"
   ]
  },
  {
   "cell_type": "code",
   "execution_count": null,
   "id": "abc3d110-13f2-4f5c-805e-ee4eafb77d4a",
   "metadata": {},
   "outputs": [],
   "source": []
  }
 ],
 "metadata": {
  "kernelspec": {
   "display_name": "Python [conda env:miniconda3-geocat]",
   "language": "python",
   "name": "conda-env-miniconda3-geocat-py"
  },
  "language_info": {
   "codemirror_mode": {
    "name": "ipython",
    "version": 3
   },
   "file_extension": ".py",
   "mimetype": "text/x-python",
   "name": "python",
   "nbconvert_exporter": "python",
   "pygments_lexer": "ipython3",
   "version": "3.9.5"
  }
 },
 "nbformat": 4,
 "nbformat_minor": 5
}
