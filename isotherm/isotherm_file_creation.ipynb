{
 "cells": [
  {
   "cell_type": "markdown",
   "metadata": {},
   "source": [
    "### Final step in isotherm calculation\n",
    "\n",
    "This notebook is used to assemble the full isotherm files."
   ]
  },
  {
   "cell_type": "code",
   "execution_count": 1,
   "metadata": {},
   "outputs": [],
   "source": [
    "import xarray as xr\n",
    "import cftime\n",
    "import matplotlib.pyplot as plt\n",
    "import numpy as np"
   ]
  },
  {
   "cell_type": "code",
   "execution_count": 7,
   "metadata": {},
   "outputs": [],
   "source": [
    "from config import directory_figs, directory_data"
   ]
  },
  {
   "cell_type": "code",
   "execution_count": 2,
   "metadata": {},
   "outputs": [
    {
     "name": "stderr",
     "output_type": "stream",
     "text": [
      "/glade/work/molina/miniconda3/envs/python-tutorial/lib/python3.7/site-packages/xarray/conventions.py:449: UserWarning: Variable 'TIME' has datetime type and a bounds variable but TIME.encoding does not have units specified. The units encodings for 'TIME' and 'TIME_bnds' will be determined independently and may not be equal, counter to CF-conventions. If this is a concern, specify a units encoding for 'TIME' before writing to a file.\n",
      "  UserWarning,\n"
     ]
    }
   ],
   "source": [
    "ds = xr.open_mfdataset(f'{directory_data}temp_FWPaSalP04Sv/iso20c_file_*.nc', combine='by_coords')\n",
    "ds.to_netcdf(f'{directory_data}iso20c_FWPaSalP04Sv.nc')"
   ]
  },
  {
   "cell_type": "code",
   "execution_count": 3,
   "metadata": {},
   "outputs": [
    {
     "name": "stderr",
     "output_type": "stream",
     "text": [
      "/glade/work/molina/miniconda3/envs/python-tutorial/lib/python3.7/site-packages/xarray/conventions.py:449: UserWarning: Variable 'TIME' has datetime type and a bounds variable but TIME.encoding does not have units specified. The units encodings for 'TIME' and 'TIME_bnds' will be determined independently and may not be equal, counter to CF-conventions. If this is a concern, specify a units encoding for 'TIME' before writing to a file.\n",
      "  UserWarning,\n"
     ]
    }
   ],
   "source": [
    "ds = xr.open_mfdataset(f'{directory_data}temp_FWAtSalG02Sv/iso20c_file_*.nc', combine='by_coords')\n",
    "ds.to_netcdf(f'{directory_data}iso20c_FWAtSalG02Sv.nc')"
   ]
  },
  {
   "cell_type": "code",
   "execution_count": 4,
   "metadata": {},
   "outputs": [
    {
     "name": "stderr",
     "output_type": "stream",
     "text": [
      "/glade/work/molina/miniconda3/envs/python-tutorial/lib/python3.7/site-packages/xarray/conventions.py:449: UserWarning: Variable 'TIME' has datetime type and a bounds variable but TIME.encoding does not have units specified. The units encodings for 'TIME' and 'TIME_bnds' will be determined independently and may not be equal, counter to CF-conventions. If this is a concern, specify a units encoding for 'TIME' before writing to a file.\n",
      "  UserWarning,\n"
     ]
    }
   ],
   "source": [
    "ds = xr.open_mfdataset(f'{directory_data}temp_FWAtSalG04Sv/iso20c_file_*.nc', combine='by_coords')\n",
    "ds.to_netcdf(f'{directory_data}iso20c_FWAtSalG04Sv.nc')"
   ]
  },
  {
   "cell_type": "code",
   "execution_count": 5,
   "metadata": {},
   "outputs": [
    {
     "name": "stderr",
     "output_type": "stream",
     "text": [
      "/glade/work/molina/miniconda3/envs/python-tutorial/lib/python3.7/site-packages/xarray/conventions.py:449: UserWarning: Variable 'TIME' has datetime type and a bounds variable but TIME.encoding does not have units specified. The units encodings for 'TIME' and 'TIME_bnds' will be determined independently and may not be equal, counter to CF-conventions. If this is a concern, specify a units encoding for 'TIME' before writing to a file.\n",
      "  UserWarning,\n"
     ]
    }
   ],
   "source": [
    "ds = xr.open_mfdataset(f'{directory_data}temp_FWAtSalP02Sv/iso20c_file_*.nc', combine='by_coords')\n",
    "ds.to_netcdf(f'{directory_data}iso20c_FWAtSalP02Sv.nc')"
   ]
  },
  {
   "cell_type": "code",
   "execution_count": 6,
   "metadata": {},
   "outputs": [
    {
     "name": "stderr",
     "output_type": "stream",
     "text": [
      "/glade/work/molina/miniconda3/envs/python-tutorial/lib/python3.7/site-packages/xarray/conventions.py:449: UserWarning: Variable 'TIME' has datetime type and a bounds variable but TIME.encoding does not have units specified. The units encodings for 'TIME' and 'TIME_bnds' will be determined independently and may not be equal, counter to CF-conventions. If this is a concern, specify a units encoding for 'TIME' before writing to a file.\n",
      "  UserWarning,\n"
     ]
    }
   ],
   "source": [
    "ds = xr.open_mfdataset(f'{directory_data}temp_FWAtSalP04Sv/iso20c_file_*.nc', combine='by_coords')\n",
    "ds.to_netcdf(f'{directory_data}iso20c_FWAtSalP04Sv.nc')"
   ]
  },
  {
   "cell_type": "code",
   "execution_count": 8,
   "metadata": {
    "tags": []
   },
   "outputs": [
    {
     "name": "stderr",
     "output_type": "stream",
     "text": [
      "/glade/work/molina/miniconda3/envs/python-tutorial/lib/python3.7/site-packages/xarray/conventions.py:449: UserWarning: Variable 'TIME' has datetime type and a bounds variable but TIME.encoding does not have units specified. The units encodings for 'TIME' and 'TIME_bnds' will be determined independently and may not be equal, counter to CF-conventions. If this is a concern, specify a units encoding for 'TIME' before writing to a file.\n",
      "  UserWarning,\n"
     ]
    }
   ],
   "source": [
    "ds = xr.open_mfdataset(f'{directory_data}temp_005/iso20c_file_*.nc', combine='by_coords')\n",
    "ds.to_netcdf(f'{directory_data}iso20c_005.nc')"
   ]
  },
  {
   "cell_type": "code",
   "execution_count": null,
   "metadata": {},
   "outputs": [],
   "source": []
  }
 ],
 "metadata": {
  "kernelspec": {
   "display_name": "Python [conda env:miniconda3-python-tutorial]",
   "language": "python",
   "name": "conda-env-miniconda3-python-tutorial-python3_myenv"
  },
  "language_info": {
   "codemirror_mode": {
    "name": "ipython",
    "version": 3
   },
   "file_extension": ".py",
   "mimetype": "text/x-python",
   "name": "python",
   "nbconvert_exporter": "python",
   "pygments_lexer": "ipython3",
   "version": "3.7.3"
  }
 },
 "nbformat": 4,
 "nbformat_minor": 4
}
