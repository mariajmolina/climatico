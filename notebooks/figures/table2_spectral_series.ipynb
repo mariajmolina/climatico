{
 "cells": [
  {
   "cell_type": "markdown",
   "metadata": {},
   "source": [
    "## Table 2 (Journal of Climate submission; Molina et al.)"
   ]
  },
  {
   "cell_type": "markdown",
   "metadata": {},
   "source": [
    "Table 2.  Spectral analysis of area weighted averages of monthly SSTs (◦C) across the tropical Pacific(10.5◦S, 170.5◦W, 10.5◦N, 120.5◦W), as in Figure 5. Years 201-500 were considered for the Global and Pacificexperiments and years 1,001-1,300 were considered for the CESM1 control for correspondence to the sensitivityexperiments during AMOC collapse. Years 101-250 were considered for the Pacific Salt experiment, which were the years PMOC was active."
   ]
  },
  {
   "cell_type": "markdown",
   "metadata": {},
   "source": [
    "**Table by: Maria J. Molina, NCAR**"
   ]
  },
  {
   "cell_type": "code",
   "execution_count": 1,
   "metadata": {},
   "outputs": [],
   "source": [
    "# imports \n",
    "\n",
    "import xarray as xr\n",
    "import numpy as np\n",
    "import matplotlib.pyplot as plt\n",
    "import cftime\n",
    "from climatico.util import weighted_mean, pacific_lon\n",
    "import subprocess\n",
    "import copy\n",
    "from datetime import timedelta"
   ]
  },
  {
   "cell_type": "code",
   "execution_count": 2,
   "metadata": {},
   "outputs": [],
   "source": [
    "from config import directory_figs, directory_data"
   ]
  },
  {
   "cell_type": "code",
   "execution_count": 3,
   "metadata": {},
   "outputs": [],
   "source": [
    "# list of filenames to do this for\n",
    "\n",
    "file_g02sv = 'b1d.e11.B1850LENS.f09_g16.FWAtSalG02Sv.pop.h.SST.*.nc'\n",
    "file_g04sv = 'b1d.e11.B1850LENS.f09_g16.FWAtSalG04Sv.pop.h.SST.*.nc'\n",
    "file_p02sv = 'b1d.e11.B1850LENS.f09_g16.FWAtSalP02Sv.pop.h.SST.*.nc'\n",
    "file_p04sv = 'b1d.e11.B1850LENS.f09_g16.FWAtSalP04Sv.pop.h.SST.*.nc'\n",
    "file_psalt = 'b1d.e11.B1850LENS.f09_g16.FWPaSalP04Sv.pop.h.SST.*.nc'\n",
    "file_cntrl = 'b1d.e11.B1850C5CN.f09_g16.005.pop.h.SST.*.nc'"
   ]
  },
  {
   "cell_type": "code",
   "execution_count": 4,
   "metadata": {},
   "outputs": [],
   "source": [
    "ds_cntrl = xr.open_mfdataset(f'{directory_data}{file_cntrl}', combine='by_coords')\n",
    "ds_cntrl = ds_cntrl.assign_coords(time=ds_cntrl.coords['time'] - timedelta(days=17))\n",
    "ds_cntrl = ds_cntrl.isel(z_t=0)['SST'].sel(time=slice(cftime.DatetimeNoLeap(1001, 1, 1, 0, 0),cftime.DatetimeNoLeap(1301, 1, 1, 0, 0)))\n",
    "\n",
    "ds_g02sv = xr.open_mfdataset(f'{directory_data}{file_g02sv}', combine='by_coords')\n",
    "ds_g02sv = ds_g02sv.assign_coords(time=ds_g02sv.coords['time'] - timedelta(days=17))\n",
    "ds_g02sv = ds_g02sv.isel(z_t=0)['SST'].sel(time=slice(cftime.DatetimeNoLeap(201, 1, 1, 0, 0),cftime.DatetimeNoLeap(501, 1, 1, 0, 0)))\n",
    "\n",
    "ds_g04sv = xr.open_mfdataset(f'{directory_data}{file_g04sv}', combine='by_coords')\n",
    "ds_g04sv = ds_g04sv.assign_coords(time=ds_g04sv.coords['time'] - timedelta(days=17))\n",
    "ds_g04sv = ds_g04sv.isel(z_t=0)['SST'].sel(time=slice(cftime.DatetimeNoLeap(201, 1, 1, 0, 0),cftime.DatetimeNoLeap(501, 1, 1, 0, 0)))\n",
    "\n",
    "ds_p02sv = xr.open_mfdataset(f'{directory_data}{file_p02sv}', combine='by_coords')\n",
    "ds_p02sv = ds_p02sv.assign_coords(time=ds_p02sv.coords['time'] - timedelta(days=17))\n",
    "ds_p02sv = ds_p02sv.isel(z_t=0)['SST'].sel(time=slice(cftime.DatetimeNoLeap(201, 1, 1, 0, 0),cftime.DatetimeNoLeap(501, 1, 1, 0, 0)))\n",
    "\n",
    "ds_p04sv = xr.open_mfdataset(f'{directory_data}{file_p04sv}', combine='by_coords')\n",
    "ds_p04sv = ds_p04sv.assign_coords(time=ds_p04sv.coords['time'] - timedelta(days=17))\n",
    "ds_p04sv = ds_p04sv.isel(z_t=0)['SST'].sel(time=slice(cftime.DatetimeNoLeap(201, 1, 1, 0, 0),cftime.DatetimeNoLeap(501, 1, 1, 0, 0)))\n",
    "\n",
    "ds_psalt = xr.open_mfdataset(f'{directory_data}{file_psalt}', combine='by_coords')\n",
    "ds_psalt = ds_psalt.assign_coords(time=ds_psalt.coords['time'] - timedelta(days=17))\n",
    "ds_psalt = ds_psalt.isel(z_t=0)['SST'].sel(time=slice(cftime.DatetimeNoLeap(101, 1, 1, 0, 0),cftime.DatetimeNoLeap(251, 1, 1, 0, 0)))"
   ]
  },
  {
   "cell_type": "code",
   "execution_count": 5,
   "metadata": {},
   "outputs": [],
   "source": [
    "def grab_wghtmean(ds_cntrl, ds_g02sv, ds_g04sv, ds_p02sv, ds_p04sv, ds_psalt,\n",
    "                  lon1 = 170.5, lon2 = -150.5, lat1 = 30.5, lat2 = 40.5):\n",
    "    \"\"\"\n",
    "    Compute weighted mean for the select region.\n",
    "    \n",
    "    Args:\n",
    "        ds_cntrl: Xarray data array for control. \n",
    "        ds_g02sv: Xarray data array for 0.2 Sv global experiment.\n",
    "        ds_g04sv: Xarray data array for 0.4 Sv global experiment.\n",
    "        ds_p02sv: Xarray data array for 0.2 Sv pacific experiment.\n",
    "        ds_p04sv: Xarray data array for 0.4 Sv pacific experiment.\n",
    "        ds_psalt: Xarray data array for pacific salt experiment. \n",
    "        lon1 (float): Lower left corner longitude. Defaults to ``170.5``.\n",
    "        lon2 (float): Upper right corner longitude. Defaults to ``-150.5``.\n",
    "        lat1 (float): Lower left corner latitude. Defaults to ``30.5``.\n",
    "        lat2 (float): Upper right corner latitude. Defaults to ``40.5``.\n",
    "    \"\"\"\n",
    "    ds_cntrl_box = weighted_mean(ds_cntrl.sel(\n",
    "        lon=slice(pacific_lon(lon1, to180=False), pacific_lon(lon2, to180=False)), \n",
    "        lat=slice(lat1, lat2)), lat_name='lat')\n",
    "\n",
    "    ds_g02sv_box = weighted_mean(ds_g02sv.sel(\n",
    "        lon=slice(pacific_lon(lon1, to180=False), pacific_lon(lon2, to180=False)), \n",
    "        lat=slice(lat1, lat2)), lat_name='lat')\n",
    "\n",
    "    ds_g04sv_box = weighted_mean(ds_g04sv.sel(\n",
    "        lon=slice(pacific_lon(lon1, to180=False), pacific_lon(lon2, to180=False)), \n",
    "        lat=slice(lat1, lat2)), lat_name='lat')\n",
    "\n",
    "    ds_p02sv_box = weighted_mean(ds_p02sv.sel(\n",
    "        lon=slice(pacific_lon(lon1, to180=False), pacific_lon(lon2, to180=False)), \n",
    "        lat=slice(lat1, lat2)), lat_name='lat')\n",
    "\n",
    "    ds_p04sv_box = weighted_mean(ds_p04sv.sel(\n",
    "        lon=slice(pacific_lon(lon1, to180=False), pacific_lon(lon2, to180=False)), \n",
    "        lat=slice(lat1, lat2)), lat_name='lat')\n",
    "\n",
    "    ds_psalt_box = weighted_mean(ds_psalt.sel(\n",
    "        lon=slice(pacific_lon(lon1, to180=False), pacific_lon(lon2, to180=False)), \n",
    "        lat=slice(lat1, lat2)), lat_name='lat')\n",
    "    \n",
    "    return ds_cntrl_box, ds_g02sv_box, ds_g04sv_box, ds_p02sv_box, ds_p04sv_box, ds_psalt_box"
   ]
  },
  {
   "cell_type": "code",
   "execution_count": 6,
   "metadata": {},
   "outputs": [],
   "source": [
    "def grab_specx(da, variable='SST'):\n",
    "    \"\"\"\n",
    "    Calling to ncl directory to use spectral analysis ncl scripts.\n",
    "    Input your directory into the function.\n",
    "    Use ``os.path.dirname(os.getcwd())+'/ncl/'`` to find your respective path.\n",
    "\n",
    "    Args:\n",
    "        da: Xarray data array .\n",
    "        variables (str): Variable name. Defaults to ``SST``.\n",
    "    \"\"\"\n",
    "    da.to_dataset(name=variable).to_netcdf('/glade/u/home/molina/python_scripts/climatico/ncl/box_sst.nc')\n",
    "    subprocess.call([f'ml intel/18.0.5; ml ncl; ncl /glade/u/home/molina/python_scripts/climatico/ncl/specx_anal.ncl'], shell=True)\n",
    "    spcx = xr.open_dataset(\"~/python_scripts/climatico/ncl/spcx.nc\")\n",
    "    frqx = xr.open_dataset(\"~/python_scripts/climatico/ncl/frq.nc\")\n",
    "    spcxa = copy.deepcopy(spcx['spcx'].squeeze().values)\n",
    "    frqxa = copy.deepcopy(frqx['frq'].squeeze().values)\n",
    "    del spcx\n",
    "    del frqx\n",
    "    return spcxa, frqxa"
   ]
  },
  {
   "cell_type": "code",
   "execution_count": 7,
   "metadata": {},
   "outputs": [],
   "source": [
    "%%capture\n",
    "# equatorial pacific\n",
    "ds_cntrl_box, ds_g02sv_box, ds_g04sv_box, ds_p02sv_box, ds_p04sv_box, ds_psalt_box = grab_wghtmean(\n",
    "    ds_cntrl, ds_g02sv, ds_g04sv, ds_p02sv, ds_p04sv, ds_psalt, lon1 = -170.5, lon2 = -120.5, lat1 = -5.5, lat2 = 5.5)\n",
    "# control\n",
    "spcx_cntrl3, frqx_cntrl3 = grab_specx(ds_cntrl_box)\n",
    "# 2svg\n",
    "spcx_g02sv3, frqx_g02sv3 = grab_specx(ds_g02sv_box)\n",
    "# 4svg\n",
    "spcx_g04sv3, frqx_g04sv3 = grab_specx(ds_g04sv_box)\n",
    "# 2svp\n",
    "spcx_p02sv3, frqx_p02sv3 = grab_specx(ds_p02sv_box)\n",
    "# 4svp\n",
    "spcx_p04sv3, frqx_p04sv3 = grab_specx(ds_p04sv_box)\n",
    "#psalt\n",
    "spcx_psalt3, frqx_psalt3 = grab_specx(ds_psalt_box)"
   ]
  },
  {
   "cell_type": "code",
   "execution_count": 8,
   "metadata": {},
   "outputs": [
    {
     "name": "stdout",
     "output_type": "stream",
     "text": [
      "tropical pac; frequency of max variance\n",
      "0.083\n",
      "0.024\n",
      "0.022\n",
      "0.019\n",
      "0.019\n",
      "0.083\n"
     ]
    }
   ],
   "source": [
    "print('tropical pac; frequency of max variance')\n",
    "print(str(np.round(frqx_cntrl3[np.argmax(spcx_cntrl3)],3)))\n",
    "print(str(np.round(frqx_g02sv3[np.argmax(spcx_g02sv3)],3)))\n",
    "print(str(np.round(frqx_g04sv3[np.argmax(spcx_g04sv3)],3)))\n",
    "print(str(np.round(frqx_p02sv3[np.argmax(spcx_p02sv3)],3)))\n",
    "print(str(np.round(frqx_p04sv3[np.argmax(spcx_p04sv3)],3)))\n",
    "print(str(np.round(frqx_psalt3[np.argmax(spcx_psalt3)],3)))"
   ]
  },
  {
   "cell_type": "code",
   "execution_count": 9,
   "metadata": {},
   "outputs": [
    {
     "name": "stdout",
     "output_type": "stream",
     "text": [
      "tropical pac; variance of annual cycle\n",
      "[[355.08]]\n",
      "[[13.89]]\n",
      "[[8.13]]\n",
      "[[109.95]]\n",
      "[[83.49]]\n",
      "[[243.46]]\n"
     ]
    }
   ],
   "source": [
    "print('tropical pac; variance of annual cycle')\n",
    "print(str(np.round(spcx_cntrl3[np.argwhere(frqx_cntrl3==1/12)],2)))\n",
    "print(str(np.round(spcx_g02sv3[np.argwhere(frqx_g02sv3==1/12)],2)))\n",
    "print(str(np.round(spcx_g04sv3[np.argwhere(frqx_g04sv3==1/12)],2)))\n",
    "print(str(np.round(spcx_p02sv3[np.argwhere(frqx_p02sv3==1/12)],2)))\n",
    "print(str(np.round(spcx_p04sv3[np.argwhere(frqx_p04sv3==1/12)],2)))\n",
    "print(str(np.round(spcx_psalt3[np.argwhere(frqx_psalt3==1/12)],2)))"
   ]
  },
  {
   "cell_type": "code",
   "execution_count": 10,
   "metadata": {},
   "outputs": [
    {
     "name": "stdout",
     "output_type": "stream",
     "text": [
      "tropical pac; variance of semi-annual cycle\n",
      "[[31.4]]\n",
      "[[26.46]]\n",
      "[[20.38]]\n",
      "[[30.44]]\n",
      "[[25.59]]\n",
      "[[18.45]]\n"
     ]
    }
   ],
   "source": [
    "print('tropical pac; variance of semi-annual cycle')\n",
    "print(str(np.round(spcx_cntrl3[np.argwhere(frqx_cntrl3==2/12)],2)))\n",
    "print(str(np.round(spcx_g02sv3[np.argwhere(frqx_g02sv3==2/12)],2)))\n",
    "print(str(np.round(spcx_g04sv3[np.argwhere(frqx_g04sv3==2/12)],2)))\n",
    "print(str(np.round(spcx_p02sv3[np.argwhere(frqx_p02sv3==2/12)],2)))\n",
    "print(str(np.round(spcx_p04sv3[np.argwhere(frqx_p04sv3==2/12)],2)))\n",
    "print(str(np.round(spcx_psalt3[np.argwhere(frqx_psalt3==2/12)],2)))"
   ]
  }
 ],
 "metadata": {
  "kernelspec": {
   "display_name": "Python [conda env:miniconda3-python-tutorial]",
   "language": "python",
   "name": "conda-env-miniconda3-python-tutorial-python3_myenv"
  },
  "language_info": {
   "codemirror_mode": {
    "name": "ipython",
    "version": 3
   },
   "file_extension": ".py",
   "mimetype": "text/x-python",
   "name": "python",
   "nbconvert_exporter": "python",
   "pygments_lexer": "ipython3",
   "version": "3.7.3"
  }
 },
 "nbformat": 4,
 "nbformat_minor": 4
}
