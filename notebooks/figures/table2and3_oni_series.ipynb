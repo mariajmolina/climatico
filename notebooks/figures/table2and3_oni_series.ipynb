{
 "cells": [
  {
   "cell_type": "markdown",
   "metadata": {},
   "source": [
    "## Table 2 and 3 (Journal of Climate submission; Molina et al.)"
   ]
  },
  {
   "cell_type": "markdown",
   "metadata": {},
   "source": [
    "Table2. ONI variance (◦C2) for different time periods of the Global and Pacific freshwater hosing experimentsas compared to the CESM1 control. Years 201-500 include the time period of AMOC collapse for the sensitivityexperiments. Years 551-650 contain the time period when the 0.2 Sv experiments overshoot AMOC strength inthe CESM1 control and 0.4 Sv experiments contain a mostly collapsed AMOC state. Years 651-800 contain theAMOC overshoot period for the 0.4 Sv experiment.\n",
    "\n",
    "Table3. ONI variance (◦C2) for different time periods of the Pacific Salt experiment as compared to theCESM1 control. Years 101-250 include the time period of PMOC intensification and years 251-300 contain thetime period of rapid PMOC weakening and return to a PMOC collapsed state in the Pacific Salt experiment."
   ]
  },
  {
   "cell_type": "markdown",
   "metadata": {},
   "source": [
    "**Figure by: Maria J. Molina, NCAR**"
   ]
  },
  {
   "cell_type": "code",
   "execution_count": 1,
   "metadata": {},
   "outputs": [],
   "source": [
    "# imports \n",
    "\n",
    "import xarray as xr\n",
    "import pandas as pd\n",
    "import numpy as np\n",
    "from climatico import enso\n",
    "from climatico.util import weighted_mean\n",
    "import matplotlib.pyplot as plt\n",
    "from matplotlib.lines import Line2D"
   ]
  },
  {
   "cell_type": "code",
   "execution_count": 2,
   "metadata": {},
   "outputs": [],
   "source": [
    "from config import directory_figs, directory_data"
   ]
  },
  {
   "cell_type": "code",
   "execution_count": 3,
   "metadata": {},
   "outputs": [],
   "source": [
    "# list of filenames to do this for\n",
    "file_g02sv = 'b1d.e11.B1850LENS.f09_g16.FWAtSalG02Sv.pop.h.SST.*.nc'\n",
    "file_g04sv = 'b1d.e11.B1850LENS.f09_g16.FWAtSalG04Sv.pop.h.SST.*.nc'\n",
    "file_p02sv = 'b1d.e11.B1850LENS.f09_g16.FWAtSalP02Sv.pop.h.SST.*.nc'\n",
    "file_p04sv = 'b1d.e11.B1850LENS.f09_g16.FWAtSalP04Sv.pop.h.SST.*.nc'\n",
    "file_psalt = 'b1d.e11.B1850LENS.f09_g16.FWPaSalP04Sv.pop.h.SST.*.nc'\n",
    "file_cntrl = 'b1d.e11.B1850C5CN.f09_g16.005.pop.h.SST.*.nc'"
   ]
  },
  {
   "cell_type": "code",
   "execution_count": 4,
   "metadata": {},
   "outputs": [],
   "source": [
    "nino = enso.DefineNino(nino='nino34', lats='lat', lons='lon', cutoff=0.5, runningmean=3)"
   ]
  },
  {
   "cell_type": "code",
   "execution_count": 5,
   "metadata": {},
   "outputs": [],
   "source": [
    "# extract first 100 years from control run for concatenating\n",
    "ds = xr.open_mfdataset(f'{directory_data}{file_cntrl}',\n",
    "                       combine='by_coords',\n",
    "                       preprocess=nino.nino)\n",
    "# reduce dims to time, lat, lon\n",
    "ds = ds.isel(z_t=0)\n",
    "# compute weighted mean of sst region\n",
    "first100_ssts = ds['SST']"
   ]
  },
  {
   "cell_type": "code",
   "execution_count": 6,
   "metadata": {},
   "outputs": [
    {
     "name": "stderr",
     "output_type": "stream",
     "text": [
      "/glade/work/molina/miniconda3/envs/python-tutorial/lib/python3.7/site-packages/xarray/core/indexing.py:1361: PerformanceWarning: Slicing with an out-of-order index is generating 100 times more chunks\n",
      "  return self.array[key]\n"
     ]
    }
   ],
   "source": [
    "# control run index computation\n",
    "ds2 = xr.open_mfdataset(f'{directory_data}{file_cntrl}',\n",
    "                       combine='by_coords',\n",
    "                       preprocess=nino.nino)\n",
    "# reduce dims to time, lat, lon\n",
    "ds2 = ds2.isel(z_t=0)\n",
    "\n",
    "# attach first 100 years\n",
    "control_ssts = xr.concat([first100_ssts.sel(time=slice('0700-01-01 00:00:00', '0800-01-01 00:00:00')),\n",
    "                          ds2['SST'].sel(time=slice('0800-02-01 00:00:00', '1599-12-31 00:00:00'))], dim='time')\n",
    "control_ssts['time'] = xr.cftime_range(start=\"0001-01-01 00:00:00\", end=\"0900-12-31 00:00:00\", freq=\"MS\", calendar=\"noleap\")\n",
    "\n",
    "# rolling climo (previously)\n",
    "#control_ssts_roll = nino.monthly_climo(control_ssts.chunk({'time':900}), yrsroll=30, centered=True, time='time')\n",
    "#control_nino = nino.compute_index(control_ssts, control_ssts_roll, linear_detrend=False, lat_name='lat')\n",
    "\n",
    "# compute nino index\n",
    "control_nino = nino.compute_index(control_ssts.groupby('time.month'), control_ssts.groupby('time.month').mean(), linear_detrend=False, lat_name='lat')\n",
    "\n",
    "# grab numpy array\n",
    "control_nino = control_nino.values"
   ]
  },
  {
   "cell_type": "code",
   "execution_count": 7,
   "metadata": {},
   "outputs": [
    {
     "name": "stderr",
     "output_type": "stream",
     "text": [
      "/glade/work/molina/miniconda3/envs/python-tutorial/lib/python3.7/site-packages/xarray/core/indexing.py:1361: PerformanceWarning: Slicing with an out-of-order index is generating 53 times more chunks\n",
      "  return self.array[key]\n"
     ]
    }
   ],
   "source": [
    "# g02sv index computation\n",
    "ds3 = xr.open_mfdataset(f'{directory_data}{file_g02sv}',\n",
    "                       combine='by_coords',\n",
    "                       preprocess=nino.nino)\n",
    "# reduce dims to time, lat, lon\n",
    "ds3 = ds3.isel(z_t=0)\n",
    "\n",
    "# attach first 100 years\n",
    "g02sv_ssts = xr.concat([first100_ssts.sel(time=slice('0700-01-01 00:00:00', '0800-01-01 00:00:00')),\n",
    "                        ds3['SST'].sel(time=slice('0001-02-01 00:00:00', '0800-12-31 00:00:00'))], dim='time')\n",
    "g02sv_ssts['time']=xr.cftime_range(start=\"0001-01-01 00:00:00\", end=\"0900-12-31 00:00:00\", freq=\"MS\", calendar=\"noleap\")\n",
    "\n",
    "# compute nino index\n",
    "g02sv_nino = nino.compute_index(g02sv_ssts.groupby('time.month'), control_ssts.groupby('time.month').mean(), linear_detrend=False, lat_name='lat')\n",
    "\n",
    "# grab numpy array\n",
    "g02sv_nino = g02sv_nino.values"
   ]
  },
  {
   "cell_type": "code",
   "execution_count": 8,
   "metadata": {},
   "outputs": [
    {
     "name": "stderr",
     "output_type": "stream",
     "text": [
      "/glade/work/molina/miniconda3/envs/python-tutorial/lib/python3.7/site-packages/xarray/core/indexing.py:1361: PerformanceWarning: Slicing with an out-of-order index is generating 53 times more chunks\n",
      "  return self.array[key]\n"
     ]
    }
   ],
   "source": [
    "# g04sv index computation\n",
    "ds4 = xr.open_mfdataset(f'{directory_data}{file_g04sv}',\n",
    "                       combine='by_coords',\n",
    "                       preprocess=nino.nino)\n",
    "# reduce dims to time, lat, lon\n",
    "ds4 = ds4.isel(z_t=0)\n",
    "\n",
    "# attach first 100 years\n",
    "g04sv_ssts = xr.concat([first100_ssts.sel(time=slice('0700-01-01 00:00:00', '0800-01-01 00:00:00')),\n",
    "                        ds4['SST'].sel(time=slice('0001-02-01 00:00:00', '0800-12-31 00:00:00'))], dim='time')\n",
    "g04sv_ssts['time']=xr.cftime_range(start=\"0001-01-01 00:00:00\", end=\"0900-12-31 00:00:00\", freq=\"MS\", calendar=\"noleap\")\n",
    "\n",
    "# compute nino index\n",
    "g04sv_nino = nino.compute_index(g04sv_ssts.groupby('time.month'), control_ssts.groupby('time.month').mean(), linear_detrend=False, lat_name='lat')\n",
    "\n",
    "# grab numpy arrays\n",
    "g04sv_nino = g04sv_nino.values"
   ]
  },
  {
   "cell_type": "code",
   "execution_count": 9,
   "metadata": {},
   "outputs": [
    {
     "name": "stderr",
     "output_type": "stream",
     "text": [
      "/glade/work/molina/miniconda3/envs/python-tutorial/lib/python3.7/site-packages/xarray/core/indexing.py:1361: PerformanceWarning: Slicing with an out-of-order index is generating 53 times more chunks\n",
      "  return self.array[key]\n"
     ]
    }
   ],
   "source": [
    "# p02sv index computation\n",
    "ds5 = xr.open_mfdataset(f'{directory_data}{file_p02sv}',\n",
    "                       combine='by_coords',\n",
    "                       preprocess=nino.nino)\n",
    "# reduce dims to time, lat, lon\n",
    "ds5 = ds5.isel(z_t=0)\n",
    "\n",
    "# attach first 100 years\n",
    "p02sv_ssts = xr.concat([first100_ssts.sel(time=slice('0700-01-01 00:00:00', '0800-01-01 00:00:00')),\n",
    "                        ds5['SST'].sel(time=slice('0001-02-01 00:00:00', '0800-12-31 00:00:00'))], dim='time')\n",
    "p02sv_ssts['time'] = xr.cftime_range(start=\"0001-01-01 00:00:00\", end=\"0900-12-31 00:00:00\", freq=\"MS\", calendar=\"noleap\")\n",
    "\n",
    "# compute nino index\n",
    "p02sv_nino = nino.compute_index(p02sv_ssts.groupby('time.month'), control_ssts.groupby('time.month').mean(), linear_detrend=False, lat_name='lat')\n",
    "\n",
    "# grab numpy arrays\n",
    "p02sv_nino = p02sv_nino.values"
   ]
  },
  {
   "cell_type": "code",
   "execution_count": 10,
   "metadata": {},
   "outputs": [
    {
     "name": "stderr",
     "output_type": "stream",
     "text": [
      "/glade/work/molina/miniconda3/envs/python-tutorial/lib/python3.7/site-packages/xarray/core/indexing.py:1361: PerformanceWarning: Slicing with an out-of-order index is generating 53 times more chunks\n",
      "  return self.array[key]\n"
     ]
    }
   ],
   "source": [
    "# p04sv index computation\n",
    "ds6 = xr.open_mfdataset(f'{directory_data}{file_p04sv}',\n",
    "                       combine='by_coords',\n",
    "                       preprocess=nino.nino)\n",
    "# reduce dims to time, lat, lon\n",
    "ds6 = ds6.isel(z_t=0)\n",
    "\n",
    "# attach first 100 years\n",
    "p04sv_ssts = xr.concat([first100_ssts.sel(time=slice('0700-01-01 00:00:00', '0800-01-01 00:00:00')),\n",
    "                        ds6['SST'].sel(time=slice('0001-02-01 00:00:00', '0800-12-31 00:00:00'))], dim='time')\n",
    "p04sv_ssts['time']=xr.cftime_range(start=\"0001-01-01 00:00:00\", end=\"0900-12-31 00:00:00\", freq=\"MS\", calendar=\"noleap\")\n",
    "\n",
    "# compute nino index\n",
    "p04sv_nino = nino.compute_index(p04sv_ssts.groupby('time.month'), control_ssts.groupby('time.month').mean(), linear_detrend=False, lat_name='lat')\n",
    "\n",
    "# grab numpy arrays\n",
    "p04sv_nino = p04sv_nino.values"
   ]
  },
  {
   "cell_type": "code",
   "execution_count": 11,
   "metadata": {},
   "outputs": [
    {
     "name": "stderr",
     "output_type": "stream",
     "text": [
      "/glade/work/molina/miniconda3/envs/python-tutorial/lib/python3.7/site-packages/xarray/core/indexing.py:1361: PerformanceWarning: Slicing with an out-of-order index is generating 57 times more chunks\n",
      "  return self.array[key]\n"
     ]
    }
   ],
   "source": [
    "# psalt index computation\n",
    "ds7 = xr.open_mfdataset(f'{directory_data}{file_psalt}',\n",
    "                       combine='by_coords',\n",
    "                       preprocess=nino.nino)\n",
    "# reduce dims to time, lat, lon\n",
    "ds7 = ds7.isel(z_t=0)\n",
    "\n",
    "# attach first 100 years\n",
    "psalt_ssts = xr.concat([first100_ssts.sel(time=slice('0700-01-01 00:00:00', '0800-01-01 00:00:00')),\n",
    "                        ds7['SST'].sel(time=slice('0001-02-01 00:00:00', '0299-12-31 00:00:00'))], dim='time')\n",
    "psalt_ssts['time']=xr.cftime_range(start=\"0001-01-01 00:00:00\", end=\"0399-12-31 00:00:00\", freq=\"MS\", calendar=\"noleap\")\n",
    "\n",
    "# compute nino index\n",
    "psalt_nino = nino.compute_index(psalt_ssts.groupby('time.month'), control_ssts.groupby('time.month').mean(), linear_detrend=False, lat_name='lat')\n",
    "\n",
    "# grab numpy arrays\n",
    "psalt_nino = psalt_nino.values"
   ]
  },
  {
   "cell_type": "markdown",
   "metadata": {},
   "source": [
    "Compute the mean and variances."
   ]
  },
  {
   "cell_type": "code",
   "execution_count": 12,
   "metadata": {},
   "outputs": [
    {
     "name": "stdout",
     "output_type": "stream",
     "text": [
      "amoc collapse period\n",
      "0.00020297898\n",
      "0.006734262\n",
      "-0.16586617\n",
      "0.38301697\n",
      "0.4302735\n"
     ]
    }
   ],
   "source": [
    "# amoc collapse period (years 201-500)\n",
    "print('amoc collapse period')\n",
    "print(np.mean(control_nino[3600:7200]))\n",
    "print(np.mean(g02sv_nino[3600:7200]))\n",
    "print(np.mean(g04sv_nino[3600:7200]))\n",
    "print(np.mean(p02sv_nino[3600:7200]))\n",
    "print(np.mean(p04sv_nino[3600:7200]))"
   ]
  },
  {
   "cell_type": "code",
   "execution_count": 13,
   "metadata": {},
   "outputs": [
    {
     "name": "stdout",
     "output_type": "stream",
     "text": [
      "amoc collapse period\n",
      "1.0232843\n",
      "1.3641464\n",
      "1.2383868\n",
      "1.3214118\n",
      "1.2537454\n"
     ]
    }
   ],
   "source": [
    "# amoc collapse period (years 201-500)\n",
    "print('amoc collapse period')\n",
    "print(np.var(control_nino[3600:7200]))\n",
    "print(np.var(g02sv_nino[3600:7200]))\n",
    "print(np.var(g04sv_nino[3600:7200]))\n",
    "print(np.var(p02sv_nino[3600:7200]))\n",
    "print(np.var(p04sv_nino[3600:7200]))"
   ]
  },
  {
   "cell_type": "code",
   "execution_count": 14,
   "metadata": {},
   "outputs": [
    {
     "name": "stdout",
     "output_type": "stream",
     "text": [
      "amoc overshoot period\n",
      "1.1489382\n",
      "0.72547626\n",
      "1.1376354\n",
      "0.7703194\n",
      "1.0890832\n"
     ]
    }
   ],
   "source": [
    "# amoc active period (years 551-650)\n",
    "print('amoc overshoot period')\n",
    "print(np.var(control_nino[7800:9000]))\n",
    "print(np.var(g02sv_nino[7800:9000]))\n",
    "print(np.var(g04sv_nino[7800:9000]))\n",
    "print(np.var(p02sv_nino[7800:9000]))\n",
    "print(np.var(p04sv_nino[7800:9000]))"
   ]
  },
  {
   "cell_type": "code",
   "execution_count": 15,
   "metadata": {},
   "outputs": [
    {
     "name": "stdout",
     "output_type": "stream",
     "text": [
      "amoc overshoot period\n",
      "0.9627027\n",
      "0.47667444\n",
      "0.48485488\n",
      "0.57351524\n",
      "0.59840935\n"
     ]
    }
   ],
   "source": [
    "# amoc active period (years 651-800)\n",
    "print('amoc overshoot period')\n",
    "print(np.var(control_nino[9000:]))\n",
    "print(np.var(g02sv_nino[9000:]))\n",
    "print(np.var(g04sv_nino[9000:]))\n",
    "print(np.var(p02sv_nino[9000:]))\n",
    "print(np.var(p04sv_nino[9000:]))"
   ]
  },
  {
   "cell_type": "code",
   "execution_count": 16,
   "metadata": {},
   "outputs": [
    {
     "name": "stdout",
     "output_type": "stream",
     "text": [
      "(psalt)\n",
      "0.96969485\n",
      "0.8221195\n"
     ]
    }
   ],
   "source": [
    "# pmoc active period (years 101-250)\n",
    "print('(psalt)')\n",
    "print(np.var(control_nino[2400:4200]))\n",
    "print(np.var(psalt_nino[2400:4200]))"
   ]
  },
  {
   "cell_type": "code",
   "execution_count": 17,
   "metadata": {},
   "outputs": [
    {
     "name": "stdout",
     "output_type": "stream",
     "text": [
      "(psalt)\n",
      "0.99397993\n",
      "1.1497076\n"
     ]
    }
   ],
   "source": [
    "# pmoc inactive period (years 251-)\n",
    "print('(psalt)')\n",
    "print(np.var(control_nino[4200:]))\n",
    "print(np.var(psalt_nino[4200:]))"
   ]
  }
 ],
 "metadata": {
  "kernelspec": {
   "display_name": "Python [conda env:python-tutorial]",
   "language": "python",
   "name": "conda-env-python-tutorial-py"
  },
  "language_info": {
   "codemirror_mode": {
    "name": "ipython",
    "version": 3
   },
   "file_extension": ".py",
   "mimetype": "text/x-python",
   "name": "python",
   "nbconvert_exporter": "python",
   "pygments_lexer": "ipython3",
   "version": "3.7.3"
  }
 },
 "nbformat": 4,
 "nbformat_minor": 4
}
