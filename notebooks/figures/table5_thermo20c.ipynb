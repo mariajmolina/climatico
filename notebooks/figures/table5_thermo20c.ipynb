{
 "cells": [
  {
   "cell_type": "markdown",
   "metadata": {},
   "source": [
    "## Table 5 (Journal of Climate submission; Molina et al.)"
   ]
  },
  {
   "cell_type": "markdown",
   "metadata": {},
   "source": [
    "Table 5. Mean thermocline depth in meters, represented as the depth of the 20◦C isotherm (Kessler 1990),across the tropical Pacific  during El Niño, La Niña, and mean climatology. ENSO events and climatology are derived from the years 800-1599 for the CESM1 control, 201-500 for Global and Pacific experiments, and 101-250 for the Pacific Salt experiment."
   ]
  },
  {
   "cell_type": "markdown",
   "metadata": {},
   "source": [
    "**Table by: Maria J. Molina**"
   ]
  },
  {
   "cell_type": "code",
   "execution_count": 1,
   "metadata": {},
   "outputs": [],
   "source": [
    "import xarray as xr\n",
    "import matplotlib.pyplot as plt\n",
    "import numpy as np\n",
    "import cftime"
   ]
  },
  {
   "cell_type": "code",
   "execution_count": 2,
   "metadata": {},
   "outputs": [],
   "source": [
    "from config import directory_figs, directory_data"
   ]
  },
  {
   "cell_type": "code",
   "execution_count": 3,
   "metadata": {},
   "outputs": [],
   "source": [
    "#def pop_lon_indx():\n",
    "#    \"\"\"\n",
    "#    Extract mask for the pacific slab region. Mask contains ones and nans. (Previous version for just nino3.4)\n",
    "#    \"\"\"\n",
    "#    for_lon = xr.open_dataset('/glade/scratch/molina/amoc_exp/b.e11.B1850LENS.f09_g16.FWAtSalG02Sv.pop.h.SST.000101-005012.nc')\n",
    "#    mask = for_lon['SST'].where((for_lon['TLAT']<5) & (for_lon['TLAT']>-5) & (for_lon['TLONG']>-170+360) & (for_lon['TLONG']<-120+360), \n",
    "#                                 drop=False).isel(z_t=0, time=0).values\n",
    "#    return np.where(np.isnan(mask), np.nan, 1)\n",
    "\n",
    "def pop_lon_indx():\n",
    "    \"\"\"\n",
    "    Extract mask for the pacslab region. Mask contains ones and nans.\n",
    "    \"\"\"\n",
    "    for_lon = xr.open_dataset(f'{directory_data}b.e11.B1850LENS.f09_g16.FWAtSalG02Sv.pop.h.SST.000101-005012.nc')\n",
    "    mask = for_lon['SST'].where((for_lon['TLAT']<10) & (for_lon['TLAT']>-10) & (for_lon['TLONG']>160) & (for_lon['TLONG']<-80+360), \n",
    "                                 drop=False).isel(z_t=0, time=0).values\n",
    "    return np.where(np.isnan(mask), np.nan, 1)\n",
    "\n",
    "def compute_iso(threedim_array, mask):\n",
    "    \"\"\"\n",
    "    Create array of depth of isotherm using 3d iso array and 2d mask.\n",
    "    Args:\n",
    "        threedim_array (numpy array): Isotherm values.\n",
    "        mask (numpy array): Mask from pop_lon_indx.\n",
    "    Returns:\n",
    "        One dimensional array across Pacific slab region.\n",
    "    \"\"\"\n",
    "    newmask = np.nanmean(np.nanmean(threedim_array[:,:,:] * mask[np.newaxis,:,:], axis=0), axis=0) * 0.01\n",
    "    return newmask[~np.isnan(newmask)]\n",
    "\n",
    "def for_time_series(threedim_array, mask):\n",
    "    \"\"\"\n",
    "    Create array of depth of isotherm using 3d iso array and 2d mask.\n",
    "    Args:\n",
    "        threedim_array (numpy array): Isotherm values.\n",
    "        mask (numpy array): Mask from pop_lon_indx.\n",
    "    Returns:\n",
    "        One dimensional array across Pacific slab region.\n",
    "    \"\"\"\n",
    "    newmask = np.nanmean(threedim_array[:,:,:] * mask[np.newaxis,:,:], axis=1) * 0.01\n",
    "    return newmask[~np.isnan(newmask)]"
   ]
  },
  {
   "cell_type": "code",
   "execution_count": 4,
   "metadata": {},
   "outputs": [],
   "source": [
    "# grab lon indxs\n",
    "lon_array_locs = pop_lon_indx()"
   ]
  },
  {
   "cell_type": "code",
   "execution_count": 9,
   "metadata": {},
   "outputs": [],
   "source": [
    "# slab isotherms\n",
    "iso20_g02sv = xr.open_dataset(\n",
    "    f'{directory_data}iso20c_FWAtSalG02Sv.nc').sel(\n",
    "    TIME=slice(cftime.DatetimeNoLeap(201, 1, 1, 0, 0),cftime.DatetimeNoLeap(500, 12, 1, 0, 0)))['DEPTH_OF_20C'].resample(TIME='QS-DEC').mean(skipna=True)\n",
    "\n",
    "iso20_g04sv = xr.open_dataset(\n",
    "    f'{directory_data}iso20c_FWAtSalG04Sv.nc').sel(\n",
    "    TIME=slice(cftime.DatetimeNoLeap(201, 1, 1, 0, 0),cftime.DatetimeNoLeap(500, 12, 1, 0, 0)))['DEPTH_OF_20C'].resample(TIME='QS-DEC').mean(skipna=True)\n",
    "\n",
    "iso20_p02sv = xr.open_dataset(\n",
    "    f'{directory_data}iso20c_FWAtSalP02Sv.nc').sel(\n",
    "    TIME=slice(cftime.DatetimeNoLeap(201, 1, 1, 0, 0),cftime.DatetimeNoLeap(500, 12, 1, 0, 0)))['DEPTH_OF_20C'].resample(TIME='QS-DEC').mean(skipna=True)\n",
    "\n",
    "iso20_p04sv = xr.open_dataset(\n",
    "    f'{directory_data}iso20c_FWAtSalP04Sv.nc').sel(\n",
    "    TIME=slice(cftime.DatetimeNoLeap(201, 1, 1, 0, 0),cftime.DatetimeNoLeap(500, 12, 1, 0, 0)))['DEPTH_OF_20C'].resample(TIME='QS-DEC').mean(skipna=True)\n",
    "\n",
    "iso20_psalt = xr.open_dataset(\n",
    "    f'{directory_data}iso20c_FWPaSalP04Sv.nc').sel(\n",
    "    TIME=slice(cftime.DatetimeNoLeap(101, 1, 1, 0, 0),cftime.DatetimeNoLeap(250, 12, 1, 0, 0)))['DEPTH_OF_20C'].resample(TIME='QS-DEC').mean(skipna=True)\n",
    "\n",
    "iso20_cntrl = xr.open_dataset(\n",
    "    f'{directory_data}iso20c_005.nc').sel(\n",
    "    TIME=slice(cftime.DatetimeNoLeap(800, 1, 1, 0, 0),cftime.DatetimeNoLeap(1599, 12, 1, 0, 0)))['DEPTH_OF_20C'].resample(TIME='QS-DEC').mean(skipna=True)\n"
   ]
  },
  {
   "cell_type": "code",
   "execution_count": 10,
   "metadata": {},
   "outputs": [],
   "source": [
    "iso20_g02sv = iso20_g02sv[iso20_g02sv['TIME.month']==12].values\n",
    "iso20_g04sv = iso20_g04sv[iso20_g04sv['TIME.month']==12].values\n",
    "iso20_p02sv = iso20_p02sv[iso20_p02sv['TIME.month']==12].values\n",
    "iso20_p04sv = iso20_p04sv[iso20_p04sv['TIME.month']==12].values\n",
    "iso20_psalt = iso20_psalt[iso20_psalt['TIME.month']==12].values\n",
    "iso20_cntrl = iso20_cntrl[iso20_cntrl['TIME.month']==12].values"
   ]
  },
  {
   "cell_type": "code",
   "execution_count": 17,
   "metadata": {},
   "outputs": [
    {
     "name": "stderr",
     "output_type": "stream",
     "text": [
      "/glade/work/molina/miniconda3/envs/python-tutorial/lib/python3.7/site-packages/ipykernel_launcher.py:28: RuntimeWarning: Mean of empty slice\n"
     ]
    }
   ],
   "source": [
    "iso20_g02sv = compute_iso(iso20_g02sv, lon_array_locs)\n",
    "iso20_g04sv = compute_iso(iso20_g04sv, lon_array_locs)\n",
    "iso20_p02sv = compute_iso(iso20_p02sv, lon_array_locs)\n",
    "iso20_p04sv = compute_iso(iso20_p04sv, lon_array_locs)\n",
    "iso20_psalt = compute_iso(iso20_psalt, lon_array_locs)\n",
    "iso20_cntrl = compute_iso(iso20_cntrl, lon_array_locs)"
   ]
  },
  {
   "cell_type": "code",
   "execution_count": 18,
   "metadata": {},
   "outputs": [],
   "source": [
    "nino_iso20 = xr.open_dataset(f'{directory_data}ninoslabs_DEPTH_OF_20C.nc')\n",
    "nina_iso20 = xr.open_dataset(f'{directory_data}ninaslabs_DEPTH_OF_20C.nc')"
   ]
  },
  {
   "cell_type": "code",
   "execution_count": 19,
   "metadata": {},
   "outputs": [
    {
     "name": "stdout",
     "output_type": "stream",
     "text": [
      "123.6\n",
      "119.4\n",
      "124.7\n",
      "121.6\n",
      "123.6\n",
      "124.7\n"
     ]
    }
   ],
   "source": [
    "print(np.around(iso20_cntrl.mean(),1))\n",
    "print(np.around(iso20_g02sv.mean(),1))\n",
    "print(np.around(iso20_g04sv.mean(),1))\n",
    "print(np.around(iso20_p02sv.mean(),1))\n",
    "print(np.around(iso20_p04sv.mean(),1))\n",
    "print(np.around(iso20_psalt.mean(),1))"
   ]
  },
  {
   "cell_type": "code",
   "execution_count": 20,
   "metadata": {},
   "outputs": [
    {
     "name": "stdout",
     "output_type": "stream",
     "text": [
      "124.0\n",
      "118.0\n",
      "123.4\n",
      "121.9\n",
      "123.3\n",
      "124.3\n"
     ]
    }
   ],
   "source": [
    "print(np.around(nino_iso20['cntrl_nino'].mean().values,1))\n",
    "print(np.around(nino_iso20['g02sv_nino'].mean().values,1))\n",
    "print(np.around(nino_iso20['g04sv_nino'].mean().values,1))\n",
    "print(np.around(nino_iso20['p02sv_nino'].mean().values,1))\n",
    "print(np.around(nino_iso20['p04sv_nino'].mean().values,1))\n",
    "print(np.around(nino_iso20['psalt_nino'].mean().values,1))"
   ]
  },
  {
   "cell_type": "code",
   "execution_count": 21,
   "metadata": {},
   "outputs": [
    {
     "name": "stdout",
     "output_type": "stream",
     "text": [
      "123.5\n",
      "120.1\n",
      "125.3\n",
      "121.5\n",
      "123.7\n",
      "124.9\n"
     ]
    }
   ],
   "source": [
    "print(np.around(nina_iso20['cntrl_nina'].mean().values,1))\n",
    "print(np.around(nina_iso20['g02sv_nina'].mean().values,1))\n",
    "print(np.around(nina_iso20['g04sv_nina'].mean().values,1))\n",
    "print(np.around(nina_iso20['p02sv_nina'].mean().values,1))\n",
    "print(np.around(nina_iso20['p04sv_nina'].mean().values,1))\n",
    "print(np.around(nina_iso20['psalt_nina'].mean().values,1))"
   ]
  }
 ],
 "metadata": {
  "kernelspec": {
   "display_name": "Python [conda env:miniconda3-python-tutorial]",
   "language": "python",
   "name": "conda-env-miniconda3-python-tutorial-python3_myenv"
  },
  "language_info": {
   "codemirror_mode": {
    "name": "ipython",
    "version": 3
   },
   "file_extension": ".py",
   "mimetype": "text/x-python",
   "name": "python",
   "nbconvert_exporter": "python",
   "pygments_lexer": "ipython3",
   "version": "3.7.3"
  }
 },
 "nbformat": 4,
 "nbformat_minor": 4
}
