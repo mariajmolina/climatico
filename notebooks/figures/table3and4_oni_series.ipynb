{
 "cells": [
  {
   "cell_type": "markdown",
   "metadata": {},
   "source": [
    "## Table 3 and 4 (Journal of Climate submission; Molina et al.)"
   ]
  },
  {
   "cell_type": "markdown",
   "metadata": {},
   "source": [
    "Table 3. ONI variance (◦C2) for different time periods of the Global and Pacific freshwater hosing experimentsas compared to the CESM1 control. Years 201-500 include the time period of AMOC collapse for the sensitivityexperiments. Years 551-650 contain the time period when the 0.2 Sv experiments overshoot AMOC strength inthe CESM1 control and 0.4 Sv experiments contain a mostly collapsed AMOC state. Years 651-800 contain theAMOC overshoot period for the 0.4 Sv experiment.\n",
    "\n",
    "Table 4. ONI variance (◦C2) for different time periods of the Pacific Salt experiment as compared to theCESM1 control. Years 101-250 include the time period of PMOC intensification and years 251-300 contain thetime period of rapid PMOC weakening and return to a PMOC collapsed state in the Pacific Salt experiment."
   ]
  },
  {
   "cell_type": "markdown",
   "metadata": {},
   "source": [
    "**Figure by: Maria J. Molina, NCAR**"
   ]
  },
  {
   "cell_type": "code",
   "execution_count": 1,
   "metadata": {},
   "outputs": [],
   "source": [
    "# imports \n",
    "import xarray as xr\n",
    "import pandas as pd\n",
    "import numpy as np\n",
    "from climatico import enso\n",
    "from climatico.util import weighted_mean\n",
    "import matplotlib.pyplot as plt\n",
    "from matplotlib.lines import Line2D\n",
    "from datetime import timedelta"
   ]
  },
  {
   "cell_type": "code",
   "execution_count": 2,
   "metadata": {},
   "outputs": [],
   "source": [
    "from config import directory_figs, directory_data"
   ]
  },
  {
   "cell_type": "code",
   "execution_count": 3,
   "metadata": {},
   "outputs": [],
   "source": [
    "# list of filenames to do this for\n",
    "file_g02sv = 'b1d.e11.B1850LENS.f09_g16.FWAtSalG02Sv.pop.h.SST.*.nc'\n",
    "file_g04sv = 'b1d.e11.B1850LENS.f09_g16.FWAtSalG04Sv.pop.h.SST.*.nc'\n",
    "file_p02sv = 'b1d.e11.B1850LENS.f09_g16.FWAtSalP02Sv.pop.h.SST.*.nc'\n",
    "file_p04sv = 'b1d.e11.B1850LENS.f09_g16.FWAtSalP04Sv.pop.h.SST.*.nc'\n",
    "file_psalt = 'b1d.e11.B1850LENS.f09_g16.FWPaSalP04Sv.pop.h.SST.*.nc'\n",
    "file_cntrl = 'b1d.e11.B1850C5CN.f09_g16.005.pop.h.SST.*.nc'"
   ]
  },
  {
   "cell_type": "code",
   "execution_count": 4,
   "metadata": {},
   "outputs": [],
   "source": [
    "nino = enso.DefineNino(nino='nino34', lats='lat', lons='lon', cutoff=0.5, runningmean=3)"
   ]
  },
  {
   "cell_type": "code",
   "execution_count": 5,
   "metadata": {},
   "outputs": [],
   "source": [
    "# extract first 100 years from control run for concatenating\n",
    "ds = xr.open_mfdataset(f'{directory_data}{file_cntrl}',\n",
    "                       combine='by_coords',\n",
    "                       preprocess=nino.nino)\n",
    "# fix time coord\n",
    "ds = ds.assign_coords(time=ds.coords['time'] - timedelta(days=17))\n",
    "# reduce dims to time, lat, lon\n",
    "ds = ds.isel(z_t=0)\n",
    "# compute weighted mean of sst region\n",
    "first100_ssts = ds['SST']"
   ]
  },
  {
   "cell_type": "code",
   "execution_count": 6,
   "metadata": {},
   "outputs": [],
   "source": [
    "# control run index computation\n",
    "ds2 = xr.open_mfdataset(f'{directory_data}{file_cntrl}',\n",
    "                        combine='by_coords',\n",
    "                        preprocess=nino.nino)\n",
    "# fix time coord\n",
    "ds2 = ds2.assign_coords(time=ds2.coords['time'] - timedelta(days=17))\n",
    "# reduce dims to time, lat, lon\n",
    "ds2 = ds2.isel(z_t=0)\n",
    "\n",
    "# attach first 100 years\n",
    "control_ssts = xr.concat([first100_ssts.sel(time=slice('0700-01-01 00:00:00', '0800-01-01 00:00:00')),\n",
    "                          ds2['SST'].sel(time=slice('0800-01-01 00:00:00', '1600-01-01 00:00:00'))], dim='time')\n",
    "control_ssts['time'] = xr.cftime_range(start=\"0001-01-01 00:00:00\", end=\"0900-12-31 00:00:00\", freq=\"MS\", calendar=\"noleap\")\n",
    "\n",
    "# rolling climo \n",
    "control_ssts_roll = nino.monthly_climo(control_ssts.chunk({'time':900}), yrsroll=30, centered=True, time='time')\n",
    "\n",
    "# compute nino index\n",
    "control_nino, stdval = nino.compute_index(\n",
    "                                  control_ssts, control_ssts_roll, \n",
    "                                  linear_detrend=False, lat_name='lat',\n",
    "                                  output_std=True, input_std=None, custom_std=False, first_threshold=100, last_threshold=900)                               \n",
    "\n",
    "# grab numpy array\n",
    "#control_nino = control_nino.values\n",
    "control_stdval = stdval.values"
   ]
  },
  {
   "cell_type": "code",
   "execution_count": 7,
   "metadata": {},
   "outputs": [],
   "source": [
    "# g02sv index computation\n",
    "ds3 = xr.open_mfdataset(f'{directory_data}{file_g02sv}',\n",
    "                       combine='by_coords',\n",
    "                       preprocess=nino.nino)\n",
    "# fix time coord\n",
    "ds3 = ds3.assign_coords(time=ds3.coords['time'] - timedelta(days=17))\n",
    "# reduce dims to time, lat, lon\n",
    "ds3 = ds3.isel(z_t=0)\n",
    "\n",
    "# attach first 100 years\n",
    "g02sv_ssts = xr.concat([first100_ssts.sel(time=slice('0700-01-01 00:00:00', '0800-01-01 00:00:00')),\n",
    "                        ds3['SST'].sel(time=slice('0001-01-01 00:00:00', '0801-01-01 00:00:00'))], dim='time')\n",
    "g02sv_ssts['time']=xr.cftime_range(start=\"0001-01-01 00:00:00\", end=\"0900-12-31 00:00:00\", freq=\"MS\", calendar=\"noleap\")\n",
    "\n",
    "# rolling climo \n",
    "g02sv_ssts_roll = nino.monthly_climo(g02sv_ssts.chunk({'time':900}), yrsroll=30, centered=True, time='time')\n",
    "\n",
    "# compute nino index\n",
    "g02sv_nino = nino.compute_index(g02sv_ssts, g02sv_ssts_roll, \n",
    "                                  linear_detrend=False, lat_name='lat',\n",
    "                                  output_std=False, input_std=control_stdval, custom_std=True, first_threshold=100, last_threshold=900)\n",
    "\n",
    "# grab numpy array\n",
    "#g02sv_nino = g02sv_nino.values"
   ]
  },
  {
   "cell_type": "code",
   "execution_count": 8,
   "metadata": {},
   "outputs": [],
   "source": [
    "# g04sv index computation\n",
    "ds4 = xr.open_mfdataset(f'{directory_data}{file_g04sv}',\n",
    "                       combine='by_coords',\n",
    "                       preprocess=nino.nino)\n",
    "# fix time coord\n",
    "ds4 = ds4.assign_coords(time=ds4.coords['time'] - timedelta(days=17))\n",
    "# reduce dims to time, lat, lon\n",
    "ds4 = ds4.isel(z_t=0)\n",
    "\n",
    "# attach first 100 years\n",
    "g04sv_ssts = xr.concat([first100_ssts.sel(time=slice('0700-01-01 00:00:00', '0800-01-01 00:00:00')),\n",
    "                        ds4['SST'].sel(time=slice('0001-01-01 00:00:00', '0801-01-01 00:00:00'))], dim='time')\n",
    "g04sv_ssts['time']=xr.cftime_range(start=\"0001-01-01 00:00:00\", end=\"0900-12-31 00:00:00\", freq=\"MS\", calendar=\"noleap\")\n",
    "\n",
    "# rolling climo \n",
    "g04sv_ssts_roll = nino.monthly_climo(g04sv_ssts.chunk({'time':900}), yrsroll=30, centered=True, time='time')\n",
    "\n",
    "# compute nino index\n",
    "g04sv_nino = nino.compute_index(g04sv_ssts, g04sv_ssts_roll, \n",
    "                                  linear_detrend=False, lat_name='lat',\n",
    "                                  output_std=False, input_std=control_stdval, custom_std=True, first_threshold=100, last_threshold=900)\n",
    "\n",
    "# grab numpy arrays\n",
    "#g04sv_nino = g04sv_nino.values"
   ]
  },
  {
   "cell_type": "code",
   "execution_count": 9,
   "metadata": {},
   "outputs": [],
   "source": [
    "# p02sv index computation\n",
    "ds5 = xr.open_mfdataset(f'{directory_data}{file_p02sv}',\n",
    "                       combine='by_coords',\n",
    "                       preprocess=nino.nino)\n",
    "# fix time coord\n",
    "ds5 = ds5.assign_coords(time=ds5.coords['time'] - timedelta(days=17))\n",
    "# reduce dims to time, lat, lon\n",
    "ds5 = ds5.isel(z_t=0)\n",
    "\n",
    "# attach first 100 years\n",
    "p02sv_ssts = xr.concat([first100_ssts.sel(time=slice('0700-01-01 00:00:00', '0800-01-01 00:00:00')),\n",
    "                        ds5['SST'].sel(time=slice('0001-01-01 00:00:00', '0801-01-01 00:00:00'))], dim='time')\n",
    "p02sv_ssts['time'] = xr.cftime_range(start=\"0001-01-01 00:00:00\", end=\"0900-12-31 00:00:00\", freq=\"MS\", calendar=\"noleap\")\n",
    "\n",
    "# rolling climo \n",
    "p02sv_ssts_roll = nino.monthly_climo(p02sv_ssts.chunk({'time':900}), yrsroll=30, centered=True, time='time')\n",
    "\n",
    "# compute nino index\n",
    "p02sv_nino = nino.compute_index(p02sv_ssts, p02sv_ssts_roll, \n",
    "                                  linear_detrend=False, lat_name='lat',\n",
    "                                  output_std=False, input_std=control_stdval, custom_std=True, first_threshold=100, last_threshold=900)\n",
    "\n",
    "# grab numpy arrays\n",
    "#p02sv_nino = p02sv_nino.values"
   ]
  },
  {
   "cell_type": "code",
   "execution_count": 10,
   "metadata": {},
   "outputs": [],
   "source": [
    "# p04sv index computation\n",
    "ds6 = xr.open_mfdataset(f'{directory_data}{file_p04sv}',\n",
    "                       combine='by_coords',\n",
    "                       preprocess=nino.nino)\n",
    "# fix time coord\n",
    "ds6 = ds6.assign_coords(time=ds6.coords['time'] - timedelta(days=17))\n",
    "# reduce dims to time, lat, lon\n",
    "ds6 = ds6.isel(z_t=0)\n",
    "\n",
    "# attach first 100 years\n",
    "p04sv_ssts = xr.concat([first100_ssts.sel(time=slice('0700-01-01 00:00:00', '0800-01-01 00:00:00')),\n",
    "                        ds6['SST'].sel(time=slice('0001-01-01 00:00:00', '0801-01-01 00:00:00'))], dim='time')\n",
    "p04sv_ssts['time']=xr.cftime_range(start=\"0001-01-01 00:00:00\", end=\"0900-12-31 00:00:00\", freq=\"MS\", calendar=\"noleap\")\n",
    "\n",
    "# rolling climo \n",
    "p04sv_ssts_roll = nino.monthly_climo(p04sv_ssts.chunk({'time':900}), yrsroll=30, centered=True, time='time')\n",
    "\n",
    "# compute nino index\n",
    "p04sv_nino = nino.compute_index(p04sv_ssts, p04sv_ssts_roll, \n",
    "                                  linear_detrend=False, lat_name='lat',\n",
    "                                  output_std=False, input_std=control_stdval, custom_std=True, first_threshold=100, last_threshold=900)\n",
    "\n",
    "# grab numpy arrays\n",
    "#p04sv_nino = p04sv_nino.values"
   ]
  },
  {
   "cell_type": "code",
   "execution_count": 11,
   "metadata": {},
   "outputs": [],
   "source": [
    "# psalt index computation\n",
    "ds7 = xr.open_mfdataset(f'{directory_data}{file_psalt}',\n",
    "                       combine='by_coords',\n",
    "                       preprocess=nino.nino)\n",
    "# fix time coord\n",
    "ds7 = ds7.assign_coords(time=ds7.coords['time'] - timedelta(days=17))\n",
    "# reduce dims to time, lat, lon\n",
    "ds7 = ds7.isel(z_t=0)\n",
    "\n",
    "# psalt index computation\n",
    "ds8 = xr.open_mfdataset(f'{directory_data}b2d.e11.B1850LENS.f09_g16.FWPaSalP04Sv.pop.h.SST.030101-035012.nc',\n",
    "                       combine='by_coords',\n",
    "                       preprocess=nino.nino)\n",
    "# fix time coord\n",
    "ds8 = ds8.assign_coords(time=ds8.coords['time'] - timedelta(days=17))\n",
    "ds8 = ds8.sel(time=slice('0301-01-01 00:00:00', '0351-01-01 00:00:00'))\n",
    "\n",
    "# attach first 100 years\n",
    "psalt_ssts = xr.concat([first100_ssts.sel(time=slice('0700-01-01 00:00:00', '0800-01-01 00:00:00')).drop('z_t'),\n",
    "                        ds7['SST'].sel(time=slice('0001-01-01 00:00:00', '0301-01-01 00:00:00')).drop('z_t'),\n",
    "                        ds8['SST']], dim='time')\n",
    "psalt_ssts['time']=xr.cftime_range(start=\"0001-01-01 00:00:00\", end=\"0450-12-31 00:00:00\", freq=\"MS\", calendar=\"noleap\")\n",
    "\n",
    "# rolling climo \n",
    "psalt_ssts_roll = nino.monthly_climo(psalt_ssts.chunk({'time':900}), yrsroll=30, centered=True, time='time')\n",
    "\n",
    "# compute nino index\n",
    "psalt_nino = nino.compute_index(psalt_ssts, psalt_ssts_roll, \n",
    "                                  linear_detrend=False, lat_name='lat',\n",
    "                                  output_std=False, input_std=control_stdval, custom_std=True, first_threshold=100, last_threshold=450)\n",
    "\n",
    "# grab numpy arrays\n",
    "#psalt_nino = psalt_nino.values"
   ]
  },
  {
   "cell_type": "markdown",
   "metadata": {},
   "source": [
    "Compute the variances."
   ]
  },
  {
   "cell_type": "code",
   "execution_count": 12,
   "metadata": {
    "tags": []
   },
   "outputs": [
    {
     "name": "stdout",
     "output_type": "stream",
     "text": [
      "amoc collapse period\n",
      "1.0290683683148447\n",
      "1.2321633055166374\n",
      "1.1028303528575303\n",
      "1.2550042519717188\n",
      "1.2014058716534053\n"
     ]
    }
   ],
   "source": [
    "# amoc collapse period (years 201-500)\n",
    "print('amoc collapse period')\n",
    "print(control_nino.sel(\n",
    "    time=slice('0301-01-01 00:00:00','0600-12-31 00:00:00')).var(skipna=True).drop('z_t').values)\n",
    "print(g02sv_nino.sel(\n",
    "    time=slice('0301-01-01 00:00:00','0600-12-31 00:00:00')).var(skipna=True).drop('z_t').values)\n",
    "print(g04sv_nino.sel(\n",
    "    time=slice('0301-01-01 00:00:00','0600-12-31 00:00:00')).var(skipna=True).drop('z_t').values)\n",
    "print(p02sv_nino.sel(\n",
    "    time=slice('0301-01-01 00:00:00','0600-12-31 00:00:00')).var(skipna=True).drop('z_t').values)\n",
    "print(p04sv_nino.sel(\n",
    "    time=slice('0301-01-01 00:00:00','0600-12-31 00:00:00')).var(skipna=True).drop('z_t').values)"
   ]
  },
  {
   "cell_type": "code",
   "execution_count": 13,
   "metadata": {},
   "outputs": [
    {
     "name": "stdout",
     "output_type": "stream",
     "text": [
      "amoc overshoot period\n",
      "1.189405447147128\n",
      "0.8324619015607647\n",
      "1.1325987753446527\n",
      "0.7754308415938108\n",
      "1.051623261698329\n"
     ]
    }
   ],
   "source": [
    "# amoc active period (years 551-650)\n",
    "print('amoc overshoot period')\n",
    "print(control_nino.sel(\n",
    "    time=slice('0651-01-01 00:00:00','0750-12-31 00:00:00')).var(skipna=True).drop('z_t').values)\n",
    "print(g02sv_nino.sel(\n",
    "    time=slice('0651-01-01 00:00:00','0750-12-31 00:00:00')).var(skipna=True).drop('z_t').values)\n",
    "print(g04sv_nino.sel(\n",
    "    time=slice('0651-01-01 00:00:00','0750-12-31 00:00:00')).var(skipna=True).drop('z_t').values)\n",
    "print(p02sv_nino.sel(\n",
    "    time=slice('0651-01-01 00:00:00','0750-12-31 00:00:00')).var(skipna=True).drop('z_t').values)\n",
    "print(p04sv_nino.sel(\n",
    "    time=slice('0651-01-01 00:00:00','0750-12-31 00:00:00')).var(skipna=True).drop('z_t').values)"
   ]
  },
  {
   "cell_type": "code",
   "execution_count": 14,
   "metadata": {},
   "outputs": [
    {
     "name": "stdout",
     "output_type": "stream",
     "text": [
      "amoc overshoot period\n",
      "0.9714009781335337\n",
      "0.5461056435982696\n",
      "0.6010298518422034\n",
      "0.576257094125526\n",
      "0.6020547061270839\n"
     ]
    }
   ],
   "source": [
    "# amoc active period (years 651-800)\n",
    "print('amoc overshoot period')\n",
    "print(control_nino.sel(\n",
    "    time=slice('0751-01-01 00:00:00','0900-12-31 00:00:00')).var(skipna=True).drop('z_t').values)\n",
    "print(g02sv_nino.sel(\n",
    "    time=slice('0751-01-01 00:00:00','0900-12-31 00:00:00')).var(skipna=True).drop('z_t').values)\n",
    "print(g04sv_nino.sel(\n",
    "    time=slice('0751-01-01 00:00:00','0900-12-31 00:00:00')).var(skipna=True).drop('z_t').values)\n",
    "print(p02sv_nino.sel(\n",
    "    time=slice('0751-01-01 00:00:00','0900-12-31 00:00:00')).var(skipna=True).drop('z_t').values)\n",
    "print(p04sv_nino.sel(\n",
    "    time=slice('0751-01-01 00:00:00','0900-12-31 00:00:00')).var(skipna=True).drop('z_t').values)"
   ]
  },
  {
   "cell_type": "code",
   "execution_count": 15,
   "metadata": {},
   "outputs": [
    {
     "name": "stdout",
     "output_type": "stream",
     "text": [
      "(psalt)\n",
      "0.9554016701350656\n",
      "0.8876958377807859\n"
     ]
    }
   ],
   "source": [
    "# pmoc active period (years 101-250)\n",
    "print('(psalt)')\n",
    "print(control_nino.sel(\n",
    "    time=slice('0201-01-01 00:00:00','0350-12-31 00:00:00')).var(skipna=True).drop('z_t').values)\n",
    "print(psalt_nino.sel(\n",
    "    time=slice('0201-01-01 00:00:00','0350-12-31 00:00:00')).var(skipna=True).values)"
   ]
  },
  {
   "cell_type": "code",
   "execution_count": 16,
   "metadata": {},
   "outputs": [
    {
     "name": "stdout",
     "output_type": "stream",
     "text": [
      "(psalt)\n",
      "1.0052461433918805\n",
      "1.358997323444676\n"
     ]
    }
   ],
   "source": [
    "# pmoc inactive period (years 251-300)\n",
    "print('(psalt)')\n",
    "print(control_nino.sel(\n",
    "    time=slice('0351-01-01 00:00:00','0400-12-31 00:00:00')).var(skipna=True).drop('z_t').values)\n",
    "print(psalt_nino.sel(\n",
    "    time=slice('0351-01-01 00:00:00','0400-12-31 00:00:00')).var(skipna=True).values)"
   ]
  },
  {
   "cell_type": "code",
   "execution_count": 17,
   "metadata": {},
   "outputs": [
    {
     "name": "stdout",
     "output_type": "stream",
     "text": [
      "(psalt)\n",
      "0.9927815576874726\n",
      "0.5413684188164253\n"
     ]
    }
   ],
   "source": [
    "# pmoc inactive period (years 301-350)\n",
    "print('(psalt)')\n",
    "print(control_nino.sel(\n",
    "    time=slice('0401-01-01 00:00:00','0450-12-31 00:00:00')).var(skipna=True).drop('z_t').values)\n",
    "print(psalt_nino.sel(\n",
    "    time=slice('0401-01-01 00:00:00','0450-12-31 00:00:00')).var(skipna=True).values)"
   ]
  }
 ],
 "metadata": {
  "kernelspec": {
   "display_name": "Python [conda env:miniconda3-python-tutorial]",
   "language": "python",
   "name": "conda-env-miniconda3-python-tutorial-python3_myenv"
  },
  "language_info": {
   "codemirror_mode": {
    "name": "ipython",
    "version": 3
   },
   "file_extension": ".py",
   "mimetype": "text/x-python",
   "name": "python",
   "nbconvert_exporter": "python",
   "pygments_lexer": "ipython3",
   "version": "3.7.3"
  }
 },
 "nbformat": 4,
 "nbformat_minor": 4
}
