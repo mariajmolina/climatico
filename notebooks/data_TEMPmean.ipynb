{
 "cells": [
  {
   "cell_type": "markdown",
   "metadata": {},
   "source": [
    "### Data exploration of tropical Pacific vertical depth\n",
    "\n",
    "Creating datasets to be able to generate figures later easily."
   ]
  },
  {
   "cell_type": "markdown",
   "metadata": {},
   "source": [
    "``Some notes: Since you will have the 3-d ocean temperature, you can also plot the mean ocean temperature averaged between 5N and 5S to a depth of 200 or 300 meters in the Pacific. This plot will show you how warm pool water is advected from west to east equatorial Pacific to trigger an El Nino event. `` "
   ]
  },
  {
   "cell_type": "code",
   "execution_count": 1,
   "metadata": {},
   "outputs": [],
   "source": [
    "import xarray as xr\n",
    "import cftime\n",
    "from climatico import enso\n",
    "import matplotlib.pyplot as plt\n",
    "from datetime import timedelta"
   ]
  },
  {
   "cell_type": "code",
   "execution_count": 2,
   "metadata": {},
   "outputs": [],
   "source": [
    "from config import directory_figs, directory_data"
   ]
  },
  {
   "cell_type": "code",
   "execution_count": 9,
   "metadata": {},
   "outputs": [],
   "source": [
    "# list of filenames to do this for\n",
    "file_g02sv = 'b.e11.B1850LENS.f09_g16.FWAtSalG02Sv.pop.h.TEMP.*.nc'\n",
    "file_g04sv = 'b.e11.B1850LENS.f09_g16.FWAtSalG04Sv.pop.h.TEMP.*.nc'\n",
    "file_p02sv = 'b.e11.B1850LENS.f09_g16.FWAtSalP02Sv.pop.h.TEMP.*.nc'\n",
    "file_p04sv = 'b.e11.B1850LENS.f09_g16.FWAtSalP04Sv.pop.h.TEMP.*.nc'\n",
    "file_psalt = 'b.e11.B1850LENS.f09_g16.FWPaSalP04Sv.pop.h.TEMP.*.nc'\n",
    "file_cntrl = 'b.e11.B1850C5CN.f09_g16.005.pop.h.TEMP.*.nc'"
   ]
  },
  {
   "cell_type": "code",
   "execution_count": 10,
   "metadata": {},
   "outputs": [],
   "source": [
    "nino = enso.DefineNino(nino='nino34', cutoff=0.5, runningmean=3)"
   ]
  },
  {
   "cell_type": "code",
   "execution_count": 12,
   "metadata": {},
   "outputs": [
    {
     "name": "stderr",
     "output_type": "stream",
     "text": [
      "/glade/work/molina/miniconda3/envs/python-tutorial/lib/python3.7/site-packages/dask/array/numpy_compat.py:41: RuntimeWarning: invalid value encountered in true_divide\n",
      "  x = np.divide(x1, x2, out)\n"
     ]
    }
   ],
   "source": [
    "ds = xr.open_mfdataset(f'{directory_data}{file_g02sv}',\n",
    "                       combine='by_coords',\n",
    "                       preprocess=nino.pacific_slab_slice)\n",
    "# fix time coord\n",
    "ds = ds.assign_coords(time=ds.coords['time'] - timedelta(days=17))\n",
    "\n",
    "# grab coordinates\n",
    "z_t_coord = ds['TEMP'].sel(time=slice(cftime.DatetimeNoLeap(201, 1, 1, 0, 0),cftime.DatetimeNoLeap(501, 1, 1, 0, 0))).resample(\n",
    "                           time='AS').mean(skipna=True).mean(dim=['time']).mean(dim=['nlat'], skipna=True).sel(z_t=slice(500., 300. * 100.)).coords['z_t'].values\n",
    "lon_coord = ds['TEMP'].coords['TLONG'].values\n",
    "\n",
    "# select data\n",
    "ds_ = ds['TEMP'].sel(time=slice(cftime.DatetimeNoLeap(201, 1, 1, 0, 0),cftime.DatetimeNoLeap(501, 1, 1, 0, 0))).resample(\n",
    "                     time='AS').mean(skipna=True).mean(dim=['time']).mean(dim=['nlat'], skipna=True).sel(z_t=slice(500.,300. * 100.)).values\n",
    "# assemble file\n",
    "data_assemble = xr.Dataset({'temp' :(['z_t','a'], ds_),\n",
    "                            'TLONG':(['nlat','nlon'], lon_coord)},\n",
    "                            coords = {'z_t':(['z_t'], z_t_coord)})\n",
    "# save file\n",
    "data_assemble.to_netcdf(f'{directory_data}pacific_slab_g02sv.nc')"
   ]
  },
  {
   "cell_type": "code",
   "execution_count": 13,
   "metadata": {},
   "outputs": [
    {
     "name": "stderr",
     "output_type": "stream",
     "text": [
      "/glade/work/molina/miniconda3/envs/python-tutorial/lib/python3.7/site-packages/dask/array/numpy_compat.py:41: RuntimeWarning: invalid value encountered in true_divide\n",
      "  x = np.divide(x1, x2, out)\n"
     ]
    }
   ],
   "source": [
    "ds = xr.open_mfdataset(f'{directory_data}{file_g04sv}',\n",
    "                       combine='by_coords',\n",
    "                       preprocess=nino.pacific_slab_slice)\n",
    "# fix time coord\n",
    "ds = ds.assign_coords(time=ds.coords['time'] - timedelta(days=17))\n",
    "\n",
    "# select data\n",
    "ds_ = ds['TEMP'].sel(time=slice(cftime.DatetimeNoLeap(201, 1, 1, 0, 0),cftime.DatetimeNoLeap(501, 1, 1, 0, 0))).resample(\n",
    "                     time='AS').mean(skipna=True).mean(dim=['time']).mean(dim=['nlat'], skipna=True).sel(z_t=slice(500.,300. * 100.)).values\n",
    "# assemble file\n",
    "data_assemble = xr.Dataset({'temp' :(['z_t','a'], ds_),\n",
    "                            'TLONG':(['nlat','nlon'], lon_coord)},\n",
    "                            coords = {'z_t':(['z_t'], z_t_coord)})\n",
    "# save file\n",
    "data_assemble.to_netcdf(f'{directory_data}pacific_slab_g04sv.nc')"
   ]
  },
  {
   "cell_type": "code",
   "execution_count": 14,
   "metadata": {},
   "outputs": [
    {
     "name": "stderr",
     "output_type": "stream",
     "text": [
      "/glade/work/molina/miniconda3/envs/python-tutorial/lib/python3.7/site-packages/dask/array/numpy_compat.py:41: RuntimeWarning: invalid value encountered in true_divide\n",
      "  x = np.divide(x1, x2, out)\n"
     ]
    }
   ],
   "source": [
    "ds = xr.open_mfdataset(f'{directory_data}{file_p02sv}',\n",
    "                       combine='by_coords',\n",
    "                       preprocess=nino.pacific_slab_slice)\n",
    "# fix time coord\n",
    "ds = ds.assign_coords(time=ds.coords['time'] - timedelta(days=17))\n",
    "\n",
    "# select data\n",
    "ds_ = ds['TEMP'].sel(time=slice(cftime.DatetimeNoLeap(201, 1, 1, 0, 0),cftime.DatetimeNoLeap(501, 1, 1, 0, 0))).resample(\n",
    "                     time='AS').mean(skipna=True).mean(dim=['time']).mean(dim=['nlat'], skipna=True).sel(z_t=slice(500.,300. * 100.)).values\n",
    "# assemble file\n",
    "data_assemble = xr.Dataset({'temp' :(['z_t','a'], ds_),\n",
    "                            'TLONG':(['nlat','nlon'], lon_coord)},\n",
    "                            coords = {'z_t':(['z_t'], z_t_coord)})\n",
    "# save file\n",
    "data_assemble.to_netcdf(f'{directory_data}pacific_slab_p02sv.nc')"
   ]
  },
  {
   "cell_type": "code",
   "execution_count": 15,
   "metadata": {},
   "outputs": [
    {
     "name": "stderr",
     "output_type": "stream",
     "text": [
      "/glade/work/molina/miniconda3/envs/python-tutorial/lib/python3.7/site-packages/dask/array/numpy_compat.py:41: RuntimeWarning: invalid value encountered in true_divide\n",
      "  x = np.divide(x1, x2, out)\n"
     ]
    }
   ],
   "source": [
    "ds = xr.open_mfdataset(f'{directory_data}{file_p04sv}',\n",
    "                       combine='by_coords',\n",
    "                       preprocess=nino.pacific_slab_slice)\n",
    "# fix time coord\n",
    "ds = ds.assign_coords(time=ds.coords['time'] - timedelta(days=17))\n",
    "\n",
    "# select data\n",
    "ds_ = ds['TEMP'].sel(time=slice(cftime.DatetimeNoLeap(201, 1, 1, 0, 0),cftime.DatetimeNoLeap(501, 1, 1, 0, 0))).resample(\n",
    "                     time='AS').mean(skipna=True).mean(dim=['time']).mean(dim=['nlat'], skipna=True).sel(z_t=slice(500.,300. * 100.)).values\n",
    "# assemble file\n",
    "data_assemble = xr.Dataset({'temp' :(['z_t','a'], ds_),\n",
    "                            'TLONG':(['nlat','nlon'], lon_coord)},\n",
    "                            coords = {'z_t':(['z_t'], z_t_coord)})\n",
    "# save file\n",
    "data_assemble.to_netcdf(f'{directory_data}pacific_slab_p04sv.nc')"
   ]
  },
  {
   "cell_type": "code",
   "execution_count": 16,
   "metadata": {},
   "outputs": [
    {
     "name": "stderr",
     "output_type": "stream",
     "text": [
      "/glade/work/molina/miniconda3/envs/python-tutorial/lib/python3.7/site-packages/dask/array/numpy_compat.py:41: RuntimeWarning: invalid value encountered in true_divide\n",
      "  x = np.divide(x1, x2, out)\n"
     ]
    }
   ],
   "source": [
    "ds = xr.open_mfdataset(f'{directory_data}{file_psalt}',\n",
    "                       combine='by_coords',\n",
    "                       preprocess=nino.pacific_slab_slice)\n",
    "# fix time coord\n",
    "ds = ds.assign_coords(time=ds.coords['time'] - timedelta(days=17))\n",
    "\n",
    "# select data\n",
    "ds_ = ds['TEMP'].sel(time=slice(cftime.DatetimeNoLeap(101, 1, 1, 0, 0),cftime.DatetimeNoLeap(251, 1, 1, 0, 0))).resample(\n",
    "                     time='AS').mean(skipna=True).mean(dim=['time']).mean(dim=['nlat'], skipna=True).sel(z_t=slice(500.,300. * 100.)).values\n",
    "# assemble file\n",
    "data_assemble = xr.Dataset({'temp' :(['z_t','a'], ds_),\n",
    "                            'TLONG':(['nlat','nlon'], lon_coord)},\n",
    "                            coords = {'z_t':(['z_t'], z_t_coord)})\n",
    "# save file\n",
    "data_assemble.to_netcdf(f'{directory_data}pacific_slab_psalt.nc')"
   ]
  },
  {
   "cell_type": "code",
   "execution_count": 17,
   "metadata": {},
   "outputs": [
    {
     "name": "stderr",
     "output_type": "stream",
     "text": [
      "/glade/work/molina/miniconda3/envs/python-tutorial/lib/python3.7/site-packages/dask/array/numpy_compat.py:41: RuntimeWarning: invalid value encountered in true_divide\n",
      "  x = np.divide(x1, x2, out)\n"
     ]
    }
   ],
   "source": [
    "ds = xr.open_mfdataset(f'{directory_data}{file_cntrl}',\n",
    "                       combine='by_coords',\n",
    "                       preprocess=nino.pacific_slab_slice)\n",
    "# fix time coord\n",
    "ds = ds.assign_coords(time=ds.coords['time'] - timedelta(days=17))\n",
    "\n",
    "# select data\n",
    "ds_ = ds['TEMP'].sel(time=slice(cftime.DatetimeNoLeap(800, 1, 1, 0, 0),cftime.DatetimeNoLeap(1600, 1, 1, 0, 0))).resample(\n",
    "                     time='AS').mean(skipna=True).mean(dim=['time']).mean(dim=['nlat'], skipna=True).sel(z_t=slice(500.,300. * 100.)).values\n",
    "# assemble file\n",
    "data_assemble = xr.Dataset({'temp' :(['z_t','a'], ds_),\n",
    "                            'TLONG':(['nlat','nlon'], lon_coord)},\n",
    "                            coords = {'z_t':(['z_t'], z_t_coord)})\n",
    "# save file\n",
    "data_assemble.to_netcdf(f'{directory_data}pacific_slab_cntrl.nc')"
   ]
  },
  {
   "cell_type": "code",
   "execution_count": null,
   "metadata": {},
   "outputs": [],
   "source": []
  }
 ],
 "metadata": {
  "kernelspec": {
   "display_name": "Python [conda env:miniconda3-python-tutorial]",
   "language": "python",
   "name": "conda-env-miniconda3-python-tutorial-python3_myenv"
  },
  "language_info": {
   "codemirror_mode": {
    "name": "ipython",
    "version": 3
   },
   "file_extension": ".py",
   "mimetype": "text/x-python",
   "name": "python",
   "nbconvert_exporter": "python",
   "pygments_lexer": "ipython3",
   "version": "3.7.3"
  }
 },
 "nbformat": 4,
 "nbformat_minor": 4
}
