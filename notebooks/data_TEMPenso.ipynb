{
 "cells": [
  {
   "cell_type": "code",
   "execution_count": 1,
   "metadata": {},
   "outputs": [],
   "source": [
    "import xarray as xr\n",
    "import numpy as np\n",
    "from climatico import enso\n",
    "import matplotlib.pyplot as plt\n",
    "import cftime\n",
    "import cartopy\n",
    "import cartopy.crs as ccrs\n",
    "from cartopy.util import add_cyclic_point\n",
    "from climatico.util import weighted_mean, pacific_lon\n",
    "import matplotlib.patches as mpatches\n",
    "import cartopy.feature as cfeature\n",
    "from shapely.geometry.polygon import Polygon"
   ]
  },
  {
   "cell_type": "code",
   "execution_count": 2,
   "metadata": {},
   "outputs": [],
   "source": [
    "from config import directory_figs, directory_data"
   ]
  },
  {
   "cell_type": "code",
   "execution_count": 3,
   "metadata": {},
   "outputs": [],
   "source": [
    "def grab_enso_spatial(ds, indices, ds_oni, year1, year2, cutoff, filevar='SST'):\n",
    "    \"\"\"\n",
    "    Use the input seasonal file ('QS-DEC') and precomputed Nino-index to extract Nino(a) \n",
    "    event indices in time array of SST file.\n",
    "    Then extract the variable associated with the Nino(a) events. These focus on DJF months.\n",
    "    \n",
    "    Args:\n",
    "        ds (xarray data array): Seasonal variable to filter for plotting \n",
    "                                    (e.g., ds.resample(time='QS-DEC').mean(skipna=True)).\n",
    "        indices (numpy array): ONI values as numpy array \n",
    "                                    (e.g., control_nino.resample(time='QS-DEC').mean(skipna=True).values).\n",
    "        ds_oni (xarray data array): ONI seasonal xarray \n",
    "                                    (e.g., control_nino.resample(time='QS-DEC').mean(skipna=True)).\n",
    "        year1 (int): First year for range filtering.\n",
    "        year2 (int): Second year for range filtering.\n",
    "        cutoff (float): Cutoff of ENSO events. E.g., +/-0.5 for ONI.\n",
    "        filevar (str): Variable name for input ds. Defaults to ``SST.``\n",
    "    \"\"\"\n",
    "    # do checks\n",
    "    check1 = ds[filevar].isel(time=np.where(indices>=cutoff)[0])[(ds[filevar].isel(time=np.where(indices>=cutoff)[0])['time'].dt.month==12)].coords['time']\n",
    "    check2 = ds_oni.isel(time=np.where(indices>=cutoff)[0])[(ds_oni.isel(time=np.where(indices>=cutoff)[0])['time'].dt.month==12)].coords['time']\n",
    "    assert np.all(check1.values==check2.values), \"Nino events don't match\"\n",
    "    print(\"Nino check passed\")\n",
    "    \n",
    "    check1 = ds[filevar].isel(time=np.where(indices<=cutoff)[0])[(ds[filevar].isel(time=np.where(indices<=cutoff)[0])['time'].dt.month==12)].coords['time']\n",
    "    check2 = ds_oni.isel(time=np.where(indices<=cutoff)[0])[(ds_oni.isel(time=np.where(indices<=cutoff)[0])['time'].dt.month==12)].coords['time']\n",
    "    assert np.all(check1.values==check2.values), \"Nina events don't match\"\n",
    "    print(\"Nina check passed\")\n",
    "    \n",
    "    ### nino\n",
    "    # filter for djf quarters\n",
    "    sv_indices = ds[filevar].isel(time=np.where(indices>=cutoff)[0])[(ds[filevar].isel(time=np.where(indices>=cutoff)[0])['time'].dt.month==12)]\n",
    "    # filter for correct year range\n",
    "    sv_indices = sv_indices[(sv_indices['time'].dt.year>=year1)&(sv_indices['time'].dt.year<=year2)]\n",
    "    # take spatial mean for plotting\n",
    "    nino = sv_indices.mean(dim='time')\n",
    "    print(\"Nino done\")\n",
    "\n",
    "    ### nina\n",
    "    # filter for djf quarters\n",
    "    sv_indices = ds[filevar].isel(time=np.where(indices<=cutoff)[0])[(ds[filevar].isel(time=np.where(indices<=cutoff)[0])['time'].dt.month==12)]\n",
    "    # filter for correct year range\n",
    "    sv_indices = sv_indices[(sv_indices['time'].dt.year>=year1)&(sv_indices['time'].dt.year<=year2)]\n",
    "    # take spatial mean for plotting\n",
    "    nina = sv_indices.mean(dim='time')\n",
    "    print(\"Nina done\")\n",
    "    \n",
    "    return nino, nina"
   ]
  },
  {
   "cell_type": "code",
   "execution_count": 4,
   "metadata": {},
   "outputs": [],
   "source": [
    "# list of filenames to do this for:\n",
    "# SSTs\n",
    "file_g02sv = 'b1d.e11.B1850LENS.f09_g16.FWAtSalG02Sv.pop.h.SST.*.nc'\n",
    "file_g04sv = 'b1d.e11.B1850LENS.f09_g16.FWAtSalG04Sv.pop.h.SST.*.nc'\n",
    "file_p02sv = 'b1d.e11.B1850LENS.f09_g16.FWAtSalP02Sv.pop.h.SST.*.nc'\n",
    "file_p04sv = 'b1d.e11.B1850LENS.f09_g16.FWAtSalP04Sv.pop.h.SST.*.nc'\n",
    "file_psalt = 'b1d.e11.B1850LENS.f09_g16.FWPaSalP04Sv.pop.h.SST.*.nc'\n",
    "file_cntrl = 'b1d.e11.B1850C5CN.f09_g16.005.pop.h.SST.*.nc'\n",
    "# list of filenames to do this for\n",
    "TEMP_g02sv = 'b.e11.B1850LENS.f09_g16.FWAtSalG02Sv.pop.h.TEMP.*.nc'\n",
    "TEMP_g04sv = 'b.e11.B1850LENS.f09_g16.FWAtSalG04Sv.pop.h.TEMP.*.nc'\n",
    "TEMP_p02sv = 'b.e11.B1850LENS.f09_g16.FWAtSalP02Sv.pop.h.TEMP.*.nc'\n",
    "TEMP_p04sv = 'b.e11.B1850LENS.f09_g16.FWAtSalP04Sv.pop.h.TEMP.*.nc'\n",
    "TEMP_psalt = 'b.e11.B1850LENS.f09_g16.FWPaSalP04Sv.pop.h.TEMP.*.nc'\n",
    "TEMP_cntrl = 'b.e11.B1850C5CN.f09_g16.005.pop.h.TEMP.*.nc'"
   ]
  },
  {
   "cell_type": "code",
   "execution_count": 5,
   "metadata": {},
   "outputs": [],
   "source": [
    "nino = enso.DefineNino(nino='nino34', lats='lat', lons='lon', cutoff=0.5, runningmean=3)\n",
    "nino_TEMP = enso.DefineNino(nino='nino34', cutoff=0.5, runningmean=3)"
   ]
  },
  {
   "cell_type": "code",
   "execution_count": 7,
   "metadata": {},
   "outputs": [
    {
     "name": "stdout",
     "output_type": "stream",
     "text": [
      "indices started\n"
     ]
    },
    {
     "name": "stderr",
     "output_type": "stream",
     "text": [
      "/glade/work/molina/miniconda3/envs/python-tutorial/lib/python3.7/site-packages/xarray/core/indexing.py:1361: PerformanceWarning: Slicing with an out-of-order index is generating 101 times more chunks\n",
      "  return self.array[key]\n"
     ]
    },
    {
     "name": "stdout",
     "output_type": "stream",
     "text": [
      "indices done\n"
     ]
    },
    {
     "name": "stderr",
     "output_type": "stream",
     "text": [
      "/glade/work/molina/miniconda3/envs/python-tutorial/lib/python3.7/site-packages/numpy/core/_methods.py:151: RuntimeWarning: invalid value encountered in reduce\n",
      "  ret = umr_sum(arr, axis, dtype, out, keepdims)\n"
     ]
    },
    {
     "name": "stdout",
     "output_type": "stream",
     "text": [
      "Nino check passed\n",
      "Nina check passed\n",
      "Nino done\n",
      "Nina done\n"
     ]
    }
   ],
   "source": [
    "####################################################################\n",
    "\n",
    "ds2 = xr.open_mfdataset(f'{directory_data}{file_cntrl}',\n",
    "                        combine='by_coords',\n",
    "                        preprocess=nino.nino)\n",
    "\n",
    "# reduce dims to time, lat, lon\n",
    "ds2 = ds2.isel(z_t=0)\n",
    "\n",
    "print(\"indices started\")\n",
    "# compute indices\n",
    "control_nino = nino.compute_index(ds2['SST'].groupby('time.month'), \n",
    "                                  ds2['SST'].groupby('time.month').mean(skipna=True), \n",
    "                                  linear_detrend=False, lat_name='lat')\n",
    "# grab numpy array\n",
    "control_index = control_nino.resample(time='QS-DEC').mean(skipna=True).values\n",
    "print(\"indices done\")\n",
    "\n",
    "#################################################################### TEMP\n",
    "\n",
    "ds_ = xr.open_mfdataset(f'{directory_data}{TEMP_cntrl}',\n",
    "                        combine='by_coords',\n",
    "                        preprocess=nino_TEMP.nino)\n",
    "\n",
    "z_t_coord = ds_['TEMP'].sel(time=slice(cftime.DatetimeNoLeap(201, 1, 1, 0, 0),cftime.DatetimeNoLeap(500, 12, 1, 0, 0))).resample(\n",
    "                           time='AS').mean(skipna=True).mean(dim=['time']).mean(dim=['nlat'], skipna=True).sel(z_t=slice(500., 300. * 100.)).coords['z_t'].values\n",
    "\n",
    "lon_coord = ds_['TEMP'].coords['TLONG'].values\n",
    "\n",
    "controlnino, controlnina = grab_enso_spatial(\n",
    "                                              ds = ds_.mean(dim=['nlat'], skipna=True).sel(z_t=slice(500., 300. * 100.)).resample(time='QS-DEC').mean(skipna=True), \n",
    "                                              indices = control_index, \n",
    "                                              ds_oni = control_nino.resample(time='QS-DEC').mean(skipna=True),\n",
    "                                              year1 = 801, \n",
    "                                              year2 = 1599,\n",
    "                                              cutoff = nino.cutoff, \n",
    "                                              filevar = 'TEMP')\n",
    "\n",
    "####################################################################"
   ]
  },
  {
   "cell_type": "code",
   "execution_count": 8,
   "metadata": {},
   "outputs": [
    {
     "name": "stdout",
     "output_type": "stream",
     "text": [
      "indices started\n"
     ]
    },
    {
     "name": "stderr",
     "output_type": "stream",
     "text": [
      "/glade/work/molina/miniconda3/envs/python-tutorial/lib/python3.7/site-packages/xarray/core/indexing.py:1361: PerformanceWarning: Slicing with an out-of-order index is generating 51 times more chunks\n",
      "  return self.array[key]\n"
     ]
    },
    {
     "name": "stdout",
     "output_type": "stream",
     "text": [
      "indices done\n"
     ]
    },
    {
     "name": "stderr",
     "output_type": "stream",
     "text": [
      "/glade/work/molina/miniconda3/envs/python-tutorial/lib/python3.7/site-packages/numpy/core/_methods.py:151: RuntimeWarning: invalid value encountered in reduce\n",
      "  ret = umr_sum(arr, axis, dtype, out, keepdims)\n",
      "/glade/work/molina/miniconda3/envs/python-tutorial/lib/python3.7/site-packages/numpy/core/_methods.py:151: RuntimeWarning: invalid value encountered in reduce\n",
      "  ret = umr_sum(arr, axis, dtype, out, keepdims)\n",
      "/glade/work/molina/miniconda3/envs/python-tutorial/lib/python3.7/site-packages/numpy/core/_methods.py:151: RuntimeWarning: invalid value encountered in reduce\n",
      "  ret = umr_sum(arr, axis, dtype, out, keepdims)\n",
      "/glade/work/molina/miniconda3/envs/python-tutorial/lib/python3.7/site-packages/numpy/core/_methods.py:151: RuntimeWarning: invalid value encountered in reduce\n",
      "  ret = umr_sum(arr, axis, dtype, out, keepdims)\n",
      "/glade/work/molina/miniconda3/envs/python-tutorial/lib/python3.7/site-packages/numpy/core/_methods.py:151: RuntimeWarning: invalid value encountered in reduce\n",
      "  ret = umr_sum(arr, axis, dtype, out, keepdims)\n",
      "/glade/work/molina/miniconda3/envs/python-tutorial/lib/python3.7/site-packages/numpy/core/_methods.py:151: RuntimeWarning: invalid value encountered in reduce\n",
      "  ret = umr_sum(arr, axis, dtype, out, keepdims)\n"
     ]
    },
    {
     "name": "stdout",
     "output_type": "stream",
     "text": [
      "Nino check passed\n",
      "Nina check passed\n",
      "Nino done\n",
      "Nina done\n"
     ]
    }
   ],
   "source": [
    "####################################################################\n",
    "\n",
    "ds1 = xr.open_mfdataset(f'{directory_data}{file_g02sv}',\n",
    "                        combine='by_coords',\n",
    "                        preprocess=nino.nino)\n",
    "\n",
    "# reduce dims to time, lat, lon\n",
    "ds1 = ds1.isel(z_t=0)\n",
    "\n",
    "print(\"indices started\")\n",
    "# compute indices\n",
    "g02sv_nino = nino.compute_index(ds1['SST'].groupby('time.month'), \n",
    "                                ds2['SST'].groupby('time.month').mean(skipna=True), \n",
    "                                linear_detrend=False, lat_name='lat')\n",
    "# grab numpy array\n",
    "g02sv_index = g02sv_nino.resample(time='QS-DEC').mean(skipna=True).values\n",
    "print(\"indices done\")\n",
    "\n",
    "#################################################################### TEMP\n",
    "\n",
    "ds_ = xr.open_mfdataset(f'{directory_data}{TEMP_g02sv}',\n",
    "                        combine='by_coords',\n",
    "                        preprocess=nino_TEMP.nino)\n",
    "\n",
    "g02svnino, g02svnina = grab_enso_spatial(\n",
    "                                          ds = ds_.mean(dim=['nlat'], skipna=True).sel(z_t=slice(500.,300. * 100.)).resample(time='QS-DEC').mean(skipna=True), \n",
    "                                          indices = g02sv_index, \n",
    "                                          ds_oni = g02sv_nino.resample(time='QS-DEC').mean(skipna=True),\n",
    "                                          year1 = 201, \n",
    "                                          year2 = 500, \n",
    "                                          cutoff = nino.cutoff, \n",
    "                                          filevar = 'TEMP')\n",
    "\n",
    "####################################################################"
   ]
  },
  {
   "cell_type": "code",
   "execution_count": 9,
   "metadata": {},
   "outputs": [
    {
     "name": "stdout",
     "output_type": "stream",
     "text": [
      "indices started\n"
     ]
    },
    {
     "name": "stderr",
     "output_type": "stream",
     "text": [
      "/glade/work/molina/miniconda3/envs/python-tutorial/lib/python3.7/site-packages/xarray/core/indexing.py:1361: PerformanceWarning: Slicing with an out-of-order index is generating 50 times more chunks\n",
      "  return self.array[key]\n"
     ]
    },
    {
     "name": "stdout",
     "output_type": "stream",
     "text": [
      "indices done\n"
     ]
    },
    {
     "name": "stderr",
     "output_type": "stream",
     "text": [
      "/glade/work/molina/miniconda3/envs/python-tutorial/lib/python3.7/site-packages/numpy/core/_methods.py:151: RuntimeWarning: invalid value encountered in reduce\n",
      "  ret = umr_sum(arr, axis, dtype, out, keepdims)\n",
      "/glade/work/molina/miniconda3/envs/python-tutorial/lib/python3.7/site-packages/numpy/core/_methods.py:151: RuntimeWarning: invalid value encountered in reduce\n",
      "  ret = umr_sum(arr, axis, dtype, out, keepdims)\n",
      "/glade/work/molina/miniconda3/envs/python-tutorial/lib/python3.7/site-packages/numpy/core/_methods.py:151: RuntimeWarning: invalid value encountered in reduce\n",
      "  ret = umr_sum(arr, axis, dtype, out, keepdims)\n",
      "/glade/work/molina/miniconda3/envs/python-tutorial/lib/python3.7/site-packages/numpy/core/_methods.py:151: RuntimeWarning: invalid value encountered in reduce\n",
      "  ret = umr_sum(arr, axis, dtype, out, keepdims)\n"
     ]
    },
    {
     "name": "stdout",
     "output_type": "stream",
     "text": [
      "Nino check passed\n",
      "Nina check passed\n",
      "Nino done\n",
      "Nina done\n"
     ]
    }
   ],
   "source": [
    "####################################################################\n",
    "\n",
    "ds1 = xr.open_mfdataset(f'{directory_data}{file_g04sv}',\n",
    "                        combine='by_coords',\n",
    "                        preprocess=nino.nino)\n",
    "\n",
    "# reduce dims to time, lat, lon\n",
    "ds1 = ds1.isel(z_t=0)\n",
    "\n",
    "print(\"indices started\")\n",
    "# compute indices\n",
    "g04sv_nino = nino.compute_index(ds1['SST'].groupby('time.month'), \n",
    "                                ds2['SST'].groupby('time.month').mean(skipna=True), \n",
    "                                linear_detrend=False, lat_name='lat')\n",
    "# grab numpy array\n",
    "g04sv_index = g04sv_nino.resample(time='QS-DEC').mean(skipna=True).values\n",
    "print(\"indices done\")\n",
    "\n",
    "#################################################################### TEMP\n",
    "\n",
    "ds_ = xr.open_mfdataset(f'{directory_data}{TEMP_g04sv}',\n",
    "                        combine='by_coords',\n",
    "                        preprocess=nino_TEMP.nino)\n",
    "\n",
    "g04svnino, g04svnina = grab_enso_spatial(\n",
    "                                          ds = ds_.mean(dim=['nlat'], skipna=True).sel(z_t=slice(500.,300. * 100.)).resample(time='QS-DEC').mean(skipna=True), \n",
    "                                          indices = g04sv_index, \n",
    "                                          ds_oni = g04sv_nino.resample(time='QS-DEC').mean(skipna=True),\n",
    "                                          year1 = 201, \n",
    "                                          year2 = 500, \n",
    "                                          cutoff = nino.cutoff, \n",
    "                                          filevar = 'TEMP')\n",
    "\n",
    "####################################################################"
   ]
  },
  {
   "cell_type": "code",
   "execution_count": 10,
   "metadata": {},
   "outputs": [
    {
     "name": "stdout",
     "output_type": "stream",
     "text": [
      "indices started\n"
     ]
    },
    {
     "name": "stderr",
     "output_type": "stream",
     "text": [
      "/glade/work/molina/miniconda3/envs/python-tutorial/lib/python3.7/site-packages/xarray/core/indexing.py:1361: PerformanceWarning: Slicing with an out-of-order index is generating 50 times more chunks\n",
      "  return self.array[key]\n"
     ]
    },
    {
     "name": "stdout",
     "output_type": "stream",
     "text": [
      "indices done\n"
     ]
    },
    {
     "name": "stderr",
     "output_type": "stream",
     "text": [
      "/glade/work/molina/miniconda3/envs/python-tutorial/lib/python3.7/site-packages/numpy/core/_methods.py:151: RuntimeWarning: invalid value encountered in reduce\n",
      "  ret = umr_sum(arr, axis, dtype, out, keepdims)\n",
      "/glade/work/molina/miniconda3/envs/python-tutorial/lib/python3.7/site-packages/numpy/core/_methods.py:151: RuntimeWarning: invalid value encountered in reduce\n",
      "  ret = umr_sum(arr, axis, dtype, out, keepdims)\n",
      "/glade/work/molina/miniconda3/envs/python-tutorial/lib/python3.7/site-packages/numpy/core/_methods.py:151: RuntimeWarning: invalid value encountered in reduce\n",
      "  ret = umr_sum(arr, axis, dtype, out, keepdims)\n",
      "/glade/work/molina/miniconda3/envs/python-tutorial/lib/python3.7/site-packages/numpy/core/_methods.py:151: RuntimeWarning: invalid value encountered in reduce\n",
      "  ret = umr_sum(arr, axis, dtype, out, keepdims)\n",
      "/glade/work/molina/miniconda3/envs/python-tutorial/lib/python3.7/site-packages/numpy/core/_methods.py:151: RuntimeWarning: invalid value encountered in reduce\n",
      "  ret = umr_sum(arr, axis, dtype, out, keepdims)\n",
      "/glade/work/molina/miniconda3/envs/python-tutorial/lib/python3.7/site-packages/numpy/core/_methods.py:151: RuntimeWarning: invalid value encountered in reduce\n",
      "  ret = umr_sum(arr, axis, dtype, out, keepdims)\n",
      "/glade/work/molina/miniconda3/envs/python-tutorial/lib/python3.7/site-packages/numpy/core/_methods.py:151: RuntimeWarning: invalid value encountered in reduce\n",
      "  ret = umr_sum(arr, axis, dtype, out, keepdims)\n"
     ]
    },
    {
     "name": "stdout",
     "output_type": "stream",
     "text": [
      "Nino check passed\n",
      "Nina check passed\n",
      "Nino done\n",
      "Nina done\n"
     ]
    }
   ],
   "source": [
    "####################################################################\n",
    "\n",
    "ds1 = xr.open_mfdataset(f'{directory_data}{file_p02sv}',\n",
    "                        combine='by_coords',\n",
    "                        preprocess=nino.nino)\n",
    "\n",
    "# reduce dims to time, lat, lon\n",
    "ds1 = ds1.isel(z_t=0)\n",
    "\n",
    "print(\"indices started\")\n",
    "# compute indices\n",
    "p02sv_nino = nino.compute_index(ds1['SST'].groupby('time.month'), \n",
    "                                ds2['SST'].groupby('time.month').mean(skipna=True), \n",
    "                                linear_detrend=False, lat_name='lat')\n",
    "# grab numpy array\n",
    "p02sv_index = p02sv_nino.resample(time='QS-DEC').mean(skipna=True).values\n",
    "print(\"indices done\")\n",
    "\n",
    "#################################################################### TEMP\n",
    "\n",
    "ds_ = xr.open_mfdataset(f'{directory_data}{TEMP_p02sv}',\n",
    "                        combine='by_coords',\n",
    "                        preprocess=nino_TEMP.nino)\n",
    "\n",
    "p02svnino, p02svnina = grab_enso_spatial(\n",
    "                                          ds = ds_.mean(dim=['nlat'], skipna=True).sel(z_t=slice(500.,300. * 100.)).resample(time='QS-DEC').mean(skipna=True), \n",
    "                                          indices = p02sv_index, \n",
    "                                          ds_oni = p02sv_nino.resample(time='QS-DEC').mean(skipna=True),\n",
    "                                          year1 = 201, \n",
    "                                          year2 = 500, \n",
    "                                          cutoff = nino.cutoff, \n",
    "                                          filevar = 'TEMP')\n",
    "\n",
    "####################################################################"
   ]
  },
  {
   "cell_type": "code",
   "execution_count": 11,
   "metadata": {},
   "outputs": [
    {
     "name": "stdout",
     "output_type": "stream",
     "text": [
      "indices started\n"
     ]
    },
    {
     "name": "stderr",
     "output_type": "stream",
     "text": [
      "/glade/work/molina/miniconda3/envs/python-tutorial/lib/python3.7/site-packages/xarray/core/indexing.py:1361: PerformanceWarning: Slicing with an out-of-order index is generating 50 times more chunks\n",
      "  return self.array[key]\n"
     ]
    },
    {
     "name": "stdout",
     "output_type": "stream",
     "text": [
      "indices done\n"
     ]
    },
    {
     "name": "stderr",
     "output_type": "stream",
     "text": [
      "/glade/work/molina/miniconda3/envs/python-tutorial/lib/python3.7/site-packages/numpy/core/_methods.py:151: RuntimeWarning: invalid value encountered in reduce\n",
      "  ret = umr_sum(arr, axis, dtype, out, keepdims)\n",
      "/glade/work/molina/miniconda3/envs/python-tutorial/lib/python3.7/site-packages/numpy/core/_methods.py:151: RuntimeWarning: invalid value encountered in reduce\n",
      "  ret = umr_sum(arr, axis, dtype, out, keepdims)\n",
      "/glade/work/molina/miniconda3/envs/python-tutorial/lib/python3.7/site-packages/numpy/core/_methods.py:151: RuntimeWarning: invalid value encountered in reduce\n",
      "  ret = umr_sum(arr, axis, dtype, out, keepdims)\n",
      "/glade/work/molina/miniconda3/envs/python-tutorial/lib/python3.7/site-packages/numpy/core/_methods.py:151: RuntimeWarning: invalid value encountered in reduce\n",
      "  ret = umr_sum(arr, axis, dtype, out, keepdims)\n",
      "/glade/work/molina/miniconda3/envs/python-tutorial/lib/python3.7/site-packages/numpy/core/_methods.py:151: RuntimeWarning: invalid value encountered in reduce\n",
      "  ret = umr_sum(arr, axis, dtype, out, keepdims)\n",
      "/glade/work/molina/miniconda3/envs/python-tutorial/lib/python3.7/site-packages/numpy/core/_methods.py:151: RuntimeWarning: invalid value encountered in reduce\n",
      "  ret = umr_sum(arr, axis, dtype, out, keepdims)\n",
      "/glade/work/molina/miniconda3/envs/python-tutorial/lib/python3.7/site-packages/numpy/core/_methods.py:151: RuntimeWarning: invalid value encountered in reduce\n",
      "  ret = umr_sum(arr, axis, dtype, out, keepdims)\n"
     ]
    },
    {
     "name": "stdout",
     "output_type": "stream",
     "text": [
      "Nino check passed\n",
      "Nina check passed\n",
      "Nino done\n",
      "Nina done\n"
     ]
    }
   ],
   "source": [
    "####################################################################\n",
    "\n",
    "ds1 = xr.open_mfdataset(f'{directory_data}{file_p04sv}',\n",
    "                        combine='by_coords',\n",
    "                        preprocess=nino.nino)\n",
    "\n",
    "# reduce dims to time, lat, lon\n",
    "ds1 = ds1.isel(z_t=0)\n",
    "\n",
    "print(\"indices started\")\n",
    "# compute indices\n",
    "p04sv_nino = nino.compute_index(ds1['SST'].groupby('time.month'), \n",
    "                                ds2['SST'].groupby('time.month').mean(skipna=True), \n",
    "                                linear_detrend=False, lat_name='lat')\n",
    "# grab numpy array\n",
    "p04sv_index = p04sv_nino.resample(time='QS-DEC').mean(skipna=True).values\n",
    "print(\"indices done\")\n",
    "\n",
    "#################################################################### TEMP\n",
    "\n",
    "ds_ = xr.open_mfdataset(f'{directory_data}{TEMP_p04sv}',\n",
    "                        combine='by_coords',\n",
    "                        preprocess=nino_TEMP.nino)\n",
    "\n",
    "p04svnino, p04svnina = grab_enso_spatial(\n",
    "                                          ds = ds_.mean(dim=['nlat'], skipna=True).sel(z_t=slice(500.,300. * 100.)).resample(time='QS-DEC').mean(skipna=True), \n",
    "                                          indices = p04sv_index, \n",
    "                                          ds_oni = p04sv_nino.resample(time='QS-DEC').mean(skipna=True),\n",
    "                                          year1 = 201, \n",
    "                                          year2 = 500, \n",
    "                                          cutoff = nino.cutoff, \n",
    "                                          filevar = 'TEMP')\n",
    "\n",
    "####################################################################"
   ]
  },
  {
   "cell_type": "code",
   "execution_count": 12,
   "metadata": {},
   "outputs": [
    {
     "name": "stdout",
     "output_type": "stream",
     "text": [
      "indices started\n"
     ]
    },
    {
     "name": "stderr",
     "output_type": "stream",
     "text": [
      "/glade/work/molina/miniconda3/envs/python-tutorial/lib/python3.7/site-packages/xarray/core/indexing.py:1361: PerformanceWarning: Slicing with an out-of-order index is generating 50 times more chunks\n",
      "  return self.array[key]\n"
     ]
    },
    {
     "name": "stdout",
     "output_type": "stream",
     "text": [
      "indices done\n"
     ]
    },
    {
     "name": "stderr",
     "output_type": "stream",
     "text": [
      "/glade/work/molina/miniconda3/envs/python-tutorial/lib/python3.7/site-packages/numpy/core/_methods.py:151: RuntimeWarning: invalid value encountered in reduce\n",
      "  ret = umr_sum(arr, axis, dtype, out, keepdims)\n",
      "/glade/work/molina/miniconda3/envs/python-tutorial/lib/python3.7/site-packages/numpy/core/_methods.py:151: RuntimeWarning: invalid value encountered in reduce\n",
      "  ret = umr_sum(arr, axis, dtype, out, keepdims)\n",
      "/glade/work/molina/miniconda3/envs/python-tutorial/lib/python3.7/site-packages/numpy/core/_methods.py:151: RuntimeWarning: invalid value encountered in reduce\n",
      "  ret = umr_sum(arr, axis, dtype, out, keepdims)\n",
      "/glade/work/molina/miniconda3/envs/python-tutorial/lib/python3.7/site-packages/numpy/core/_methods.py:151: RuntimeWarning: invalid value encountered in reduce\n",
      "  ret = umr_sum(arr, axis, dtype, out, keepdims)\n",
      "/glade/work/molina/miniconda3/envs/python-tutorial/lib/python3.7/site-packages/numpy/core/_methods.py:151: RuntimeWarning: invalid value encountered in reduce\n",
      "  ret = umr_sum(arr, axis, dtype, out, keepdims)\n"
     ]
    },
    {
     "name": "stdout",
     "output_type": "stream",
     "text": [
      "Nino check passed\n",
      "Nina check passed\n",
      "Nino done\n",
      "Nina done\n"
     ]
    }
   ],
   "source": [
    "####################################################################\n",
    "\n",
    "ds1 = xr.open_mfdataset(f'{directory_data}{file_psalt}',\n",
    "                        combine='by_coords',\n",
    "                        preprocess=nino.nino)\n",
    "\n",
    "# reduce dims to time, lat, lon\n",
    "ds1 = ds1.isel(z_t=0)\n",
    "\n",
    "print(\"indices started\")\n",
    "# compute indices\n",
    "psalt_nino = nino.compute_index(ds1['SST'].groupby('time.month'), \n",
    "                                ds2['SST'].groupby('time.month').mean(skipna=True), \n",
    "                                linear_detrend=False, lat_name='lat')\n",
    "# grab numpy array\n",
    "psalt_index = psalt_nino.resample(time='QS-DEC').mean(skipna=True).values\n",
    "print(\"indices done\")\n",
    "\n",
    "#################################################################### TEMP\n",
    "\n",
    "ds_ = xr.open_mfdataset(f'{directory_data}{TEMP_psalt}',\n",
    "                        combine='by_coords',\n",
    "                        preprocess=nino_TEMP.nino)\n",
    "\n",
    "psaltnino, psaltnina = grab_enso_spatial(\n",
    "                                          ds = ds_.mean(dim=['nlat'], skipna=True).sel(z_t=slice(500.,300. * 100.)).resample(time='QS-DEC').mean(skipna=True), \n",
    "                                          indices = psalt_index, \n",
    "                                          ds_oni = psalt_nino.resample(time='QS-DEC').mean(skipna=True),\n",
    "                                          year1 = 101, \n",
    "                                          year2 = 250, \n",
    "                                          cutoff = nino.cutoff, \n",
    "                                          filevar = 'TEMP')\n",
    "\n",
    "####################################################################"
   ]
  },
  {
   "cell_type": "code",
   "execution_count": 13,
   "metadata": {},
   "outputs": [
    {
     "name": "stderr",
     "output_type": "stream",
     "text": [
      "/glade/work/molina/miniconda3/envs/python-tutorial/lib/python3.7/site-packages/dask/array/numpy_compat.py:41: RuntimeWarning: invalid value encountered in true_divide\n",
      "  x = np.divide(x1, x2, out)\n",
      "/glade/work/molina/miniconda3/envs/python-tutorial/lib/python3.7/site-packages/dask/array/numpy_compat.py:41: RuntimeWarning: invalid value encountered in true_divide\n",
      "  x = np.divide(x1, x2, out)\n",
      "/glade/work/molina/miniconda3/envs/python-tutorial/lib/python3.7/site-packages/dask/array/numpy_compat.py:41: RuntimeWarning: invalid value encountered in true_divide\n",
      "  x = np.divide(x1, x2, out)\n",
      "/glade/work/molina/miniconda3/envs/python-tutorial/lib/python3.7/site-packages/dask/array/numpy_compat.py:41: RuntimeWarning: invalid value encountered in true_divide\n",
      "  x = np.divide(x1, x2, out)\n",
      "/glade/work/molina/miniconda3/envs/python-tutorial/lib/python3.7/site-packages/dask/array/numpy_compat.py:41: RuntimeWarning: invalid value encountered in true_divide\n",
      "  x = np.divide(x1, x2, out)\n",
      "/glade/work/molina/miniconda3/envs/python-tutorial/lib/python3.7/site-packages/dask/array/numpy_compat.py:41: RuntimeWarning: invalid value encountered in true_divide\n",
      "  x = np.divide(x1, x2, out)\n"
     ]
    }
   ],
   "source": [
    "#%%capture\n",
    "cntrl_diff_nino = controlnino.values\n",
    "g02sv_diff_nino = g02svnino.values\n",
    "g04sv_diff_nino = g04svnino.values\n",
    "p02sv_diff_nino = p02svnino.values\n",
    "p04sv_diff_nino = p04svnino.values\n",
    "psalt_diff_nino = psaltnino.values"
   ]
  },
  {
   "cell_type": "code",
   "execution_count": 14,
   "metadata": {},
   "outputs": [],
   "source": [
    "data_assemble=xr.Dataset({\n",
    "                 'cntrl_nino':(['z_t','a'], cntrl_diff_nino),\n",
    "                 'g02sv_nino':(['z_t','a'], g02sv_diff_nino),\n",
    "                 'g04sv_nino':(['z_t','a'], g04sv_diff_nino),\n",
    "                 'p02sv_nino':(['z_t','a'], p02sv_diff_nino),\n",
    "                 'p04sv_nino':(['z_t','a'], p04sv_diff_nino),\n",
    "                 'psalt_nino':(['z_t','a'], psalt_diff_nino),\n",
    "                 'TLONG':(['nlat','nlon'],  lon_coord)},\n",
    "                 coords = {'z_t':(['z_t'],  z_t_coord)})"
   ]
  },
  {
   "cell_type": "code",
   "execution_count": 15,
   "metadata": {},
   "outputs": [],
   "source": [
    "data_assemble.to_netcdf(f'{directory_data}ensoslabs_ninodata.nc')"
   ]
  },
  {
   "cell_type": "code",
   "execution_count": 16,
   "metadata": {},
   "outputs": [
    {
     "name": "stderr",
     "output_type": "stream",
     "text": [
      "/glade/work/molina/miniconda3/envs/python-tutorial/lib/python3.7/site-packages/dask/array/numpy_compat.py:41: RuntimeWarning: invalid value encountered in true_divide\n",
      "  x = np.divide(x1, x2, out)\n",
      "/glade/work/molina/miniconda3/envs/python-tutorial/lib/python3.7/site-packages/dask/array/numpy_compat.py:41: RuntimeWarning: invalid value encountered in true_divide\n",
      "  x = np.divide(x1, x2, out)\n",
      "/glade/work/molina/miniconda3/envs/python-tutorial/lib/python3.7/site-packages/dask/array/numpy_compat.py:41: RuntimeWarning: invalid value encountered in true_divide\n",
      "  x = np.divide(x1, x2, out)\n",
      "/glade/work/molina/miniconda3/envs/python-tutorial/lib/python3.7/site-packages/dask/array/numpy_compat.py:41: RuntimeWarning: invalid value encountered in true_divide\n",
      "  x = np.divide(x1, x2, out)\n",
      "/glade/work/molina/miniconda3/envs/python-tutorial/lib/python3.7/site-packages/dask/array/numpy_compat.py:41: RuntimeWarning: invalid value encountered in true_divide\n",
      "  x = np.divide(x1, x2, out)\n",
      "/glade/work/molina/miniconda3/envs/python-tutorial/lib/python3.7/site-packages/dask/array/numpy_compat.py:41: RuntimeWarning: invalid value encountered in true_divide\n",
      "  x = np.divide(x1, x2, out)\n"
     ]
    }
   ],
   "source": [
    "#%%capture\n",
    "cntrl_diff_nina = controlnina.values\n",
    "g02sv_diff_nina = g02svnina.values\n",
    "g04sv_diff_nina = g04svnina.values\n",
    "p02sv_diff_nina = p02svnina.values\n",
    "p04sv_diff_nina = p04svnina.values\n",
    "psalt_diff_nina = psaltnina.values"
   ]
  },
  {
   "cell_type": "code",
   "execution_count": 17,
   "metadata": {},
   "outputs": [],
   "source": [
    "data_assemble=xr.Dataset({\n",
    "                 'cntrl_nina':(['z_t','a'], cntrl_diff_nina),\n",
    "                 'g02sv_nina':(['z_t','a'], g02sv_diff_nina),\n",
    "                 'g04sv_nina':(['z_t','a'], g04sv_diff_nina),\n",
    "                 'p02sv_nina':(['z_t','a'], p02sv_diff_nina),\n",
    "                 'p04sv_nina':(['z_t','a'], p04sv_diff_nina),\n",
    "                 'psalt_nina':(['z_t','a'], psalt_diff_nina),\n",
    "                 'TLONG':(['nlat','nlon'],  lon_coord)},\n",
    "                 coords = {'z_t':(['z_t'],  z_t_coord)})"
   ]
  },
  {
   "cell_type": "code",
   "execution_count": 18,
   "metadata": {},
   "outputs": [],
   "source": [
    "data_assemble.to_netcdf(f'{directory_data}ensoslabs_ninadata.nc')"
   ]
  },
  {
   "cell_type": "code",
   "execution_count": null,
   "metadata": {},
   "outputs": [],
   "source": []
  }
 ],
 "metadata": {
  "kernelspec": {
   "display_name": "Python [conda env:python-tutorial]",
   "language": "python",
   "name": "conda-env-python-tutorial-py"
  },
  "language_info": {
   "codemirror_mode": {
    "name": "ipython",
    "version": 3
   },
   "file_extension": ".py",
   "mimetype": "text/x-python",
   "name": "python",
   "nbconvert_exporter": "python",
   "pygments_lexer": "ipython3",
   "version": "3.7.3"
  }
 },
 "nbformat": 4,
 "nbformat_minor": 4
}
