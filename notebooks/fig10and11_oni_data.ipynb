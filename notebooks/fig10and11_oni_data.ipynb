{
 "cells": [
  {
   "cell_type": "code",
   "execution_count": 1,
   "metadata": {},
   "outputs": [],
   "source": [
    "import xarray as xr\n",
    "import numpy as np\n",
    "from climatico import enso\n",
    "import matplotlib.pyplot as plt\n",
    "import cftime\n",
    "import cartopy\n",
    "import cartopy.crs as ccrs\n",
    "from cartopy.util import add_cyclic_point\n",
    "from climatico.util import weighted_mean, pacific_lon\n",
    "import matplotlib.patches as mpatches\n",
    "import cartopy.feature as cfeature\n",
    "from shapely.geometry.polygon import Polygon"
   ]
  },
  {
   "cell_type": "code",
   "execution_count": 2,
   "metadata": {},
   "outputs": [],
   "source": [
    "from config import directory_figs, directory_data"
   ]
  },
  {
   "cell_type": "code",
   "execution_count": 3,
   "metadata": {},
   "outputs": [],
   "source": [
    "def grab_enso_spatial(ds, indices, year1, year2, filename, cutoff, filevar='SST'):\n",
    "    \"\"\"\n",
    "    Use the input seasonal SST file ('QS-DEC') and precomputed Nino-index to extract Nino(a) \n",
    "    event indices in time array of SST file.\n",
    "    Then extract the variable associated with the Nino(a) events. These focus on DJF months.\n",
    "    \"\"\"\n",
    "    ### nino\n",
    "    # filter for djf quarters\n",
    "    sv_indices = ds[filevar].isel(time=np.where(indices>=cutoff)[0])[(ds[filevar].isel(time=np.where(indices>=cutoff)[0])['time'].dt.month==12)]\n",
    "    # filter for correct year range\n",
    "    sv_indices = sv_indices[(sv_indices['time'].dt.year>=year1)&(sv_indices['time'].dt.year<=year2)]\n",
    "    nino = sv_indices.mean(dim='time')\n",
    "    print(\"Nino done\")\n",
    "\n",
    "    ### nina\n",
    "    # filter for djf quarters\n",
    "    sv_indices = ds[filevar].isel(time=np.where(indices<=cutoff)[0])[(ds[filevar].isel(time=np.where(indices<=cutoff)[0])['time'].dt.month==12)]\n",
    "    # filter for correct year range\n",
    "    sv_indices = sv_indices[(sv_indices['time'].dt.year>=year1)&(sv_indices['time'].dt.year<=year2)]\n",
    "    nina = sv_indices.mean(dim='time')\n",
    "    print(\"Nina done\")\n",
    "    \n",
    "    return nino, nina"
   ]
  },
  {
   "cell_type": "code",
   "execution_count": 3,
   "metadata": {},
   "outputs": [],
   "source": [
    "# list of filenames to do this for:\n",
    "# SSTs\n",
    "file_g02sv = 'b1d.e11.B1850LENS.f09_g16.FWAtSalG02Sv.pop.h.SST.*.nc'\n",
    "file_g04sv = 'b1d.e11.B1850LENS.f09_g16.FWAtSalG04Sv.pop.h.SST.*.nc'\n",
    "file_p02sv = 'b1d.e11.B1850LENS.f09_g16.FWAtSalP02Sv.pop.h.SST.*.nc'\n",
    "file_p04sv = 'b1d.e11.B1850LENS.f09_g16.FWAtSalP04Sv.pop.h.SST.*.nc'\n",
    "file_psalt = 'b1d.e11.B1850LENS.f09_g16.FWPaSalP04Sv.pop.h.SST.*.nc'\n",
    "file_cntrl = 'b1d.e11.B1850C5CN.f09_g16.005.pop.h.SST.*.nc'\n",
    "# wind stress x-direction\n",
    "taux_g02sv = 'b.e11.B1850LENS.f09_g16.FWAtSalG02Sv.cam.h0.TAUX.*.nc'\n",
    "taux_g04sv = 'b.e11.B1850LENS.f09_g16.FWAtSalG04Sv.cam.h0.TAUX.*.nc'\n",
    "taux_p02sv = 'b.e11.B1850LENS.f09_g16.FWAtSalP02Sv.cam.h0.TAUX.*.nc'\n",
    "taux_p04sv = 'b.e11.B1850LENS.f09_g16.FWAtSalP04Sv.cam.h0.TAUX.*.nc'\n",
    "taux_psalt = 'b.e11.B1850LENS.f09_g16.FWPaSalP04Sv.cam.h0.TAUX.*.nc'\n",
    "taux_cntrl = 'b.e11.B1850C5CN.f09_g16.005.cam.h0.TAUX.*.nc'\n",
    "# wind stress y-direction\n",
    "tauy_g02sv = 'b.e11.B1850LENS.f09_g16.FWAtSalG02Sv.cam.h0.TAUY.*.nc'\n",
    "tauy_g04sv = 'b.e11.B1850LENS.f09_g16.FWAtSalG04Sv.cam.h0.TAUY.*.nc'\n",
    "tauy_p02sv = 'b.e11.B1850LENS.f09_g16.FWAtSalP02Sv.cam.h0.TAUY.*.nc'\n",
    "tauy_p04sv = 'b.e11.B1850LENS.f09_g16.FWAtSalP04Sv.cam.h0.TAUY.*.nc'\n",
    "tauy_psalt = 'b.e11.B1850LENS.f09_g16.FWPaSalP04Sv.cam.h0.TAUY.*.nc'\n",
    "tauy_cntrl = 'b.e11.B1850C5CN.f09_g16.005.cam.h0.TAUY.*.nc'"
   ]
  },
  {
   "cell_type": "code",
   "execution_count": 4,
   "metadata": {},
   "outputs": [],
   "source": [
    "nino = enso.DefineNino(nino='nino34', lats='lat', lons='lon', cutoff=0.5, runningmean=3)"
   ]
  },
  {
   "cell_type": "code",
   "execution_count": 5,
   "metadata": {},
   "outputs": [
    {
     "name": "stdout",
     "output_type": "stream",
     "text": [
      "indices started\n"
     ]
    },
    {
     "name": "stderr",
     "output_type": "stream",
     "text": [
      "/glade/u/apps/ch/opt/python/3.7.9/gnu/9.1.0/pkg-library/20201220/lib/python3.7/site-packages/xarray/core/indexing.py:1369: PerformanceWarning: Slicing with an out-of-order index is generating 101 times more chunks\n",
      "  return self.array[key]\n"
     ]
    },
    {
     "name": "stdout",
     "output_type": "stream",
     "text": [
      "indices done\n",
      "Nino done\n",
      "Nina done\n",
      "i\n",
      "Nino done\n",
      "Nina done\n",
      "ii\n",
      "Nino done\n",
      "Nina done\n",
      "iii\n"
     ]
    }
   ],
   "source": [
    "#%%capture\n",
    "ds2 = xr.open_mfdataset(f'{directory_data}{file_cntrl}',\n",
    "                        combine='by_coords',\n",
    "                        preprocess=nino.nino)\n",
    "# reduce dims to time, lat, lon\n",
    "ds2 = ds2.isel(z_t=0)\n",
    "print(\"indices started\")\n",
    "# compute indices\n",
    "control_nino = nino.compute_index(ds2['SST'].groupby('time.month'), ds2['SST'].groupby('time.month').mean(), linear_detrend=False, lat_name='lat')\n",
    "# grab numpy array\n",
    "control_index = control_nino.resample(time='QS-DEC').mean().values\n",
    "print(\"indices done\")\n",
    "# ssts\n",
    "control_nino, control_nina = grab_enso_spatial(\n",
    "                                              ds=ds2.resample(time='QS-DEC').mean(), \n",
    "                                              indices=control_index, \n",
    "                                              year1=801, \n",
    "                                              year2=1599, \n",
    "                                              filename=file_cntrl,\n",
    "                                              cutoff=nino.cutoff, filevar='SST')\n",
    "print(\"i\")\n",
    "# taux\n",
    "dstx = xr.open_mfdataset(f'{directory_data}{taux_cntrl}',\n",
    "                         combine='by_coords',\n",
    "                         preprocess=nino.nino)\n",
    "# grab enso mean spatial maps\n",
    "control_ninotx, control_ninatx = grab_enso_spatial(\n",
    "                                              ds=dstx.resample(time='QS-DEC').mean(), \n",
    "                                              indices=control_index, \n",
    "                                              year1=801, \n",
    "                                              year2=1599, \n",
    "                                              filename=taux_cntrl,\n",
    "                                              cutoff=nino.cutoff, filevar='TAUX')\n",
    "print(\"ii\")\n",
    "# tauy\n",
    "dsty = xr.open_mfdataset(f'{directory_data}{tauy_cntrl}',\n",
    "                         combine='by_coords',\n",
    "                         preprocess=nino.nino)\n",
    "# grab enso mean spatial maps\n",
    "control_ninoty, control_ninaty = grab_enso_spatial(\n",
    "                                              ds=dsty.resample(time='QS-DEC').mean(), \n",
    "                                              indices=control_index, \n",
    "                                              year1=801, \n",
    "                                              year2=1599, \n",
    "                                              filename=tauy_cntrl,\n",
    "                                              cutoff=nino.cutoff, filevar='TAUY')\n",
    "print(\"iii\")"
   ]
  },
  {
   "cell_type": "code",
   "execution_count": 6,
   "metadata": {},
   "outputs": [
    {
     "name": "stdout",
     "output_type": "stream",
     "text": [
      "indices started\n"
     ]
    },
    {
     "name": "stderr",
     "output_type": "stream",
     "text": [
      "/glade/u/apps/ch/opt/python/3.7.9/gnu/9.1.0/pkg-library/20201220/lib/python3.7/site-packages/xarray/core/indexing.py:1369: PerformanceWarning: Slicing with an out-of-order index is generating 51 times more chunks\n",
      "  return self.array[key]\n"
     ]
    },
    {
     "name": "stdout",
     "output_type": "stream",
     "text": [
      "indices done\n",
      "Nino done\n",
      "Nina done\n",
      "i\n",
      "Nino done\n",
      "Nina done\n",
      "ii\n",
      "Nino done\n",
      "Nina done\n",
      "iii\n"
     ]
    }
   ],
   "source": [
    "#%%capture\n",
    "ds1 = xr.open_mfdataset(f'{directory_data}{file_g02sv}',\n",
    "                        combine='by_coords',\n",
    "                        preprocess=nino.nino)\n",
    "# reduce dims to time, lat, lon\n",
    "ds1 = ds1.isel(z_t=0)\n",
    "print(\"indices started\")\n",
    "# compute indices\n",
    "g02sv_nino = nino.compute_index(ds1['SST'].groupby('time.month'), ds2['SST'].groupby('time.month').mean(), linear_detrend=False, lat_name='lat')\n",
    "# grab numpy array\n",
    "g02sv_index = g02sv_nino.resample(time='QS-DEC').mean().values\n",
    "print(\"indices done\")\n",
    "# ssts\n",
    "g02sv_nino, g02sv_nina = grab_enso_spatial(\n",
    "                                              ds=ds1.resample(time='QS-DEC').mean(), \n",
    "                                              indices=g02sv_index, \n",
    "                                              year1=201, \n",
    "                                              year2=500, \n",
    "                                              filename=file_g02sv,\n",
    "                                              cutoff=nino.cutoff, filevar='SST')\n",
    "print(\"i\")\n",
    "# taux\n",
    "dstx = xr.open_mfdataset(f'{directory_data}{taux_g02sv}',\n",
    "                         combine='by_coords',\n",
    "                         preprocess=nino.nino)\n",
    "# grab enso mean spatial maps\n",
    "g02sv_ninotx, g02sv_ninatx = grab_enso_spatial(\n",
    "                                              ds=dstx.resample(time='QS-DEC').mean(), \n",
    "                                              indices=g02sv_index, \n",
    "                                              year1=201, \n",
    "                                              year2=500, \n",
    "                                              filename=taux_g02sv,\n",
    "                                              cutoff=nino.cutoff, filevar='TAUX')\n",
    "print(\"ii\")\n",
    "# tauy\n",
    "dsty = xr.open_mfdataset(f'{directory_data}{tauy_g02sv}',\n",
    "                         combine='by_coords',\n",
    "                         preprocess=nino.nino)\n",
    "# grab enso mean spatial maps\n",
    "g02sv_ninoty, g02sv_ninaty = grab_enso_spatial(\n",
    "                                              ds=dsty.resample(time='QS-DEC').mean(), \n",
    "                                              indices=g02sv_index, \n",
    "                                              year1=201, \n",
    "                                              year2=500, \n",
    "                                              filename=tauy_g02sv,\n",
    "                                              cutoff=nino.cutoff, filevar='TAUY')\n",
    "print(\"iii\")"
   ]
  },
  {
   "cell_type": "code",
   "execution_count": 7,
   "metadata": {},
   "outputs": [
    {
     "name": "stdout",
     "output_type": "stream",
     "text": [
      "indices started\n"
     ]
    },
    {
     "name": "stderr",
     "output_type": "stream",
     "text": [
      "/glade/u/apps/ch/opt/python/3.7.9/gnu/9.1.0/pkg-library/20201220/lib/python3.7/site-packages/xarray/core/indexing.py:1369: PerformanceWarning: Slicing with an out-of-order index is generating 50 times more chunks\n",
      "  return self.array[key]\n"
     ]
    },
    {
     "name": "stdout",
     "output_type": "stream",
     "text": [
      "indices done\n",
      "Nino done\n",
      "Nina done\n",
      "i\n",
      "Nino done\n",
      "Nina done\n",
      "ii\n",
      "Nino done\n",
      "Nina done\n",
      "iii\n"
     ]
    }
   ],
   "source": [
    "#%%capture\n",
    "ds1 = xr.open_mfdataset(f'{directory_data}{file_g04sv}',\n",
    "                        combine='by_coords',\n",
    "                        preprocess=nino.nino)\n",
    "# reduce dims to time, lat, lon\n",
    "ds1 = ds1.isel(z_t=0)\n",
    "print(\"indices started\")\n",
    "# compute indices\n",
    "g04sv_nino = nino.compute_index(ds1['SST'].groupby('time.month'), ds2['SST'].groupby('time.month').mean(), linear_detrend=False, lat_name='lat')\n",
    "# grab numpy array\n",
    "g04sv_index = g04sv_nino.resample(time='QS-DEC').mean().values\n",
    "print(\"indices done\")\n",
    "# ssts\n",
    "g04sv_nino, g04sv_nina = grab_enso_spatial(\n",
    "                                              ds=ds1.resample(time='QS-DEC').mean(), \n",
    "                                              indices=g04sv_index, \n",
    "                                              year1=201, \n",
    "                                              year2=500, \n",
    "                                              filename=file_g04sv,\n",
    "                                              cutoff=nino.cutoff, filevar='SST')\n",
    "print(\"i\")\n",
    "# taux\n",
    "dstx = xr.open_mfdataset(f'{directory_data}{taux_g04sv}',\n",
    "                         combine='by_coords',\n",
    "                         preprocess=nino.nino)\n",
    "# grab enso mean spatial maps\n",
    "g04sv_ninotx, g04sv_ninatx = grab_enso_spatial(\n",
    "                                              ds=dstx.resample(time='QS-DEC').mean(), \n",
    "                                              indices=g04sv_index, \n",
    "                                              year1=201, \n",
    "                                              year2=500, \n",
    "                                              filename=taux_g04sv,\n",
    "                                              cutoff=nino.cutoff, filevar='TAUX')\n",
    "print(\"ii\")\n",
    "# tauy\n",
    "dsty = xr.open_mfdataset(f'{directory_data}{tauy_g04sv}',\n",
    "                         combine='by_coords',\n",
    "                         preprocess=nino.nino)\n",
    "# grab enso mean spatial maps\n",
    "g04sv_ninoty, g04sv_ninaty = grab_enso_spatial(\n",
    "                                              ds=dsty.resample(time='QS-DEC').mean(), \n",
    "                                              indices=g04sv_index, \n",
    "                                              year1=201, \n",
    "                                              year2=500, \n",
    "                                              filename=tauy_g04sv,\n",
    "                                              cutoff=nino.cutoff, filevar='TAUY')\n",
    "print(\"iii\")"
   ]
  },
  {
   "cell_type": "code",
   "execution_count": 8,
   "metadata": {},
   "outputs": [
    {
     "name": "stdout",
     "output_type": "stream",
     "text": [
      "indices started\n"
     ]
    },
    {
     "name": "stderr",
     "output_type": "stream",
     "text": [
      "/glade/u/apps/ch/opt/python/3.7.9/gnu/9.1.0/pkg-library/20201220/lib/python3.7/site-packages/xarray/core/indexing.py:1369: PerformanceWarning: Slicing with an out-of-order index is generating 50 times more chunks\n",
      "  return self.array[key]\n"
     ]
    },
    {
     "name": "stdout",
     "output_type": "stream",
     "text": [
      "indices done\n",
      "Nino done\n",
      "Nina done\n",
      "i\n",
      "Nino done\n",
      "Nina done\n",
      "ii\n",
      "Nino done\n",
      "Nina done\n",
      "iii\n"
     ]
    }
   ],
   "source": [
    "#%%capture\n",
    "ds1 = xr.open_mfdataset(f'{directory_data}{file_p02sv}',\n",
    "                        combine='by_coords',\n",
    "                        preprocess=nino.nino)\n",
    "# reduce dims to time, lat, lon\n",
    "ds1 = ds1.isel(z_t=0)\n",
    "print(\"indices started\")\n",
    "# compute indices\n",
    "p02sv_nino = nino.compute_index(ds1['SST'].groupby('time.month'), ds2['SST'].groupby('time.month').mean(), linear_detrend=False, lat_name='lat')\n",
    "# grab numpy array\n",
    "p02sv_index = p02sv_nino.resample(time='QS-DEC').mean().values\n",
    "print(\"indices done\")\n",
    "# ssts\n",
    "p02sv_nino, p02sv_nina = grab_enso_spatial(\n",
    "                                              ds=ds1.resample(time='QS-DEC').mean(), \n",
    "                                              indices=p02sv_index, \n",
    "                                              year1=201, \n",
    "                                              year2=500, \n",
    "                                              filename=file_p02sv,\n",
    "                                              cutoff=nino.cutoff, filevar='SST')\n",
    "print(\"i\")\n",
    "# taux\n",
    "dstx = xr.open_mfdataset(f'{directory_data}{taux_p02sv}',\n",
    "                         combine='by_coords',\n",
    "                         preprocess=nino.nino)\n",
    "# grab enso mean spatial maps\n",
    "p02sv_ninotx, p02sv_ninatx = grab_enso_spatial(\n",
    "                                              ds=dstx.resample(time='QS-DEC').mean(), \n",
    "                                              indices=p02sv_index, \n",
    "                                              year1=201, \n",
    "                                              year2=500, \n",
    "                                              filename=taux_p02sv,\n",
    "                                              cutoff=nino.cutoff, filevar='TAUX')\n",
    "print(\"ii\")\n",
    "# tauy\n",
    "dsty = xr.open_mfdataset(f'{directory_data}{tauy_p02sv}',\n",
    "                         combine='by_coords',\n",
    "                         preprocess=nino.nino)\n",
    "# grab enso mean spatial maps\n",
    "p02sv_ninoty, p02sv_ninaty = grab_enso_spatial(\n",
    "                                              ds=dsty.resample(time='QS-DEC').mean(), \n",
    "                                              indices=p02sv_index, \n",
    "                                              year1=201, \n",
    "                                              year2=500, \n",
    "                                              filename=tauy_p02sv,\n",
    "                                              cutoff=nino.cutoff, filevar='TAUY')\n",
    "print(\"iii\")"
   ]
  },
  {
   "cell_type": "code",
   "execution_count": 9,
   "metadata": {},
   "outputs": [
    {
     "name": "stdout",
     "output_type": "stream",
     "text": [
      "indices started\n"
     ]
    },
    {
     "name": "stderr",
     "output_type": "stream",
     "text": [
      "/glade/u/apps/ch/opt/python/3.7.9/gnu/9.1.0/pkg-library/20201220/lib/python3.7/site-packages/xarray/core/indexing.py:1369: PerformanceWarning: Slicing with an out-of-order index is generating 50 times more chunks\n",
      "  return self.array[key]\n"
     ]
    },
    {
     "name": "stdout",
     "output_type": "stream",
     "text": [
      "indices done\n",
      "Nino done\n",
      "Nina done\n",
      "i\n",
      "Nino done\n",
      "Nina done\n",
      "ii\n",
      "Nino done\n",
      "Nina done\n",
      "iii\n"
     ]
    }
   ],
   "source": [
    "#%%capture\n",
    "ds1 = xr.open_mfdataset(f'{directory_data}{file_p04sv}',\n",
    "                        combine='by_coords',\n",
    "                        preprocess=nino.nino)\n",
    "# reduce dims to time, lat, lon\n",
    "ds1 = ds1.isel(z_t=0)\n",
    "print(\"indices started\")\n",
    "# compute indices\n",
    "p04sv_nino = nino.compute_index(ds1['SST'].groupby('time.month'), ds2['SST'].groupby('time.month').mean(), linear_detrend=False, lat_name='lat')\n",
    "# grab numpy array\n",
    "p04sv_index = p04sv_nino.resample(time='QS-DEC').mean().values\n",
    "print(\"indices done\")\n",
    "# ssts\n",
    "p04sv_nino, p04sv_nina = grab_enso_spatial(\n",
    "                                              ds=ds1.resample(time='QS-DEC').mean(), \n",
    "                                              indices=p04sv_index, \n",
    "                                              year1=201, \n",
    "                                              year2=500, \n",
    "                                              filename=file_p04sv,\n",
    "                                              cutoff=nino.cutoff, filevar='SST')\n",
    "print(\"i\")\n",
    "# taux\n",
    "dstx = xr.open_mfdataset(f'{directory_data}{taux_p04sv}',\n",
    "                         combine='by_coords',\n",
    "                         preprocess=nino.nino)\n",
    "# grab enso mean spatial maps\n",
    "p04sv_ninotx, p04sv_ninatx = grab_enso_spatial(\n",
    "                                              ds=dstx.resample(time='QS-DEC').mean(), \n",
    "                                              indices=p04sv_index, \n",
    "                                              year1=201, \n",
    "                                              year2=500, \n",
    "                                              filename=taux_p04sv,\n",
    "                                              cutoff=nino.cutoff, filevar='TAUX')\n",
    "print(\"ii\")\n",
    "# tauy\n",
    "dsty = xr.open_mfdataset(f'{directory_data}{tauy_p04sv}',\n",
    "                         combine='by_coords',\n",
    "                         preprocess=nino.nino)\n",
    "# grab enso mean spatial maps\n",
    "p04sv_ninoty, p04sv_ninaty = grab_enso_spatial(\n",
    "                                              ds=dsty.resample(time='QS-DEC').mean(), \n",
    "                                              indices=p04sv_index, \n",
    "                                              year1=201, \n",
    "                                              year2=500, \n",
    "                                              filename=tauy_p04sv,\n",
    "                                              cutoff=nino.cutoff, filevar='TAUY')\n",
    "print(\"iii\")"
   ]
  },
  {
   "cell_type": "code",
   "execution_count": 10,
   "metadata": {},
   "outputs": [
    {
     "name": "stdout",
     "output_type": "stream",
     "text": [
      "indices started\n"
     ]
    },
    {
     "name": "stderr",
     "output_type": "stream",
     "text": [
      "/glade/u/apps/ch/opt/python/3.7.9/gnu/9.1.0/pkg-library/20201220/lib/python3.7/site-packages/xarray/core/indexing.py:1369: PerformanceWarning: Slicing with an out-of-order index is generating 50 times more chunks\n",
      "  return self.array[key]\n"
     ]
    },
    {
     "name": "stdout",
     "output_type": "stream",
     "text": [
      "indices done\n",
      "Nino done\n",
      "Nina done\n",
      "i\n",
      "Nino done\n",
      "Nina done\n",
      "ii\n",
      "Nino done\n",
      "Nina done\n",
      "iii\n"
     ]
    }
   ],
   "source": [
    "#%%capture\n",
    "\n",
    "ds1 = xr.open_mfdataset(f'{directory_data}{file_psalt}',\n",
    "                        combine='by_coords',\n",
    "                        preprocess=nino.nino)\n",
    "# reduce dims to time, lat, lon\n",
    "ds1 = ds1.isel(z_t=0)\n",
    "print(\"indices started\")\n",
    "# compute indices\n",
    "psalt_nino = nino.compute_index(ds1['SST'].groupby('time.month'), ds2['SST'].groupby('time.month').mean(), linear_detrend=False, lat_name='lat')\n",
    "# grab numpy array\n",
    "psalt_index = psalt_nino.resample(time='QS-DEC').mean().values\n",
    "print(\"indices done\")\n",
    "# ssts\n",
    "psalt_nino, psalt_nina = grab_enso_spatial(\n",
    "                                              ds=ds1.resample(time='QS-DEC').mean(), \n",
    "                                              indices=psalt_index, \n",
    "                                              year1=101, \n",
    "                                              year2=250, \n",
    "                                              filename=file_psalt,\n",
    "                                              cutoff=nino.cutoff, filevar='SST')\n",
    "print(\"i\")\n",
    "# taux\n",
    "dstx = xr.open_mfdataset(f'{directory_data}{taux_psalt}',\n",
    "                         combine='by_coords',\n",
    "                         preprocess=nino.nino)\n",
    "# grab enso mean spatial maps\n",
    "psalt_ninotx, psalt_ninatx = grab_enso_spatial(\n",
    "                                              ds=dstx.resample(time='QS-DEC').mean(), \n",
    "                                              indices=psalt_index, \n",
    "                                              year1=101, \n",
    "                                              year2=250, \n",
    "                                              filename=taux_psalt,\n",
    "                                              cutoff=nino.cutoff, filevar='TAUX')\n",
    "print(\"ii\")\n",
    "# tauy\n",
    "dsty = xr.open_mfdataset(f'{directory_data}{tauy_psalt}',\n",
    "                         combine='by_coords',\n",
    "                         preprocess=nino.nino)\n",
    "# grab enso mean spatial maps\n",
    "psalt_ninoty, psalt_ninaty = grab_enso_spatial(\n",
    "                                              ds=dsty.resample(time='QS-DEC').mean(), \n",
    "                                              indices=psalt_index, \n",
    "                                              year1=101, \n",
    "                                              year2=250, \n",
    "                                              filename=tauy_psalt,\n",
    "                                              cutoff=nino.cutoff, filevar='TAUY')\n",
    "print(\"iii\")"
   ]
  },
  {
   "cell_type": "code",
   "execution_count": 11,
   "metadata": {},
   "outputs": [],
   "source": [
    "%%capture\n",
    "cntrl_diff_nino = control_nino.values\n",
    "cntrl_diff_ninotx = np.negative(control_ninotx).values\n",
    "cntrl_diff_ninoty = np.negative(control_ninoty).values"
   ]
  },
  {
   "cell_type": "code",
   "execution_count": 12,
   "metadata": {},
   "outputs": [],
   "source": [
    "%%capture\n",
    "g02sv_diff_nino = (g02sv_nino-control_nino).values\n",
    "g02sv_diff_ninotx = (np.negative(g02sv_ninotx)-np.negative(control_ninotx)).values\n",
    "g02sv_diff_ninoty = (np.negative(g02sv_ninoty)-np.negative(control_ninoty)).values"
   ]
  },
  {
   "cell_type": "code",
   "execution_count": 13,
   "metadata": {},
   "outputs": [],
   "source": [
    "%%capture\n",
    "g04sv_diff_nino = (g04sv_nino-control_nino).values\n",
    "g04sv_diff_ninotx = (np.negative(g04sv_ninotx)-np.negative(control_ninotx)).values\n",
    "g04sv_diff_ninoty = (np.negative(g04sv_ninoty)-np.negative(control_ninoty)).values"
   ]
  },
  {
   "cell_type": "code",
   "execution_count": 14,
   "metadata": {},
   "outputs": [],
   "source": [
    "%%capture\n",
    "p02sv_diff_nino = (p02sv_nino-control_nino).values\n",
    "p02sv_diff_ninotx = (np.negative(p02sv_ninotx)-np.negative(control_ninotx)).values\n",
    "p02sv_diff_ninoty = (np.negative(p02sv_ninoty)-np.negative(control_ninoty)).values"
   ]
  },
  {
   "cell_type": "code",
   "execution_count": 15,
   "metadata": {},
   "outputs": [],
   "source": [
    "%%capture\n",
    "p04sv_diff_nino = (p04sv_nino-control_nino).values\n",
    "p04sv_diff_ninotx = (np.negative(p04sv_ninotx)-np.negative(control_ninotx)).values\n",
    "p04sv_diff_ninoty = (np.negative(p04sv_ninoty)-np.negative(control_ninoty)).values"
   ]
  },
  {
   "cell_type": "code",
   "execution_count": 16,
   "metadata": {},
   "outputs": [],
   "source": [
    "%%capture\n",
    "psalt_diff_nino = (psalt_nino-control_nino).values\n",
    "psalt_diff_ninotx = (np.negative(psalt_ninotx)-np.negative(control_ninotx)).values\n",
    "psalt_diff_ninoty = (np.negative(psalt_ninoty)-np.negative(control_ninoty)).values"
   ]
  },
  {
   "cell_type": "code",
   "execution_count": 17,
   "metadata": {},
   "outputs": [],
   "source": [
    "data_assemble=xr.Dataset({\n",
    "    \n",
    "                 'cntrl_diff_nino':(['ssty','sstx'], cntrl_diff_nino),\n",
    "                 'cntrl_diff_ninotx':(['y','x'], cntrl_diff_ninotx),\n",
    "                 'cntrl_diff_ninoty':(['y','x'], cntrl_diff_ninoty),\n",
    "    \n",
    "                 'g02sv_diff_nino':(['ssty','sstx'], g02sv_diff_nino),\n",
    "                 'g02sv_diff_ninotx':(['y','x'], g02sv_diff_ninotx),\n",
    "                 'g02sv_diff_ninoty':(['y','x'], g02sv_diff_ninoty),\n",
    "    \n",
    "                 'g04sv_diff_nino':(['ssty','sstx'], g04sv_diff_nino),\n",
    "                 'g04sv_diff_ninotx':(['y','x'], g04sv_diff_ninotx),\n",
    "                 'g04sv_diff_ninoty':(['y','x'], g04sv_diff_ninoty),\n",
    "    \n",
    "                 'p02sv_diff_nino':(['ssty','sstx'], p02sv_diff_nino),\n",
    "                 'p02sv_diff_ninotx':(['y','x'], p02sv_diff_ninotx),\n",
    "                 'p02sv_diff_ninoty':(['y','x'], p02sv_diff_ninoty),\n",
    "    \n",
    "                 'p04sv_diff_nino':(['ssty','sstx'], p04sv_diff_nino),\n",
    "                 'p04sv_diff_ninotx':(['y','x'], p04sv_diff_ninotx),\n",
    "                 'p04sv_diff_ninoty':(['y','x'], p04sv_diff_ninoty),\n",
    "    \n",
    "                 'psalt_diff_nino':(['ssty','sstx'], psalt_diff_nino),\n",
    "                 'psalt_diff_ninotx':(['y','x'], psalt_diff_ninotx),\n",
    "                 'psalt_diff_ninoty':(['y','x'], psalt_diff_ninoty),\n",
    "    \n",
    "                },\n",
    "                 coords=\n",
    "                {'lon':(['sstx'], control_nino.coords['lon'].values),\n",
    "                 'lat':(['ssty'], control_nino.coords['lat'].values),\n",
    "                 'lons':(['x'], control_ninotx.coords['lon'].values),\n",
    "                 'lats':(['y'], control_ninotx.coords['lat'].values)\n",
    "                })     "
   ]
  },
  {
   "cell_type": "code",
   "execution_count": 18,
   "metadata": {},
   "outputs": [],
   "source": [
    "data_assemble.to_netcdf(f'{directory_data}fig10_ninodata.nc')"
   ]
  },
  {
   "cell_type": "code",
   "execution_count": 19,
   "metadata": {},
   "outputs": [],
   "source": [
    "%%capture\n",
    "cntrl_diff_nina = control_nina.values\n",
    "cntrl_diff_ninatx = np.negative(control_ninatx).values\n",
    "cntrl_diff_ninaty = np.negative(control_ninaty).values"
   ]
  },
  {
   "cell_type": "code",
   "execution_count": 20,
   "metadata": {},
   "outputs": [],
   "source": [
    "%%capture\n",
    "g02sv_diff_nina = (g02sv_nina-control_nina).values\n",
    "g02sv_diff_ninatx = (np.negative(g02sv_ninatx)-np.negative(control_ninatx)).values\n",
    "g02sv_diff_ninaty = (np.negative(g02sv_ninaty)-np.negative(control_ninaty)).values"
   ]
  },
  {
   "cell_type": "code",
   "execution_count": 21,
   "metadata": {},
   "outputs": [],
   "source": [
    "%%capture\n",
    "g04sv_diff_nina = (g04sv_nina-control_nina).values\n",
    "g04sv_diff_ninatx = (np.negative(g04sv_ninatx)-np.negative(control_ninatx)).values\n",
    "g04sv_diff_ninaty = (np.negative(g04sv_ninaty)-np.negative(control_ninaty)).values"
   ]
  },
  {
   "cell_type": "code",
   "execution_count": 22,
   "metadata": {},
   "outputs": [],
   "source": [
    "%%capture\n",
    "p02sv_diff_nina = (p02sv_nina-control_nina).values\n",
    "p02sv_diff_ninatx = (np.negative(p02sv_ninatx)-np.negative(control_ninatx)).values\n",
    "p02sv_diff_ninaty = (np.negative(p02sv_ninaty)-np.negative(control_ninaty)).values"
   ]
  },
  {
   "cell_type": "code",
   "execution_count": 23,
   "metadata": {},
   "outputs": [],
   "source": [
    "%%capture\n",
    "p04sv_diff_nina = (p04sv_nina-control_nina).values\n",
    "p04sv_diff_ninatx = (np.negative(p04sv_ninatx)-np.negative(control_ninatx)).values\n",
    "p04sv_diff_ninaty = (np.negative(p04sv_ninaty)-np.negative(control_ninaty)).values"
   ]
  },
  {
   "cell_type": "code",
   "execution_count": 24,
   "metadata": {},
   "outputs": [],
   "source": [
    "%%capture\n",
    "psalt_diff_nina = (psalt_nina-control_nina).values\n",
    "psalt_diff_ninatx = (np.negative(psalt_ninatx)-np.negative(control_ninatx)).values\n",
    "psalt_diff_ninaty = (np.negative(psalt_ninaty)-np.negative(control_ninaty)).values"
   ]
  },
  {
   "cell_type": "code",
   "execution_count": 25,
   "metadata": {},
   "outputs": [],
   "source": [
    "data_assemble=xr.Dataset({\n",
    "    \n",
    "                 'cntrl_diff_nina':(['ssty','sstx'], cntrl_diff_nina),\n",
    "                 'cntrl_diff_ninatx':(['y','x'], cntrl_diff_ninatx),\n",
    "                 'cntrl_diff_ninaty':(['y','x'], cntrl_diff_ninaty),\n",
    "    \n",
    "                 'g02sv_diff_nina':(['ssty','sstx'], g02sv_diff_nina),\n",
    "                 'g02sv_diff_ninatx':(['y','x'], g02sv_diff_ninatx),\n",
    "                 'g02sv_diff_ninaty':(['y','x'], g02sv_diff_ninaty),\n",
    "    \n",
    "                 'g04sv_diff_nina':(['ssty','sstx'], g04sv_diff_nina),\n",
    "                 'g04sv_diff_ninatx':(['y','x'], g04sv_diff_ninatx),\n",
    "                 'g04sv_diff_ninaty':(['y','x'], g04sv_diff_ninaty),\n",
    "    \n",
    "                 'p02sv_diff_nina':(['ssty','sstx'], p02sv_diff_nina),\n",
    "                 'p02sv_diff_ninatx':(['y','x'], p02sv_diff_ninatx),\n",
    "                 'p02sv_diff_ninaty':(['y','x'], p02sv_diff_ninaty),\n",
    "    \n",
    "                 'p04sv_diff_nina':(['ssty','sstx'], p04sv_diff_nina),\n",
    "                 'p04sv_diff_ninatx':(['y','x'], p04sv_diff_ninatx),\n",
    "                 'p04sv_diff_ninaty':(['y','x'], p04sv_diff_ninaty),\n",
    "    \n",
    "                 'psalt_diff_nina':(['ssty','sstx'], psalt_diff_nina),\n",
    "                 'psalt_diff_ninatx':(['y','x'], psalt_diff_ninatx),\n",
    "                 'psalt_diff_ninaty':(['y','x'], psalt_diff_ninaty),\n",
    "    \n",
    "                },\n",
    "                 coords=\n",
    "                {'lon':(['sstx'], control_nina.coords['lon'].values),\n",
    "                 'lat':(['ssty'], control_nina.coords['lat'].values),\n",
    "                 'lons':(['x'], control_ninatx.coords['lon'].values),\n",
    "                 'lats':(['y'], control_ninatx.coords['lat'].values)\n",
    "                })     "
   ]
  },
  {
   "cell_type": "code",
   "execution_count": 26,
   "metadata": {},
   "outputs": [],
   "source": [
    "data_assemble.to_netcdf(f'{directory_data}fig11_ninadata.nc')"
   ]
  },
  {
   "cell_type": "code",
   "execution_count": null,
   "metadata": {},
   "outputs": [],
   "source": []
  }
 ],
 "metadata": {
  "kernelspec": {
   "display_name": "Python [conda env:miniconda3-python-tutorial]",
   "language": "python",
   "name": "conda-env-miniconda3-python-tutorial-py"
  },
  "language_info": {
   "codemirror_mode": {
    "name": "ipython",
    "version": 3
   },
   "file_extension": ".py",
   "mimetype": "text/x-python",
   "name": "python",
   "nbconvert_exporter": "python",
   "pygments_lexer": "ipython3",
   "version": "3.7.3"
  }
 },
 "nbformat": 4,
 "nbformat_minor": 4
}
