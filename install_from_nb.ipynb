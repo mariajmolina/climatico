{
 "cells": [
  {
   "cell_type": "markdown",
   "metadata": {},
   "source": [
    "### Run below command within python environment to reinstall after making updates to climatico"
   ]
  },
  {
   "cell_type": "code",
   "execution_count": 2,
   "metadata": {},
   "outputs": [
    {
     "name": "stdout",
     "output_type": "stream",
     "text": [
      "running install\n",
      "running bdist_egg\n",
      "running egg_info\n",
      "writing climatico.egg-info/PKG-INFO\n",
      "writing dependency_links to climatico.egg-info/dependency_links.txt\n",
      "writing top-level names to climatico.egg-info/top_level.txt\n",
      "reading manifest file 'climatico.egg-info/SOURCES.txt'\n",
      "writing manifest file 'climatico.egg-info/SOURCES.txt'\n",
      "installing library code to build/bdist.linux-x86_64/egg\n",
      "running install_lib\n",
      "running build_py\n",
      "creating build/bdist.linux-x86_64/egg\n",
      "creating build/bdist.linux-x86_64/egg/climatico\n",
      "copying build/lib/climatico/enso.py -> build/bdist.linux-x86_64/egg/climatico\n",
      "copying build/lib/climatico/util.py -> build/bdist.linux-x86_64/egg/climatico\n",
      "copying build/lib/climatico/__init__.py -> build/bdist.linux-x86_64/egg/climatico\n",
      "copying build/lib/climatico/config.py -> build/bdist.linux-x86_64/egg/climatico\n",
      "copying build/lib/climatico/annual_cycle.py -> build/bdist.linux-x86_64/egg/climatico\n",
      "byte-compiling build/bdist.linux-x86_64/egg/climatico/enso.py to enso.cpython-37.pyc\n",
      "byte-compiling build/bdist.linux-x86_64/egg/climatico/util.py to util.cpython-37.pyc\n",
      "byte-compiling build/bdist.linux-x86_64/egg/climatico/__init__.py to __init__.cpython-37.pyc\n",
      "byte-compiling build/bdist.linux-x86_64/egg/climatico/config.py to config.cpython-37.pyc\n",
      "byte-compiling build/bdist.linux-x86_64/egg/climatico/annual_cycle.py to annual_cycle.cpython-37.pyc\n",
      "creating build/bdist.linux-x86_64/egg/EGG-INFO\n",
      "copying climatico.egg-info/PKG-INFO -> build/bdist.linux-x86_64/egg/EGG-INFO\n",
      "copying climatico.egg-info/SOURCES.txt -> build/bdist.linux-x86_64/egg/EGG-INFO\n",
      "copying climatico.egg-info/dependency_links.txt -> build/bdist.linux-x86_64/egg/EGG-INFO\n",
      "copying climatico.egg-info/top_level.txt -> build/bdist.linux-x86_64/egg/EGG-INFO\n",
      "zip_safe flag not set; analyzing archive contents...\n",
      "creating 'dist/climatico-0.9-py3.7.egg' and adding 'build/bdist.linux-x86_64/egg' to it\n",
      "removing 'build/bdist.linux-x86_64/egg' (and everything under it)\n",
      "Processing climatico-0.9-py3.7.egg\n",
      "Removing /glade/u/home/molina/.local/lib/python3.7/site-packages/climatico-0.9-py3.7.egg\n",
      "Copying climatico-0.9-py3.7.egg to /glade/u/home/molina/.local/lib/python3.7/site-packages\n",
      "climatico 0.9 is already the active version in easy-install.pth\n",
      "\n",
      "Installed /glade/u/home/molina/.local/lib/python3.7/site-packages/climatico-0.9-py3.7.egg\n",
      "Processing dependencies for climatico==0.9\n",
      "Finished processing dependencies for climatico==0.9\n"
     ]
    }
   ],
   "source": [
    "! python3 setup.py install --user --force"
   ]
  },
  {
   "cell_type": "markdown",
   "metadata": {},
   "source": [
    "### Testing reinstall updates..."
   ]
  },
  {
   "cell_type": "code",
   "execution_count": 2,
   "metadata": {},
   "outputs": [
    {
     "data": {
      "text/plain": [
       "array([ -3,  20, 170, 270])"
      ]
     },
     "execution_count": 2,
     "metadata": {},
     "output_type": "execute_result"
    }
   ],
   "source": [
    "from climatico import enso\n",
    "nino = enso.DefineNino(nino='npacitcz', lats='lat', lons='lon', cutoff=0.5, runningmean=3)\n",
    "nino.nino_dict()"
   ]
  },
  {
   "cell_type": "markdown",
   "metadata": {},
   "source": [
    "### Uninstalling from nb (demo) within python environment"
   ]
  },
  {
   "cell_type": "code",
   "execution_count": 11,
   "metadata": {},
   "outputs": [
    {
     "name": "stdout",
     "output_type": "stream",
     "text": [
      "Found existing installation: climatico 0.9\n",
      "Uninstalling climatico-0.9:\n",
      "  Successfully uninstalled climatico-0.9\n"
     ]
    }
   ],
   "source": [
    "! pip uninstall climatico -y"
   ]
  }
 ],
 "metadata": {
  "kernelspec": {
   "display_name": "Python [conda env:miniconda3-python-tutorial]",
   "language": "python",
   "name": "conda-env-miniconda3-python-tutorial-python3_myenv"
  },
  "language_info": {
   "codemirror_mode": {
    "name": "ipython",
    "version": 3
   },
   "file_extension": ".py",
   "mimetype": "text/x-python",
   "name": "python",
   "nbconvert_exporter": "python",
   "pygments_lexer": "ipython3",
   "version": "3.7.3"
  }
 },
 "nbformat": 4,
 "nbformat_minor": 4
}
